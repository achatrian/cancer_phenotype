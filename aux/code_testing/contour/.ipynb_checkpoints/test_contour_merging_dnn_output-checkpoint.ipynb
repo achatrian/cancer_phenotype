{
 "cells": [
  {
   "cell_type": "code",
   "execution_count": 1,
   "metadata": {},
   "outputs": [],
   "source": [
    "import os\n",
    "import sys\n",
    "sys.path.extend(['../../..', '../../base'])\n",
    "from pathlib import Path\n",
    "import json\n",
    "import copy\n",
    "import numpy as np\n",
    "import cv2\n",
    "from matplotlib import pyplot as plt\n",
    "from scipy.spatial.distance import cdist\n",
    "from base.utils.annotation_builder import AnnotationBuilder\n",
    "from quant import read_annotations, contour_to_mask, mark_point_on_mask"
   ]
  },
  {
   "cell_type": "code",
   "execution_count": 2,
   "metadata": {},
   "outputs": [
    {
     "name": "stderr",
     "output_type": "stream",
     "text": [
      "../../../base/utils/annotation_builder.py:52: UserWarning: No available metadata for 17_A047-4463_153D+-+2017-05-11+09.40.22\n",
      "  warnings.warn(f\"No available metadata for {obj['slide_id']}\")\n"
     ]
    }
   ],
   "source": [
    "annotation_path = Path('/home/andrea/Documents/Repositories/AIDA/dist/data/annotations/17_A047-4463_153D+-+2017-05-11+09.40.22.json')\n",
    "annotation = AnnotationBuilder.from_annotation_path(annotation_path)"
   ]
  },
  {
   "cell_type": "code",
   "execution_count": 3,
   "metadata": {},
   "outputs": [],
   "source": [
    "# contour_struct = read_annotations(annotation_path.parents[2])"
   ]
  },
  {
   "cell_type": "code",
   "execution_count": 4,
   "metadata": {},
   "outputs": [
    {
     "name": "stdout",
     "output_type": "stream",
     "text": [
      "86 86\n"
     ]
    }
   ],
   "source": [
    "contours, name = annotation.get_layer_points('epithelium', contour_format=True)\n",
    "centroids = np.array(annotation.get_paths_centroids('epithelium'))\n",
    "print(len(contours), len(centroids))\n",
    "dist_matrix = cdist(centroids, centroids, 'euclidean')\n",
    "# TODO extract close contours for example and test merging -- must make indepenedt of tile_rects"
   ]
  },
  {
   "cell_type": "code",
   "execution_count": 5,
   "metadata": {},
   "outputs": [],
   "source": [
    "# mins_idx = []\n",
    "# for contour in contours:\n",
    "#     mins_idx.append(np.argmin(contour.squeeze()[:, 1]))\n",
    "#     if mins_idx[-1] != 0:\n",
    "#         print(contour.squeeze()[0, 0] - contour.squeeze()[mins_idx[-1], 0], contour.squeeze()[0, 1] - contour.squeeze()[mins_idx[-1], 1])\n",
    "#         #first point is top point with 1 pixel error in contours produced by cv2.findContours\n",
    "# print(mins_idx)"
   ]
  },
  {
   "cell_type": "code",
   "execution_count": 6,
   "metadata": {},
   "outputs": [],
   "source": [
    "# Parameters\n",
    "idx = 50\n",
    "centroid_thresh, closeness_thresh, dissimilarity_thresh = 500.0, 500.0, 500.0"
   ]
  },
  {
   "cell_type": "code",
   "execution_count": 7,
   "metadata": {},
   "outputs": [
    {
     "data": {
      "text/plain": [
       "3"
      ]
     },
     "execution_count": 7,
     "metadata": {},
     "output_type": "execute_result"
    }
   ],
   "source": [
    "close_contour_idx = np.where(dist_matrix[idx, :] < centroid_thresh)[0]\n",
    "closest_contour_idx = np.argmin(dist_matrix[idx, list(range(idx)) + list(range(idx+1, dist_matrix.shape[1]))])  # find closest contour\n",
    "close_contours = tuple(contours[idx] for idx in close_contour_idx)\n",
    "assert contours[idx] is not contours[closest_contour_idx]\n",
    "len(close_contours)"
   ]
  },
  {
   "cell_type": "code",
   "execution_count": 8,
   "metadata": {},
   "outputs": [
    {
     "data": {
      "image/png": "[encoded data removed]",
      "text/plain": [
       "<Figure size 432x288 with 4 Axes>"
      ]
     },
     "metadata": {
      "needs_background": "light"
     },
     "output_type": "display_data"
    }
   ],
   "source": [
    "fig, axes = plt.subplots(2, (len(close_contours) + 1) // 2)\n",
    "axes = axes.flatten()\n",
    "for i, contour in enumerate(close_contours):\n",
    "    if contour is contours[idx]:\n",
    "        axes[i].set_title('contour 0')\n",
    "    mask = contour_to_mask(contour)\n",
    "    axes[i].imshow(mask)"
   ]
  },
  {
   "cell_type": "code",
   "execution_count": 9,
   "metadata": {},
   "outputs": [
    {
     "name": "stdout",
     "output_type": "stream",
     "text": [
      "horizontal\n",
      "vertical\n",
      "contained\n"
     ]
    }
   ],
   "source": [
    "bb0 = cv2.boundingRect(contours[idx])\n",
    "check_results = []\n",
    "closest_rect_positions = 'none'\n",
    "for contour in close_contours:\n",
    "    bb1 = cv2.boundingRect(contour)\n",
    "    rects_positions, origin_rect, rect_areas = AnnotationBuilder.check_relative_rect_positions(bb0, bb1, eps=20)\n",
    "    print(rects_positions)\n",
    "    check_results.append((rects_positions, origin_rect, rect_areas))\n",
    "    if contour is contours[closest_contour_idx]:\n",
    "        bb_closest = bb1\n",
    "        closest_rect_positions = rects_positions"
   ]
  },
  {
   "cell_type": "code",
   "execution_count": 10,
   "metadata": {},
   "outputs": [
    {
     "name": "stdout",
     "output_type": "stream",
     "text": [
      "41 80 | 0 or 1? 0\n"
     ]
    }
   ],
   "source": [
    "# extract items and their points for processing\n",
    "pick_contour = 0\n",
    "idx1 = close_contour_idx[pick_contour]\n",
    "item0 = annotation['epithelium']['items'][idx]\n",
    "item1 = annotation['epithelium']['items'][idx1]\n",
    "assert item0 is not item1\n",
    "points_near, points_far = (tuple(annotation.item_points(item0 if origin_rect == 0 else item1)),\n",
    "                           tuple(annotation.item_points(item0 if origin_rect == 1 else item1)))\n",
    "print(len(points_near), len(points_far), '| 0 or 1?', int(points_near != tuple(annotation.item_points(item0))))\n",
    "if closest_rect_positions == 'overlap':\n",
    "    # if contours overlap, remove overlapping points from the bottom / rightmost contour\n",
    "    points_far = self.remove_overlapping_points(points_near, points_far)\n",
    "    print(\"After removing from point far len is \", len(points_far))"
   ]
  },
  {
   "cell_type": "code",
   "execution_count": 11,
   "metadata": {},
   "outputs": [
    {
     "name": "stdout",
     "output_type": "stream",
     "text": [
      "bb0 (44820, 22926, 236, 215) bb1 (45056, 22891, 434, 254) horizontal\n",
      "{'pns': (45055, 22926), 'pne': (44963, 23140), 'pfs': (45124, 23144), 'pfe': (45063, 22891)}\n"
     ]
    }
   ],
   "source": [
    "# check out points on masks\n",
    "contour_near = contours[idx] if origin_rect == 0 else contours[idx1]\n",
    "contour_far = contours[idx] if origin_rect == 1 else contours[idx1]\n",
    "assert np.array_equal(np.array(points_near).astype(np.int32)[:, np.newaxis, :], contour_near)  # points and contour are the same\n",
    "assert np.array_equal(np.array(points_far).astype(np.int32)[:, np.newaxis, :], contour_far)\n",
    "mask0 = contour_to_mask(contour_near).astype(np.uint8)\n",
    "mask1 = contour_to_mask(contour_far).astype(np.uint8)\n",
    "contour_rect0 = cv2.boundingRect(contour_near)\n",
    "contour_rect1 = cv2.boundingRect(contour_far)\n",
    "# closest_points, point_dist = annotation.find_closest_points(annotation.euclidean_dist,\n",
    "#                                                             points_near, points_far,\n",
    "#                                                             contour_rect0, contour_rect1,\n",
    "#                                                             check_results[pick_contour][0],\n",
    "#                                                             closeness_thresh)\n",
    "extreme_points = annotation.find_extreme_points(points_near, points_far, check_results[pick_contour][0], closeness_thresh)\n",
    "print('bb0', contour_rect0, 'bb1', contour_rect1, check_results[pick_contour][0])\n",
    "print(extreme_points)"
   ]
  },
  {
   "cell_type": "code",
   "execution_count": 12,
   "metadata": {},
   "outputs": [
    {
     "data": {
      "text/plain": [
       "<matplotlib.image.AxesImage at 0x7fe31bedfcc0>"
      ]
     },
     "execution_count": 12,
     "metadata": {},
     "output_type": "execute_result"
    },
    {
     "data": {
      "image/png": "[encoded data removed]",
      "text/plain": [
       "<Figure size 432x288 with 2 Axes>"
      ]
     },
     "metadata": {
      "needs_background": "light"
     },
     "output_type": "display_data"
    }
   ],
   "source": [
    "mask0ex = mark_point_on_mask(mask0.astype(np.uint8), extreme_points['pns'], contour_rect0, value=50, radius=20)\n",
    "mask0ex = mark_point_on_mask(mask0ex, extreme_points['pne'], contour_rect0, value=100, radius=20)\n",
    "# for p in points_near:\n",
    "#     mask0ex= mark_point_on_mask(mask0ex, p, contour_rect0, value=30, radius=5)\n",
    "mask1ex = mark_point_on_mask(mask1.astype(np.uint8), extreme_points['pfs'], contour_rect1, value=50, radius=20)\n",
    "mask1ex = mark_point_on_mask(mask1ex, extreme_points['pfe'], contour_rect1, value=100, radius=20)\n",
    "fig, axes = plt.subplots(1, 2)\n",
    "axes[0].imshow(mask0ex); axes[1].imshow(mask1ex)\n",
    "# looks good !"
   ]
  },
  {
   "cell_type": "code",
   "execution_count": 13,
   "metadata": {},
   "outputs": [
    {
     "name": "stdout",
     "output_type": "stream",
     "text": [
      "(45046, 22928) (44820, 22926, 236, 215)\n"
     ]
    },
    {
     "data": {
      "image/png": "[encoded data removed]",
      "text/plain": [
       "<Figure size 432x288 with 1 Axes>"
      ]
     },
     "metadata": {
      "needs_background": "light"
     },
     "output_type": "display_data"
    }
   ],
   "source": [
    "mask0extremes = mark_point_on_mask(mask0.astype(np.uint8), points_near[0], contour_rect0, value=50, radius=20)\n",
    "mask0extremes = mark_point_on_mask(mask0extremes, points_near[-1], contour_rect0, value=100, radius=20)\n",
    "plt.imshow(mask0extremes)\n",
    "print(points_near[0], contour_rect0)"
   ]
  },
  {
   "cell_type": "code",
   "execution_count": 14,
   "metadata": {},
   "outputs": [
    {
     "data": {
      "text/plain": [
       "<matplotlib.image.AxesImage at 0x7fe31d48d940>"
      ]
     },
     "execution_count": 14,
     "metadata": {},
     "output_type": "execute_result"
    },
    {
     "data": {
      "image/png": "[encoded data removed]",
      "text/plain": [
       "<Figure size 432x288 with 1 Axes>"
      ]
     },
     "metadata": {
      "needs_background": "light"
     },
     "output_type": "display_data"
    }
   ],
   "source": [
    "# checked merged mask and points\n",
    "outer_points, point_memberships = annotation.get_merged(points_near, points_far, extreme_points)\n",
    "outer_contour = np.array(outer_points).astype(np.int32)[:, np.newaxis, :] \n",
    "merged_mask = contour_to_mask(outer_contour)\n",
    "merged_maskp = copy.deepcopy(merged_mask)\n",
    "colors = np.linspace(0, 240, len(outer_points))\n",
    "for point, value, membership in zip(outer_points, colors, point_memberships):\n",
    "    m_color = 50 if membership else 150\n",
    "    merged_maskp = mark_point_on_mask(merged_maskp.astype(np.uint8), point, cv2.boundingRect(outer_contour), value=m_color, radius=10)\n",
    "plt.imshow(merged_maskp)"
   ]
  },
  {
   "cell_type": "code",
   "execution_count": null,
   "metadata": {},
   "outputs": [],
   "source": [
    "# check vertical example ?"
   ]
  }
 ],
 "metadata": {
  "kernelspec": {
   "display_name": "Python 3",
   "language": "python",
   "name": "python3"
  },
  "language_info": {
   "codemirror_mode": {
    "name": "ipython",
    "version": 3
   },
   "file_extension": ".py",
   "mimetype": "text/x-python",
   "name": "python",
   "nbconvert_exporter": "python",
   "pygments_lexer": "ipython3",
   "version": "3.7.2"
  }
 },
 "nbformat": 4,
 "nbformat_minor": 2
}
