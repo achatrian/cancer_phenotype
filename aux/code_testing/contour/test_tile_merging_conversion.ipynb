{
 "cells": [
  {
   "cell_type": "code",
   "execution_count": 15,
   "metadata": {},
   "outputs": [],
   "source": [
    "import os\n",
    "from pathlib import Path\n",
    "import sys\n",
    "sys.path.extend(['../../', '../../base'])\n",
    "import re\n",
    "import numpy as np\n",
    "import imageio\n",
    "import cv2\n",
    "import matplotlib.pyplot as plt\n",
    "from base.utils.mask_converter import MaskConverter\n",
    "from base.utils.annotation_builder import AnnotationBuilder\n",
    "from base.data import create_dataset, create_dataloader\n",
    "from base.options.train_options import TrainOptions\n",
    "from base.utils import utils"
   ]
  },
  {
   "cell_type": "code",
   "execution_count": 16,
   "metadata": {},
   "outputs": [],
   "source": [
    "converter = MaskConverter(min_contour_area=10000)\n",
    "aida_ann = AnnotationBuilder('17_A047-4463_153D+-+2017-05-11+09.40.22.ndpi', 'test', ['epithelium', 'lumen', 'background'])"
   ]
  },
  {
   "cell_type": "code",
   "execution_count": 17,
   "metadata": {},
   "outputs": [],
   "source": [
    "tile_dir_path = '/mnt/rescomp/users/achatrian/ProstateCancer/Dataset/train'\n",
    "tile_dirs = list(Path(tile_dir_path).glob('./17_A047-4463_153D+-+2017-05-11+09.40.22*'))\n",
    "tile_paths = []\n",
    "for tile_dir in tile_dirs:\n",
    "    tile_paths.extend(list(str(path) for path in Path(tile_dir/'tiles').iterdir() if '_mask_' in str(path)))\n",
    "assert tile_paths"
   ]
  },
  {
   "cell_type": "code",
   "execution_count": 18,
   "metadata": {},
   "outputs": [
    {
     "name": "stdout",
     "output_type": "stream",
     "text": [
      "['--task=segment', '--dataset_name=areatiles', '--data_dir=/mnt/rescomp/users/achatrian/ProstateCancer/Dataset', '--slide_id=17_A047-4463_153D+-+2017-05-11+09.40.22', '--batch_size=10', '--gpu_ids=-1', '--segment_lumen', '--patch_size=2048', '--fine_size=2048']\n",
      "['--slide_id=17_A047-4463_153D+-+2017-05-11+09.40.22', '--batch_size=10', '--gpu_ids=-1', '--segment_lumen', '--patch_size=2048', '--fine_size=2048']\n"
     ]
    }
   ],
   "source": [
    "print(sys.argv)\n",
    "sys.argv[:3] = ''  # cannot assignargv,but can modify it\n",
    "print(sys.argv)"
   ]
  },
  {
   "cell_type": "code",
   "execution_count": 19,
   "metadata": {},
   "outputs": [
    {
     "name": "stdout",
     "output_type": "stream",
     "text": [
      "----------------- Options ---------------\n",
      "                  augment: 0                             \n",
      "              augment_dir:                               \n",
      "            augment_level: 0                             \n",
      "               batch_size: 10                            \t[default: 16]\n",
      "                    beta1: 0.5                           \n",
      "          checkpoints_dir:                               \n",
      "           continue_train: False                         \n",
      "           coords_pattern: \\((\\w\\.\\w{1,3}),(\\w{1,6}),(\\w{1,6}),(\\w{1,6}),(\\w{1,6})\\)_img_(\\w{1,6}),(\\w{1,6})\n",
      "                 data_dir: /mnt/rescomp/users/achatrian/ProstateCancer/Dataset\t[default: /gpfs0/well/rittscher/users/achatrian/ProstateCancer/Dataset]\n",
      "             dataset_name: areatiles                     \n",
      "                    depth: 6                             \n",
      "              display_env: main                          \n",
      "             display_freq: 400                           \n",
      "               display_id: 1                             \n",
      "            display_ncols: 4                             \n",
      "             display_port: 8097                          \n",
      "           display_server: http://localhost              \n",
      "          display_winsize: 256                           \n",
      "              epoch_count: 1                             \n",
      "                     eval: False                         \n",
      "          experiment_name: experiment_name               \n",
      "         filter_multiples:                               \n",
      "                fine_size: 2048                          \t[default: 512]\n",
      "           fork_processes: False                         \n",
      "                  gpu_ids: -1                            \t[default: 0]\n",
      "                init_gain: 0.02                          \n",
      "                init_type: normal                        \n",
      "           input_channels: 3                             \n",
      "                 is_apply: None                          \n",
      "                 is_train: True                          \t[default: None]\n",
      "            learning_rate: 0.0001                        \n",
      "   learning_rate_patience: 50                            \n",
      "               load_epoch: latest                        \n",
      "                load_iter: 0                             \n",
      "              loss_weight: None                          \n",
      "                 losstype: ce                            \n",
      "                       lr: 0.0002                        \n",
      "           lr_decay_iters: 50                            \n",
      "                lr_policy: lambda                        \n",
      "             max_multiple: 32                            \n",
      "                    model: UNet                          \n",
      "                   nepoch: 100                           \n",
      "             nepoch_decay: 100                           \n",
      "                  no_html: False                         \n",
      "                num_class: 3                             \n",
      "              num_filters: 15                            \n",
      "               patch_size: 2048                          \t[default: 1024]\n",
      "                    phase: train                         \n",
      "               print_freq: 100                           \n",
      "               reg_weight: 0.0005                        \n",
      "        regularizer_coeff: 0.001                         \n",
      "             save_by_iter: False                         \n",
      "          save_epoch_freq: 50                            \n",
      "         save_latest_freq: 5000                          \n",
      "            segment_lumen: True                          \t[default: False]\n",
      "      set_visible_devices: True                          \t[default: y]\n",
      "                 slide_id: 17_A047-4463_153D+-+2017-05-11+09.40.22\t[default: ]\n",
      "                     task: segment                       \n",
      "         update_html_freq: 1000                          \n",
      "           val_batch_size: 20                            \n",
      "           val_epoch_freq: 10                            \n",
      "                  verbose: False                         \n",
      "             weight_decay: 0.0005                        \n",
      "                  workers: 4                             \n",
      "----------------- End -------------------\n",
      "dataset [AreaTiles] was created \n"
     ]
    }
   ],
   "source": [
    "sys.argv.extend(['--task=segment',\n",
    "                 '--dataset_name=areatiles', \n",
    "                 '--data_dir=/mnt/rescomp/users/achatrian/ProstateCancer/Dataset',\n",
    "                 '--slide_id=17_A047-4463_153D+-+2017-05-11+09.40.22',\n",
    "                 '--batch_size=10',\n",
    "                 '--gpu_ids=-1',\n",
    "                 '--segment_lumen',\n",
    "                 '--patch_size=2048',\n",
    "                 '--fine_size=2048'\n",
    "                ])\n",
    "opt = TrainOptions().parse()\n",
    "dataset = create_dataset(opt)\n",
    "dataloader = create_dataloader(dataset)"
   ]
  },
  {
   "cell_type": "code",
   "execution_count": 20,
   "metadata": {},
   "outputs": [
    {
     "data": {
      "text/plain": [
       "True"
      ]
     },
     "execution_count": 20,
     "metadata": {},
     "output_type": "execute_result"
    }
   ],
   "source": [
    "len(dataset) == len(tile_paths)"
   ]
  },
  {
   "cell_type": "code",
   "execution_count": 21,
   "metadata": {},
   "outputs": [],
   "source": [
    "def add_to_ann(ann, contours, labels, boxes):\n",
    "    for contour, label, box in zip(contours, labels, boxes):\n",
    "        ann.add_item(label, 'path', tile_rect=box)\n",
    "        contour = contour.squeeze().astype(int).tolist()  # deal with extra dim at pos 1\n",
    "        ann.add_segments_to_last_item(contour)"
   ]
  },
  {
   "cell_type": "code",
   "execution_count": 22,
   "metadata": {},
   "outputs": [],
   "source": [
    "use_dataset = True\n",
    "x_offsets, y_offsets, image_paths, n_contours = [], [], [], 0\n",
    "if use_dataset:\n",
    "    for data in dataloader:  \n",
    "        for map_, slide_id, offset_x, offset_y, image_path in zip(\n",
    "                data['target'], data['slide_id'], data['x_offset'], data['y_offset'], data['target_path']):\n",
    "            contours, labels, boxes = converter.mask_to_contour(map_, offset_x, offset_y)\n",
    "            n_contours += len(contours)\n",
    "            add_to_ann(aida_ann, contours, labels, boxes)\n",
    "            x_offsets.append(offset_x)\n",
    "            y_offsets.append(offset_y)\n",
    "            image_paths.append(image_path)\n",
    "    x_offsets = [x for _, x in sorted(zip(image_paths, x_offsets), key=lambda pair: pair[0])]\n",
    "    y_offsets = [x for _, x in sorted(zip(image_paths, y_offsets), key=lambda pair: pair[0])]\n",
    "    image_paths = sorted(image_paths)"
   ]
  },
  {
   "cell_type": "code",
   "execution_count": 23,
   "metadata": {},
   "outputs": [],
   "source": [
    "use_dataset = True\n",
    "if not use_dataset:\n",
    "    x_offsets0, y_offsets0, image_paths0, n_contours0 = [], [], [], 0\n",
    "    aida_ann0 = AnnotationBuilder('17_A047-4463_153D+-+2017-05-11+09.40.22.ndpi', 'test', ['epithelium', 'lumen', 'background'])\n",
    "    # extract offset coords from tile name\n",
    "    coords_pattern = '\\((\\w\\.\\w{1,3}),(\\w{1,6}),(\\w{1,6}),(\\w{1,6}),(\\w{1,6})\\)_mask_(\\w{1,6}),(\\w{1,6})'\n",
    "    for tile_path in tile_paths:  # test on subsets of the tiles\n",
    "        tile = imageio.imread(tile_path)\n",
    "        coords_info = re.search(coords_pattern, Path(tile_path).name).groups()  # tuple with all matched groups\n",
    "        downsample = float(coords_info[0])  # downsample is a float\n",
    "        area_x, area_y, area_w, area_h, tile_x, tile_y = tuple(int(num) for num in coords_info[1:])\n",
    "        x_offset = area_x + tile_x\n",
    "        y_offset = area_y + tile_y\n",
    "        contours, labels, boxes = converter.mask_to_contour(tile, x_offset, y_offset)\n",
    "        n_contours0 += len(contours)\n",
    "        add_to_ann(aida_ann0, contours, labels, boxes)\n",
    "        x_offsets0.append(x_offset)\n",
    "        y_offsets0.append(y_offset)\n",
    "        image_paths0.append(tile_path)\n",
    "    x_offsets0 = [x for _, x in sorted(zip(image_paths0, x_offsets0), key=lambda pair: pair[0])]\n",
    "    y_offsets0 = [x for _, x in sorted(zip(image_paths0, y_offsets0), key=lambda pair: pair[0])]\n",
    "    image_paths0 = sorted(image_paths0)\n",
    "    \n",
    "    print(image_paths == image_paths0)\n",
    "    #print(next((im0, im1) for im0, im1 in zip(image_paths, image_paths0) if im0 != im1))\n",
    "    print(image_paths[0])\n",
    "    print(image_paths0[0])\n",
    "    \n",
    "    print(x_offsets == x_offsets0)\n",
    "    print(y_offsets == y_offsets0)\n",
    "    \n",
    "    print(len(aida_ann._obj['layers'][0]['items']))\n",
    "    print(len(aida_ann0._obj['layers'][0]['items']))\n",
    "    \n",
    "    print(n_contours, n_contours0)"
   ]
  },
  {
   "cell_type": "code",
   "execution_count": 11,
   "metadata": {},
   "outputs": [],
   "source": [
    "import torch\n",
    "# debug dataset -- why is te number of contours different?\n",
    "def plot_before_after(im1, im2):\n",
    "    fig, axes = plt.subplots(1, 2)\n",
    "    axes[0].imshow(im1)\n",
    "    axes[1].imshow(im2)\n",
    "\n",
    "def tensor2im(input_image, segmap=False, num_classes=3, imtype=np.uint8, visual=True):\n",
    "    if isinstance(input_image, torch.Tensor):\n",
    "        image_tensor = input_image.data\n",
    "    else:\n",
    "        return input_image\n",
    "    image_numpy = image_tensor.cpu().float().numpy()  # taking the first image only NO MORE\n",
    "    if image_numpy.shape[0] == 1:\n",
    "        image_numpy = np.tile(image_numpy, (3, 1, 1))\n",
    "\n",
    "    if segmap:\n",
    "        image_numpy = segmap2img(image_numpy, num_classes=num_classes)\n",
    "    else:\n",
    "        image_numpy = (np.transpose(image_numpy, (1, 2, 0)) + 1) / 2.0 * 255.0\n",
    "        # for segmentation maps with four classes\n",
    "    if image_numpy.ndim == 2 and visual:\n",
    "        image_numpy = image_numpy[:, :, np.newaxis].repeat(3, axis=2)\n",
    "    return image_numpy.astype(imtype)\n",
    "\n",
    "\n",
    "def segmap2img(segmap, num_classes=None):\n",
    "    \"\"\"\n",
    "    color coding segmap into an image\n",
    "    \"\"\"\n",
    "    if len(segmap.shape) > 2:\n",
    "        # multichannel segmap, one channel per class\n",
    "        segmap = segmap.transpose(1, 2, 0)\n",
    "        image = np.argmax(segmap, axis=2)\n",
    "        if segmap.shape[2] == 4:\n",
    "            image[image == 1] = 160\n",
    "            image[image == 2] = 200\n",
    "            image[image == 3] = 250\n",
    "        elif segmap.shape[2] == 3:\n",
    "            image[image == 1] = 200\n",
    "            image[image == 2] = 250\n",
    "        elif segmap.shape[2] == 2:\n",
    "            image[image == 1] = 250\n",
    "        else:\n",
    "            raise ValueError(\"Conversion of map to image not supported for shape {}\".format(segmap.shape))\n",
    "    elif num_classes:\n",
    "        num_labels = len(np.unique(segmap))\n",
    "        if num_labels > num_classes:\n",
    "            raise ValueError(f\"More labels than classes in segmap ({num_labels} > {num_classes}\")\n",
    "        if num_classes == 2:\n",
    "            segmap *= 2\n",
    "        elif num_classes == 3:\n",
    "            segmap[segmap == 1] = 200\n",
    "            segmap[segmap == 2] = 250\n",
    "        elif num_classes == 4:\n",
    "            segmap[segmap == 1] = 160\n",
    "            segmap[segmap == 2] = 200\n",
    "            segmap[segmap == 3] = 250\n",
    "        else:\n",
    "            raise NotImplementedError(f\"Can't handle {num_classes} classes\")\n",
    "        image = segmap\n",
    "    else:\n",
    "        raise ValueError('For single channel segmap, num_classes must be > 0')\n",
    "    return image"
   ]
  },
  {
   "cell_type": "code",
   "execution_count": 12,
   "metadata": {},
   "outputs": [
    {
     "data": {
      "text/plain": [
       "True"
      ]
     },
     "execution_count": 12,
     "metadata": {},
     "output_type": "execute_result"
    }
   ],
   "source": [
    "data0 = dataset[1]\n",
    "dataset.opt.segment_lumen"
   ]
  },
  {
   "cell_type": "code",
   "execution_count": 13,
   "metadata": {},
   "outputs": [
    {
     "name": "stdout",
     "output_type": "stream",
     "text": [
      "[0 1 2] torch.Size([2048, 2048]) torch.Size([3, 2048, 2048])\n",
      "(2048, 2048) (2048, 2048, 3)\n",
      "[  0 200 250]\n",
      "[  0 200 250]\n"
     ]
    },
    {
     "data": {
      "image/png": "[encoded data removed]",
      "text/plain": [
       "<Figure size 432x288 with 2 Axes>"
      ]
     },
     "metadata": {
      "needs_background": "light"
     },
     "output_type": "display_data"
    },
    {
     "data": {
      "image/png": "[encoded data removed]",
      "text/plain": [
       "<Figure size 432x288 with 2 Axes>"
      ]
     },
     "metadata": {
      "needs_background": "light"
     },
     "output_type": "display_data"
    }
   ],
   "source": [
    "print(np.unique(data0['target']), data0['target'].shape, data0['input'].shape)\n",
    "target = tensor2im(data0['target'], segmap=True, num_classes=3, visual=False)\n",
    "input_ = tensor2im(data0['input'], segmap=False, visual=False)\n",
    "print(target.shape, input_.shape)\n",
    "print(np.unique(target))\n",
    "tile = imageio.imread(image_paths[0])\n",
    "plot_before_after(target, input_)\n",
    "thetile = imageio.imread(data0['target_path'])\n",
    "print(np.unique(thetile))\n",
    "plot_before_after(target, thetile)"
   ]
  },
  {
   "cell_type": "code",
   "execution_count": 24,
   "metadata": {},
   "outputs": [],
   "source": [
    "aida_ann_dir = '/home/andrea/Documents/Repositories/AIDA/dist/data/annotations'\n",
    "aida_ann.dump_to_json(aida_ann_dir)"
   ]
  },
  {
   "cell_type": "code",
   "execution_count": 25,
   "metadata": {},
   "outputs": [
    {
     "name": "stderr",
     "output_type": "stream",
     "text": [
      "2019-02-28 18:47:05,268 | INFO | ID: 6681 | Begin segment merging ...\n",
      "2019-02-28 18:47:05,269 | INFO | ID: 6681 | [Layer 'epithelium'] Initial number of items is 1278.\n",
      "2019-02-28 18:47:05,269 | INFO | ID: 6681 | [Layer 'epithelium'] Iter 0 begins ...\n",
      "2019-02-28 18:47:09,832 | INFO | ID: 6681 | Items pairs: 0/816003 queued - 0 to merge\n",
      "Exception in thread Thread-5:\n",
      "Traceback (most recent call last):\n",
      "  File \"/home/andrea/anaconda3/lib/python3.7/multiprocessing/resource_sharer.py\", line 142, in _serve\n",
      "  File \"/home/andrea/anaconda3/lib/python3.7/multiprocessing/connection.py\", line 453, in accept\n",
      "  File \"/home/andrea/anaconda3/lib/python3.7/multiprocessing/connection.py\", line 598, in accept\n",
      "  File \"/home/andrea/anaconda3/lib/python3.7/socket.py\", line 212, in accept\n",
      "OSError: [Errno 24] Too many open files\n",
      "\n",
      "During handling of the above exception, another exception occurred:\n",
      "\n",
      "Traceback (most recent call last):\n",
      "  File \"/home/andrea/anaconda3/lib/python3.7/site-packages/ipykernel/iostream.py\", line 97, in _event_pipe\n",
      "AttributeError: '_thread._local' object has no attribute 'event_pipe'\n",
      "\n",
      "During handling of the above exception, another exception occurred:\n",
      "\n",
      "Traceback (most recent call last):\n",
      "  File \"/home/andrea/anaconda3/lib/python3.7/threading.py\", line 917, in _bootstrap_inner\n",
      "  File \"/home/andrea/anaconda3/lib/python3.7/threading.py\", line 865, in run\n",
      "  File \"/home/andrea/anaconda3/lib/python3.7/multiprocessing/resource_sharer.py\", line 154, in _serve\n",
      "  File \"/home/andrea/anaconda3/lib/python3.7/site-packages/IPython/core/interactiveshell.py\", line 1946, in excepthook\n",
      "    self.showtraceback((etype, value, tb), tb_offset=0)\n",
      "  File \"/home/andrea/anaconda3/lib/python3.7/site-packages/IPython/core/interactiveshell.py\", line 2038, in showtraceback\n",
      "    self._showtraceback(etype, value, stb)\n",
      "  File \"/home/andrea/anaconda3/lib/python3.7/site-packages/ipykernel/zmqshell.py\", line 540, in _showtraceback\n",
      "    sys.stdout.flush()\n",
      "  File \"/home/andrea/anaconda3/lib/python3.7/site-packages/ipykernel/iostream.py\", line 341, in flush\n",
      "  File \"/home/andrea/anaconda3/lib/python3.7/site-packages/ipykernel/iostream.py\", line 203, in schedule\n",
      "  File \"/home/andrea/anaconda3/lib/python3.7/site-packages/ipykernel/iostream.py\", line 101, in _event_pipe\n",
      "  File \"/home/andrea/anaconda3/lib/python3.7/site-packages/zmq/sugar/context.py\", line 146, in socket\n",
      "  File \"/home/andrea/anaconda3/lib/python3.7/site-packages/zmq/sugar/socket.py\", line 59, in __init__\n",
      "  File \"zmq/backend/cython/socket.pyx\", line 328, in zmq.backend.cython.socket.Socket.__init__\n",
      "zmq.error.ZMQError: Too many open files\n",
      "Unhandled exception in thread started by <bound method Thread._bootstrap of <Thread(Thread-5, started daemon 140525825423104)>>\n",
      "Error in sys.excepthook:\n",
      "Traceback (most recent call last):\n",
      "\n",
      "\n",
      "During handling of the above exception, another exception occurred:\n",
      "\n",
      "\n",
      "\n",
      "Original exception was:\n",
      "Traceback (most recent call last):\n",
      "\n",
      "\n",
      "During handling of the above exception, another exception occurred:\n",
      "\n",
      "\n",
      "\n",
      "During handling of the above exception, another exception occurred:\n",
      "\n",
      "\n",
      "\n",
      "During handling of the above exception, another exception occurred:\n",
      "\n",
      "\n",
      "\n",
      "During handling of the above exception, another exception occurred:\n",
      "\n",
      "\n",
      "Traceback (most recent call last):\n",
      "Exception in thread QueueFeederThread:\n",
      "Traceback (most recent call last):\n",
      "  File \"/home/andrea/anaconda3/lib/python3.7/multiprocessing/queues.py\", line 236, in _feed\n",
      "  File \"/home/andrea/anaconda3/lib/python3.7/multiprocessing/reduction.py\", line 51, in dumps\n",
      "  File \"/home/andrea/anaconda3/lib/python3.7/site-packages/torch/multiprocessing/reductions.py\", line 299, in reduce_storage\n",
      "  File \"/home/andrea/anaconda3/lib/python3.7/multiprocessing/reduction.py\", line 194, in DupFd\n",
      "  File \"/home/andrea/anaconda3/lib/python3.7/multiprocessing/resource_sharer.py\", line 48, in __init__\n",
      "OSError: [Errno 24] Too many open files\n",
      "\n",
      "During handling of the above exception, another exception occurred:\n",
      "\n",
      "Traceback (most recent call last):\n",
      "  File \"/home/andrea/anaconda3/lib/python3.7/site-packages/ipykernel/iostream.py\", line 97, in _event_pipe\n",
      "AttributeError: '_thread._local' object has no attribute 'event_pipe'\n",
      "\n",
      "During handling of the above exception, another exception occurred:\n",
      "\n",
      "Traceback (most recent call last):\n",
      "  File \"/home/andrea/anaconda3/lib/python3.7/threading.py\", line 917, in _bootstrap_inner\n",
      "  File \"/home/andrea/anaconda3/lib/python3.7/threading.py\", line 865, in run\n",
      "  File \"/home/andrea/anaconda3/lib/python3.7/multiprocessing/queues.py\", line 264, in _feed\n",
      "  File \"/home/andrea/anaconda3/lib/python3.7/multiprocessing/queues.py\", line 273, in _on_queue_feeder_error\n",
      "  File \"/home/andrea/anaconda3/lib/python3.7/traceback.py\", line 163, in print_exc\n",
      "  File \"/home/andrea/anaconda3/lib/python3.7/traceback.py\", line 105, in print_exception\n",
      "  File \"/home/andrea/anaconda3/lib/python3.7/site-packages/ipykernel/iostream.py\", line 400, in write\n",
      "  File \"/home/andrea/anaconda3/lib/python3.7/site-packages/ipykernel/iostream.py\", line 203, in schedule\n",
      "  File \"/home/andrea/anaconda3/lib/python3.7/site-packages/ipykernel/iostream.py\", line 101, in _event_pipe\n",
      "  File \"/home/andrea/anaconda3/lib/python3.7/site-packages/zmq/sugar/context.py\", line 146, in socket\n",
      "  File \"/home/andrea/anaconda3/lib/python3.7/site-packages/zmq/sugar/socket.py\", line 59, in __init__\n",
      "  File \"zmq/backend/cython/socket.pyx\", line 328, in zmq.backend.cython.socket.Socket.__init__\n",
      "zmq.error.ZMQError: Too many open files\n",
      "Unhandled exception in thread started by <bound method Thread._bootstrap of <Thread(QueueFeederThread, started daemon 140525787674368)>>\n",
      "Error in sys.excepthook:\n",
      "Traceback (most recent call last):\n",
      "\n",
      "\n",
      "During handling of the above exception, another exception occurred:\n",
      "\n",
      "\n",
      "\n",
      "Original exception was:\n",
      "Traceback (most recent call last):\n",
      "\n",
      "\n",
      "During handling of the above exception, another exception occurred:\n",
      "\n",
      "\n",
      "\n",
      "During handling of the above exception, another exception occurred:\n",
      "\n",
      "\n",
      "\n",
      "During handling of the above exception, another exception occurred:\n",
      "\n",
      "\n",
      "\n",
      "During handling of the above exception, another exception occurred:\n",
      "\n",
      "\n"
     ]
    },
    {
     "ename": "Full",
     "evalue": "",
     "output_type": "error",
     "traceback": [
      "\u001b[0;31m---------------------------------------------------------------------------\u001b[0m",
      "\u001b[0;31mFull\u001b[0m                                      Traceback (most recent call last)",
      "\u001b[0;32m<ipython-input-25-75c828cb7e90>\u001b[0m in \u001b[0;36m<module>\u001b[0;34m\u001b[0m\n\u001b[0;32m----> 1\u001b[0;31m \u001b[0maida_ann\u001b[0m\u001b[0;34m.\u001b[0m\u001b[0mmerge_overlapping_segments\u001b[0m\u001b[0;34m(\u001b[0m\u001b[0mdissimilarity_thresh\u001b[0m\u001b[0;34m=\u001b[0m\u001b[0;36m5.0\u001b[0m\u001b[0;34m,\u001b[0m \u001b[0mmax_iter\u001b[0m\u001b[0;34m=\u001b[0m\u001b[0;36m4\u001b[0m\u001b[0;34m)\u001b[0m\u001b[0;34m\u001b[0m\u001b[0;34m\u001b[0m\u001b[0m\n\u001b[0m\u001b[1;32m      2\u001b[0m \u001b[0maida_ann\u001b[0m\u001b[0;34m.\u001b[0m\u001b[0mdump_to_json\u001b[0m\u001b[0;34m(\u001b[0m\u001b[0maida_ann_dir\u001b[0m\u001b[0;34m)\u001b[0m\u001b[0;34m\u001b[0m\u001b[0;34m\u001b[0m\u001b[0m\n",
      "\u001b[0;32m~/Documents/Repositories/cancer_phenotype/base/utils/annotation_builder.py\u001b[0m in \u001b[0;36mmerge_overlapping_segments\u001b[0;34m(self, closeness_thresh, dissimilarity_thresh, max_iter, parallel, num_workers, log_dir)\u001b[0m\n",
      "\u001b[0;32m~/Documents/Repositories/cancer_phenotype/base/utils/annotation_builder.py\u001b[0m in \u001b[0;36mparallel_merge_overlapping_segments\u001b[0;34m(self, closeness_thresh, dissimilarity_thresh, max_iter, num_workers, log_dir)\u001b[0m\n",
      "\u001b[0;32m~/anaconda3/lib/python3.7/multiprocessing/queues.py\u001b[0m in \u001b[0;36mput\u001b[0;34m(self, obj, block, timeout)\u001b[0m\n",
      "\u001b[0;31mFull\u001b[0m: "
     ]
    }
   ],
   "source": [
    "aida_ann.merge_overlapping_segments(dissimilarity_thresh=5.0, max_iter=4)\n",
    "aida_ann.dump_to_json(aida_ann_dir)"
   ]
  },
  {
   "cell_type": "markdown",
   "metadata": {},
   "source": [
    "# debug on real data\n",
    "tile_path0 = '/Volumes/A-CH-EXDISK/Projects/Dataset/train/17_A047-4463_153D+-+2017-05-11+09.40.22_TissueTrain_(1.00,30774,15012,3897,4556)/tiles/17_A047-4463_153D+-+2017-05-11+09.40.22_TissueTrain_(1.00,30774,15012,3897,4556)_mask_1,2049.png'\n",
    "tile_path1 = '/Volumes/A-CH-EXDISK/Projects/Dataset/train/17_A047-4463_153D+-+2017-05-11+09.40.22_TissueTrain_(1.00,30774,15012,3897,4556)/tiles/17_A047-4463_153D+-+2017-05-11+09.40.22_TissueTrain_(1.00,30774,15012,3897,4556)_mask_628,2508.png'\n",
    "coords_pattern = '\\((\\w\\.\\w{1,3}),(\\w{1,6}),(\\w{1,6}),(\\w{1,6}),(\\w{1,6})\\)_mask_(\\w{1,6}),(\\w{1,6})'\n",
    "for tile_path in [tile_path0, tile_path1]:  # test on subsets of the tiles\n",
    "    tile = imageio.imread(tile_path)\n",
    "    coords_info = re.search(coords_pattern, Path(tile_path).name).groups()  # tuple with all matched groups\n",
    "    downsample = float(coords_info[0])  # downsample is a float\n",
    "    area_x, area_y, area_w, area_h, tile_x, tile_y = tuple(int(num) for num in coords_info[1:])\n",
    "    x_offset = tile_x\n",
    "    y_offset = tile_y\n",
    "    contours, labels, boxes = converter.mask_to_contour(tile, x_offset, y_offset)\n",
    "    for contour, label, box in zip(contours, labels, boxes):\n",
    "        aida_ann.add_item(label, 'path', tile_rect=box)\n",
    "        contour = contour.squeeze().astype(int).tolist()  # deal with extra dim at pos 1\n",
    "        aida_ann.add_segments_to_last_item(contour)"
   ]
  },
  {
   "cell_type": "markdown",
   "metadata": {},
   "source": [
    "# Plot contours before merging\n",
    "large_image = imageio.imread('/Volumes/A-CH-EXDISK/Projects/Dataset/train/17_A047-4463_153D+-+2017-05-11+09.40.22_TissueTrain_(1.00,30774,15012,3897,4556)/17_A047-4463_153D+-+2017-05-11+09.40.22_TissueTrain_(1.00,30774,15012,3897,4556)_img.png')\n",
    "epi_contours, _ = aida_ann.get_layer_points('epithelium', contour_format=True)\n",
    "cv2.drawContours(large_image, epi_contours, -1, (0, 0, 0), 30)\n",
    "lumen_contours, _ = aida_ann.get_layer_points('lumen', contour_format=True)\n",
    "cv2.drawContours(large_image, lumen_contours, -1, (0, 250, 0), 30)\n",
    "plt.figure(figsize = (10,20))\n",
    "plt.imshow(large_image[2000:, 0:2800])\n",
    "print(len(epi_contours), len(lumen_contours))"
   ]
  },
  {
   "cell_type": "markdown",
   "metadata": {},
   "source": [
    "aida_ann.merge_overlapping_segments(dissimilarity_thresh=5.0, max_iter=3)"
   ]
  },
  {
   "cell_type": "markdown",
   "metadata": {},
   "source": [
    "# Plot contours after merging\n",
    "large_image = imageio.imread('/Volumes/A-CH-EXDISK/Projects/Dataset/train/17_A047-4463_153D+-+2017-05-11+09.40.22_TissueTrain_(1.00,30774,15012,3897,4556)/17_A047-4463_153D+-+2017-05-11+09.40.22_TissueTrain_(1.00,30774,15012,3897,4556)_img.png')\n",
    "epi_contours, _ = aida_ann.get_layer_points('epithelium', contour_format=True)\n",
    "cv2.drawContours(large_image, epi_contours, -1, (0, 0, 0), 30)\n",
    "lumen_contours, _ = aida_ann.get_layer_points('lumen', contour_format=True)\n",
    "cv2.drawContours(large_image, lumen_contours, -1, (0, 250, 0), 30)\n",
    "plt.figure(figsize = (10,20))\n",
    "plt.imshow(large_image[2000:, 0:2800])\n",
    "print(len(epi_contours), len(lumen_contours))"
   ]
  },
  {
   "cell_type": "markdown",
   "metadata": {},
   "source": [
    "# debug on toy data\n",
    "import numpy as np\n",
    "import skimage.draw as draw\n",
    "from itertools import product\n",
    "from collections import OrderedDict"
   ]
  },
  {
   "cell_type": "markdown",
   "metadata": {},
   "source": [
    "# overwrite converter and annotation\n",
    "value_hier = (0, 1)\n",
    "test_label_value_map = {\n",
    "                'up': 1,\n",
    "                'background': 0\n",
    "            }\n",
    "test_label_interval_map = {\n",
    "                'up': (0.1, 1),\n",
    "                'background': (0, 0.1)\n",
    "            }\n",
    "converter = MaskConverter(value_hier=value_hier, \n",
    "                                label_value_map=test_label_value_map, \n",
    "                                label_interval_map=test_label_interval_map)\n",
    "aida_ann = AnnotationBuilder('test', 'test', ['up'])"
   ]
  },
  {
   "cell_type": "markdown",
   "metadata": {},
   "source": [
    "mask = np.zeros((500, 1000))\n",
    "rr, cc = draw.ellipse(250, 500, 150, 200)\n",
    "mask[rr, cc] = 1\n",
    "plt.imshow(mask)"
   ]
  },
  {
   "cell_type": "markdown",
   "metadata": {},
   "source": [
    "tile1, tile2 = mask[:, 0:500].astype(np.uint8), mask[:, 501:].astype(np.uint8)\n",
    "print(tile1.dtype)"
   ]
  },
  {
   "cell_type": "markdown",
   "metadata": {},
   "source": [
    "contours1, labels1, boxes1 = converter.mask_to_contour(tile1)\n",
    "cnt_tile1 = mask.copy()\n",
    "cv2.drawContours(cnt_tile1, contours1, -1, 50, 10)\n",
    "x, y, w, h = boxes1[0]\n",
    "cv2.rectangle(cnt_tile1, (x,y),(x+w,y+h), 30, 2)\n",
    "plt.imshow(cnt_tile1)"
   ]
  },
  {
   "cell_type": "markdown",
   "metadata": {},
   "source": [
    "contours2, labels2, boxes2 = converter.mask_to_contour(tile2, x_offset=501, y_offset=0)\n",
    "cnt_tile2 = mask.copy()\n",
    "cv2.drawContours(cnt_tile2, contours2, -1, 50, 10)\n",
    "x, y, w, h = boxes2[0]\n",
    "cv2.rectangle(cnt_tile2, (x,y), (x+w,y+h), 30, 2)\n",
    "plt.imshow(cnt_tile2)"
   ]
  },
  {
   "cell_type": "markdown",
   "metadata": {},
   "source": [
    "contours, labels, boxes = contours1 + contours2, labels1 + labels2, boxes1 + boxes2\n",
    "for contour, label, box in zip(contours, labels, boxes):\n",
    "    aida_ann.add_item(label, 'path', tile_rect=box)\n",
    "    contour = contour.squeeze().astype(int).tolist()  # deal with extra dim at pos 1\n",
    "    aida_ann.add_segments_to_last_item(contour)"
   ]
  },
  {
   "cell_type": "markdown",
   "metadata": {},
   "source": [
    "len(aida_ann.get_layer_points('up'))"
   ]
  },
  {
   "cell_type": "markdown",
   "metadata": {},
   "source": [
    "# check that boxes result as touching (partial overlap):\n",
    "aida_ann.check_relative_rect_positions(boxes[1], boxes[0], eps=0.5)"
   ]
  },
  {
   "cell_type": "markdown",
   "metadata": {},
   "source": [
    "# check that closest points are found correctly\n",
    "points0 = tuple(tuple(point.squeeze()) for point in contours1[0])\n",
    "points1 = tuple(tuple(point.squeeze()) for point in contours2[0])\n",
    "closest_points, point_dist = aida_ann.find_closest_points(aida_ann.euclidean_dist, points0, points1)\n",
    "print(closest_points)"
   ]
  },
  {
   "cell_type": "markdown",
   "metadata": {},
   "source": [
    "# check contour merging\n",
    "outer_points = aida_ann.get_merged(points0, points1, closest_points)\n",
    "outer_contour = [np.array(outer_points)[:, np.newaxis, :]]\n",
    "outer_cnt_tile = mask.copy()\n",
    "cv2.drawContours(outer_cnt_tile, outer_contour, -1, 50, 10)\n",
    "plt.imshow(outer_cnt_tile)"
   ]
  },
  {
   "cell_type": "markdown",
   "metadata": {},
   "source": [
    "# Check contour merging for overlapping contours:\n",
    "# overwriter converter and annotation\n",
    "value_hier = (0, 1)\n",
    "test_label_value_map = {\n",
    "                'up': 1,\n",
    "                'background': 0\n",
    "            }\n",
    "test_label_interval_map = {\n",
    "                'up': (0.1, 1),\n",
    "                'background': (0, 0.1)\n",
    "            }\n",
    "converter = MaskConverter(value_hier=value_hier, \n",
    "                                label_value_map=test_label_value_map, \n",
    "                                label_interval_map=test_label_interval_map)\n",
    "aida_ann = AnnotationBuilder('test', 'test', ['up'])\n",
    "\n",
    "mask = np.zeros((500, 1000))\n",
    "rr, cc = draw.ellipse(250, 350, 175, 210)\n",
    "mask[rr, cc] = 1\n",
    "rr, cc = draw.ellipse(275, 650, 100, 180)\n",
    "mask[rr, cc] = 1.1\n",
    "plt.imshow(mask)"
   ]
  },
  {
   "cell_type": "markdown",
   "metadata": {},
   "source": [
    "tile1, tile2 = mask[0:450, 0:600].astype(np.uint8), mask[50:, 400:].astype(np.uint8)\n",
    "print(tile1.shape, tile2.shape)"
   ]
  },
  {
   "cell_type": "markdown",
   "metadata": {},
   "source": [
    "contours1, labels1, boxes1 = converter.mask_to_contour(tile1, x_offset=0, y_offset=0)\n",
    "cnt_mask = np.zeros((500, 1000))\n",
    "cv2.drawContours(cnt_mask, contours1, -1, 90, 10)\n",
    "x, y, w, h = boxes1[0]\n",
    "cv2.rectangle(cnt_mask, (x,y),(x+w,y+h), 60, 2)\n",
    "contours2, labels2, boxes2 = converter.mask_to_contour(tile2, x_offset=400, y_offset=50)\n",
    "cnt_tile2 = mask.copy()\n",
    "cv2.drawContours(cnt_mask, contours2, -1, 150, 10)\n",
    "x, y, w, h = boxes2[0]\n",
    "cv2.rectangle(cnt_mask, (x,y), (x+w,y+h), 250, 2)\n",
    "plt.imshow(cnt_mask)"
   ]
  },
  {
   "cell_type": "markdown",
   "metadata": {},
   "source": [
    "contours, labels, boxes = contours1 + contours2, labels1 + labels2, boxes1 + boxes2\n",
    "for contour, label, box in zip(contours, labels, boxes):\n",
    "    aida_ann.add_item(label, 'path', tile_rect=box)\n",
    "    contour = contour.squeeze().astype(int).tolist()  # deal with extra dim at pos 1\n",
    "    aida_ann.add_segments_to_last_item(contour)"
   ]
  },
  {
   "cell_type": "markdown",
   "metadata": {},
   "source": [
    "len(aida_ann.get_layer_points('up'))"
   ]
  },
  {
   "cell_type": "markdown",
   "metadata": {},
   "source": [
    "# check that boxes result as overlapping\n",
    "aida_ann.check_relative_rect_positions(boxes[0], boxes[1], eps=0.5)"
   ]
  },
  {
   "cell_type": "markdown",
   "metadata": {},
   "source": [
    "# remove overlapping points\n",
    "points0 = tuple(tuple(point.squeeze()) for point in contours1[0])\n",
    "points1 = tuple(tuple(point.squeeze()) for point in contours2[0])\n",
    "points1_no_overlap = aida_ann.remove_overlapping_points(points0, points1)\n",
    "tile = np.ones_like(mask)\n",
    "cv2.drawContours(tile, [np.array(points0)[:,np.newaxis,:]], -1, 100, 3)\n",
    "cv2.drawContours(tile, [np.array(points1_no_overlap)[:,np.newaxis,:]], -1, 250, 3)\n",
    "plt.imshow(tile)"
   ]
  },
  {
   "cell_type": "markdown",
   "metadata": {},
   "source": [
    "# check that closest points are found correctly\n",
    "closest_points, point_dist = aida_ann.find_closest_points(aida_ann.euclidean_dist, points0, points1_no_overlap)\n",
    "print(list(closest_points)[0:10])"
   ]
  },
  {
   "cell_type": "markdown",
   "metadata": {},
   "source": [
    "# check contour merging\n",
    "outer_points = aida_ann.get_merged(points0, points1_no_overlap, closest_points, positions='vertical')\n",
    "outer_contour = [np.array(outer_points)[:, np.newaxis, :]]\n",
    "outer_cnt_tile = mask.copy()\n",
    "cv2.drawContours(outer_cnt_tile, outer_contour, -1, 50, 10)\n",
    "plt.imshow(outer_cnt_tile)"
   ]
  },
  {
   "cell_type": "markdown",
   "metadata": {},
   "source": [
    "len(points0)"
   ]
  },
  {
   "cell_type": "markdown",
   "metadata": {},
   "source": [
    "len(aida_ann.get_layer_points('up'))"
   ]
  },
  {
   "cell_type": "markdown",
   "metadata": {},
   "source": [
    "aida_ann.merge_overlapping_segments()"
   ]
  },
  {
   "cell_type": "markdown",
   "metadata": {},
   "source": [
    "aida_final_points = aida_ann.get_layer_points('up')\n",
    "final_contour = np.array(aida_final_points)[:, np.newaxis, :]\n",
    "cnt_tile = mask.copy()\n",
    "cv2.drawContours(cnt_tile, final_contour, -1, 50, 10)\n",
    "plt.imshow(cnt_tile)"
   ]
  }
 ],
 "metadata": {
  "kernelspec": {
   "display_name": "Python 3",
   "language": "python",
   "name": "python3"
  },
  "language_info": {
   "codemirror_mode": {
    "name": "ipython",
    "version": 3
   },
   "file_extension": ".py",
   "mimetype": "text/x-python",
   "name": "python",
   "nbconvert_exporter": "python",
   "pygments_lexer": "ipython3",
   "version": "3.7.2"
  }
 },
 "nbformat": 4,
 "nbformat_minor": 2
}
