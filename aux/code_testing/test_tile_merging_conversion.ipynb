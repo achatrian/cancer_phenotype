{
 "cells": [
  {
   "cell_type": "code",
   "execution_count": 2,
   "metadata": {},
   "outputs": [],
   "source": [
    "import os\n",
    "from pathlib import Path\n",
    "import sys\n",
    "sys.path.extend(['../../', '../../base'])\n",
    "import re\n",
    "import imageio\n",
    "import cv2\n",
    "import matplotlib.pyplot as plt\n",
    "from base.utils.annotation_converter import AnnotationConverter\n",
    "from base.utils.aida_annotation import AIDAnnotation"
   ]
  },
  {
   "cell_type": "code",
   "execution_count": 3,
   "metadata": {},
   "outputs": [],
   "source": [
    "converter = AnnotationConverter(min_contour_area=40000)\n",
    "aida_ann = AIDAnnotation('17_A047-4463_153D+-+2017-05-11+09.40.22.ndpi', 'test', ['epithelium', 'lumen', 'background'])"
   ]
  },
  {
   "cell_type": "markdown",
   "metadata": {},
   "source": [
    "    tile_dir_path = '/Volumes/A-CH-EXDISK/Projects/Dataset/train/17_A047-4463_153D+-+2017-05-11+09.40.22_TissueTrain_(1.00,30774,15012,3897,4556)/tiles'\n",
    "tile_paths = list(str(path) for path in Path(tile_dir_path).iterdir() if '_mask_' in str(path))"
   ]
  },
  {
   "cell_type": "code",
   "execution_count": null,
   "metadata": {},
   "outputs": [],
   "source": [
    "# extract offset coords from tile name\n",
    "coords_pattern = '\\((\\w\\.\\w{1,3}),(\\w{1,6}),(\\w{1,6}),(\\w{1,6}),(\\w{1,6})\\)_mask_(\\w{1,6}),(\\w{1,6})'\n",
    "for tile_path in tile_paths[0: 3]:  # test on subsets of the tiles\n",
    "    tile = imageio.imread(tile_path)\n",
    "    coords_info = re.search(coords_pattern, Path(tile_path).name).groups()  # tuple with all matched groups\n",
    "    downsample = float(coords_info[0])  # downsample is a float\n",
    "    area_x, area_y, area_w, area_h, tile_x, tile_y = tuple(int(num) for num in coords_info[1:])\n",
    "    x_offset = area_x + tile_x\n",
    "    y_offset = area_y + tile_y\n",
    "    contours, labels, boxes = converter.mask_to_contour(tile, x_offset, y_offset)\n",
    "    for contour, label, box in zip(contours, labels, boxes):\n",
    "        aida_ann.add_item(label, 'path', tile_rect=box)\n",
    "        contour = contour.squeeze().astype(int).tolist()  # deal with extra dim at pos 1\n",
    "        aida_ann.add_segments_to_last_item(contour)"
   ]
  },
  {
   "cell_type": "code",
   "execution_count": null,
   "metadata": {},
   "outputs": [],
   "source": [
    "aida_ann_dir = '/Users/andreachatrian/Documents/Repositories/AIDA/dist/data/annotations'\n",
    "aida_ann.merge_overlapping_segments(dissimilarity_thresh=20.0, max_iter=5)\n",
    "aida_ann.dump_to_json(aida_ann_dir)"
   ]
  },
  {
   "cell_type": "markdown",
   "metadata": {},
   "source": [
    "# debug on real data\n",
    "tile_path0 = '/Volumes/A-CH-EXDISK/Projects/Dataset/train/17_A047-4463_153D+-+2017-05-11+09.40.22_TissueTrain_(1.00,30774,15012,3897,4556)/tiles/17_A047-4463_153D+-+2017-05-11+09.40.22_TissueTrain_(1.00,30774,15012,3897,4556)_mask_1,2049.png'\n",
    "tile_path1 = '/Volumes/A-CH-EXDISK/Projects/Dataset/train/17_A047-4463_153D+-+2017-05-11+09.40.22_TissueTrain_(1.00,30774,15012,3897,4556)/tiles/17_A047-4463_153D+-+2017-05-11+09.40.22_TissueTrain_(1.00,30774,15012,3897,4556)_mask_628,2508.png'\n",
    "coords_pattern = '\\((\\w\\.\\w{1,3}),(\\w{1,6}),(\\w{1,6}),(\\w{1,6}),(\\w{1,6})\\)_mask_(\\w{1,6}),(\\w{1,6})'\n",
    "for tile_path in [tile_path0, tile_path1]:  # test on subsets of the tiles\n",
    "    tile = imageio.imread(tile_path)\n",
    "    coords_info = re.search(coords_pattern, Path(tile_path).name).groups()  # tuple with all matched groups\n",
    "    downsample = float(coords_info[0])  # downsample is a float\n",
    "    area_x, area_y, area_w, area_h, tile_x, tile_y = tuple(int(num) for num in coords_info[1:])\n",
    "    x_offset = tile_x\n",
    "    y_offset = tile_y\n",
    "    contours, labels, boxes = converter.mask_to_contour(tile, x_offset, y_offset)\n",
    "    for contour, label, box in zip(contours, labels, boxes):\n",
    "        aida_ann.add_item(label, 'path', tile_rect=box)\n",
    "        contour = contour.squeeze().astype(int).tolist()  # deal with extra dim at pos 1\n",
    "        aida_ann.add_segments_to_last_item(contour)"
   ]
  },
  {
   "cell_type": "markdown",
   "metadata": {},
   "source": [
    "# Plot contours before merging\n",
    "large_image = imageio.imread('/Volumes/A-CH-EXDISK/Projects/Dataset/train/17_A047-4463_153D+-+2017-05-11+09.40.22_TissueTrain_(1.00,30774,15012,3897,4556)/17_A047-4463_153D+-+2017-05-11+09.40.22_TissueTrain_(1.00,30774,15012,3897,4556)_img.png')\n",
    "epi_contours, _ = aida_ann.get_layer_points('epithelium', contour_format=True)\n",
    "cv2.drawContours(large_image, epi_contours, -1, (0, 0, 0), 30)\n",
    "lumen_contours, _ = aida_ann.get_layer_points('lumen', contour_format=True)\n",
    "cv2.drawContours(large_image, lumen_contours, -1, (0, 250, 0), 30)\n",
    "plt.figure(figsize = (10,20))\n",
    "plt.imshow(large_image[2000:, 0:2800])\n",
    "print(len(epi_contours), len(lumen_contours))"
   ]
  },
  {
   "cell_type": "markdown",
   "metadata": {},
   "source": [
    "aida_ann.merge_overlapping_segments(dissimilarity_thresh=5.0, max_iter=3)"
   ]
  },
  {
   "cell_type": "markdown",
   "metadata": {},
   "source": [
    "# Plot contours after merging\n",
    "large_image = imageio.imread('/Volumes/A-CH-EXDISK/Projects/Dataset/train/17_A047-4463_153D+-+2017-05-11+09.40.22_TissueTrain_(1.00,30774,15012,3897,4556)/17_A047-4463_153D+-+2017-05-11+09.40.22_TissueTrain_(1.00,30774,15012,3897,4556)_img.png')\n",
    "epi_contours, _ = aida_ann.get_layer_points('epithelium', contour_format=True)\n",
    "cv2.drawContours(large_image, epi_contours, -1, (0, 0, 0), 30)\n",
    "lumen_contours, _ = aida_ann.get_layer_points('lumen', contour_format=True)\n",
    "cv2.drawContours(large_image, lumen_contours, -1, (0, 250, 0), 30)\n",
    "plt.figure(figsize = (10,20))\n",
    "plt.imshow(large_image[2000:, 0:2800])\n",
    "print(len(epi_contours), len(lumen_contours))"
   ]
  },
  {
   "cell_type": "markdown",
   "metadata": {},
   "source": [
    "# debug on toy data\n",
    "import numpy as np\n",
    "import skimage.draw as draw\n",
    "from itertools import product\n",
    "from collections import OrderedDict"
   ]
  },
  {
   "cell_type": "markdown",
   "metadata": {},
   "source": [
    "# overwrite converter and annotation\n",
    "value_hier = (0, 1)\n",
    "test_label_value_map = {\n",
    "                'up': 1,\n",
    "                'background': 0\n",
    "            }\n",
    "test_label_interval_map = {\n",
    "                'up': (0.1, 1),\n",
    "                'background': (0, 0.1)\n",
    "            }\n",
    "converter = AnnotationConverter(value_hier=value_hier, \n",
    "                                label_value_map=test_label_value_map, \n",
    "                                label_interval_map=test_label_interval_map)\n",
    "aida_ann = AIDAnnotation('test', 'test', ['up'])"
   ]
  },
  {
   "cell_type": "markdown",
   "metadata": {},
   "source": [
    "mask = np.zeros((500, 1000))\n",
    "rr, cc = draw.ellipse(250, 500, 150, 200)\n",
    "mask[rr, cc] = 1\n",
    "plt.imshow(mask)"
   ]
  },
  {
   "cell_type": "markdown",
   "metadata": {},
   "source": [
    "tile1, tile2 = mask[:, 0:500].astype(np.uint8), mask[:, 501:].astype(np.uint8)\n",
    "print(tile1.dtype)"
   ]
  },
  {
   "cell_type": "markdown",
   "metadata": {},
   "source": [
    "contours1, labels1, boxes1 = converter.mask_to_contour(tile1)\n",
    "cnt_tile1 = mask.copy()\n",
    "cv2.drawContours(cnt_tile1, contours1, -1, 50, 10)\n",
    "x, y, w, h = boxes1[0]\n",
    "cv2.rectangle(cnt_tile1, (x,y),(x+w,y+h), 30, 2)\n",
    "plt.imshow(cnt_tile1)"
   ]
  },
  {
   "cell_type": "markdown",
   "metadata": {},
   "source": [
    "contours2, labels2, boxes2 = converter.mask_to_contour(tile2, x_offset=501, y_offset=0)\n",
    "cnt_tile2 = mask.copy()\n",
    "cv2.drawContours(cnt_tile2, contours2, -1, 50, 10)\n",
    "x, y, w, h = boxes2[0]\n",
    "cv2.rectangle(cnt_tile2, (x,y), (x+w,y+h), 30, 2)\n",
    "plt.imshow(cnt_tile2)"
   ]
  },
  {
   "cell_type": "markdown",
   "metadata": {},
   "source": [
    "contours, labels, boxes = contours1 + contours2, labels1 + labels2, boxes1 + boxes2\n",
    "for contour, label, box in zip(contours, labels, boxes):\n",
    "    aida_ann.add_item(label, 'path', tile_rect=box)\n",
    "    contour = contour.squeeze().astype(int).tolist()  # deal with extra dim at pos 1\n",
    "    aida_ann.add_segments_to_last_item(contour)"
   ]
  },
  {
   "cell_type": "markdown",
   "metadata": {},
   "source": [
    "len(aida_ann.get_layer_points('up'))"
   ]
  },
  {
   "cell_type": "markdown",
   "metadata": {},
   "source": [
    "# check that boxes result as touching (partial overlap):\n",
    "aida_ann.check_relative_rect_positions(boxes[1], boxes[0], eps=0.5)"
   ]
  },
  {
   "cell_type": "markdown",
   "metadata": {},
   "source": [
    "# check that closest points are found correctly\n",
    "points0 = tuple(tuple(point.squeeze()) for point in contours1[0])\n",
    "points1 = tuple(tuple(point.squeeze()) for point in contours2[0])\n",
    "closest_points, point_dist = aida_ann.find_closest_points(aida_ann.euclidean_dist, points0, points1)\n",
    "print(closest_points)"
   ]
  },
  {
   "cell_type": "markdown",
   "metadata": {},
   "source": [
    "# check contour merging\n",
    "outer_points = aida_ann.get_merged(points0, points1, closest_points)\n",
    "outer_contour = [np.array(outer_points)[:, np.newaxis, :]]\n",
    "outer_cnt_tile = mask.copy()\n",
    "cv2.drawContours(outer_cnt_tile, outer_contour, -1, 50, 10)\n",
    "plt.imshow(outer_cnt_tile)"
   ]
  },
  {
   "cell_type": "markdown",
   "metadata": {},
   "source": [
    "# Check contour merging for overlapping contours:\n",
    "# overwriter converter and annotation\n",
    "value_hier = (0, 1)\n",
    "test_label_value_map = {\n",
    "                'up': 1,\n",
    "                'background': 0\n",
    "            }\n",
    "test_label_interval_map = {\n",
    "                'up': (0.1, 1),\n",
    "                'background': (0, 0.1)\n",
    "            }\n",
    "converter = AnnotationConverter(value_hier=value_hier, \n",
    "                                label_value_map=test_label_value_map, \n",
    "                                label_interval_map=test_label_interval_map)\n",
    "aida_ann = AIDAnnotation('test', 'test', ['up'])\n",
    "\n",
    "mask = np.zeros((500, 1000))\n",
    "rr, cc = draw.ellipse(250, 350, 175, 210)\n",
    "mask[rr, cc] = 1\n",
    "rr, cc = draw.ellipse(275, 650, 100, 180)\n",
    "mask[rr, cc] = 1.1\n",
    "plt.imshow(mask)"
   ]
  },
  {
   "cell_type": "markdown",
   "metadata": {},
   "source": [
    "tile1, tile2 = mask[0:450, 0:600].astype(np.uint8), mask[50:, 400:].astype(np.uint8)\n",
    "print(tile1.shape, tile2.shape)"
   ]
  },
  {
   "cell_type": "markdown",
   "metadata": {},
   "source": [
    "contours1, labels1, boxes1 = converter.mask_to_contour(tile1, x_offset=0, y_offset=0)\n",
    "cnt_mask = np.zeros((500, 1000))\n",
    "cv2.drawContours(cnt_mask, contours1, -1, 90, 10)\n",
    "x, y, w, h = boxes1[0]\n",
    "cv2.rectangle(cnt_mask, (x,y),(x+w,y+h), 60, 2)\n",
    "contours2, labels2, boxes2 = converter.mask_to_contour(tile2, x_offset=400, y_offset=50)\n",
    "cnt_tile2 = mask.copy()\n",
    "cv2.drawContours(cnt_mask, contours2, -1, 150, 10)\n",
    "x, y, w, h = boxes2[0]\n",
    "cv2.rectangle(cnt_mask, (x,y), (x+w,y+h), 250, 2)\n",
    "plt.imshow(cnt_mask)"
   ]
  },
  {
   "cell_type": "markdown",
   "metadata": {},
   "source": [
    "contours, labels, boxes = contours1 + contours2, labels1 + labels2, boxes1 + boxes2\n",
    "for contour, label, box in zip(contours, labels, boxes):\n",
    "    aida_ann.add_item(label, 'path', tile_rect=box)\n",
    "    contour = contour.squeeze().astype(int).tolist()  # deal with extra dim at pos 1\n",
    "    aida_ann.add_segments_to_last_item(contour)"
   ]
  },
  {
   "cell_type": "markdown",
   "metadata": {},
   "source": [
    "len(aida_ann.get_layer_points('up'))"
   ]
  },
  {
   "cell_type": "markdown",
   "metadata": {},
   "source": [
    "# check that boxes result as overlapping\n",
    "aida_ann.check_relative_rect_positions(boxes[0], boxes[1], eps=0.5)"
   ]
  },
  {
   "cell_type": "markdown",
   "metadata": {},
   "source": [
    "# remove overlapping points\n",
    "points0 = tuple(tuple(point.squeeze()) for point in contours1[0])\n",
    "points1 = tuple(tuple(point.squeeze()) for point in contours2[0])\n",
    "points1_no_overlap = aida_ann.remove_overlapping_points(points0, points1)\n",
    "tile = np.ones_like(mask)\n",
    "cv2.drawContours(tile, [np.array(points0)[:,np.newaxis,:]], -1, 100, 3)\n",
    "cv2.drawContours(tile, [np.array(points1_no_overlap)[:,np.newaxis,:]], -1, 250, 3)\n",
    "plt.imshow(tile)"
   ]
  },
  {
   "cell_type": "markdown",
   "metadata": {},
   "source": [
    "# check that closest points are found correctly\n",
    "closest_points, point_dist = aida_ann.find_closest_points(aida_ann.euclidean_dist, points0, points1_no_overlap)\n",
    "print(list(closest_points)[0:10])"
   ]
  },
  {
   "cell_type": "markdown",
   "metadata": {},
   "source": [
    "# check contour merging\n",
    "outer_points = aida_ann.get_merged(points0, points1_no_overlap, closest_points, positions='vertical')\n",
    "outer_contour = [np.array(outer_points)[:, np.newaxis, :]]\n",
    "outer_cnt_tile = mask.copy()\n",
    "cv2.drawContours(outer_cnt_tile, outer_contour, -1, 50, 10)\n",
    "plt.imshow(outer_cnt_tile)"
   ]
  },
  {
   "cell_type": "markdown",
   "metadata": {},
   "source": [
    "len(points0)"
   ]
  },
  {
   "cell_type": "markdown",
   "metadata": {},
   "source": [
    "len(aida_ann.get_layer_points('up'))"
   ]
  },
  {
   "cell_type": "markdown",
   "metadata": {},
   "source": [
    "aida_ann.merge_overlapping_segments()"
   ]
  },
  {
   "cell_type": "markdown",
   "metadata": {},
   "source": [
    "aida_final_points = aida_ann.get_layer_points('up')\n",
    "final_contour = np.array(aida_final_points)[:, np.newaxis, :]\n",
    "cnt_tile = mask.copy()\n",
    "cv2.drawContours(cnt_tile, final_contour, -1, 50, 10)\n",
    "plt.imshow(cnt_tile)"
   ]
  }
 ],
 "metadata": {
  "kernelspec": {
   "display_name": "Python 3",
   "language": "python",
   "name": "python3"
  },
  "language_info": {
   "codemirror_mode": {
    "name": "ipython",
    "version": 3
   },
   "file_extension": ".py",
   "mimetype": "text/x-python",
   "name": "python",
   "nbconvert_exporter": "python",
   "pygments_lexer": "ipython3",
   "version": "3.7.2"
  }
 },
 "nbformat": 4,
 "nbformat_minor": 2
}
