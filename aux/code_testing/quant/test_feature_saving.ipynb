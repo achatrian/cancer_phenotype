{
 "cells": [
  {
   "cell_type": "code",
   "execution_count": null,
   "metadata": {},
   "outputs": [
    {
     "name": "stdout",
     "output_type": "stream",
     "text": [
      "/well/rittscher/users/achatrian/.conda/envs/pyenvclone/bin/python\n"
     ]
    }
   ],
   "source": [
    "import sys\n",
    "from pathlib import Path\n",
    "import numbers\n",
    "import random\n",
    "import json\n",
    "from itertools import chain\n",
    "print(sys.executable)\n",
    "sys.path.extend(['..', '../..'])\n",
    "from tqdm import tqdm_notebook\n",
    "import pandas as pd\n",
    "import numpy as np\n",
    "import matplotlib.pyplot as plt\n",
    "import cv2\n",
    "import imageio\n",
    "from sklearn.preprocessing import StandardScaler\n",
    "from sklearn.decomposition import PCA\n",
    "from sklearn.mixture import GaussianMixture\n",
    "from quant.experiment.clustering import Clustering\n",
    "from quant import read_annotations\n",
    "from base.data.wsi_reader import WSIReader"
   ]
  },
  {
   "cell_type": "code",
   "execution_count": null,
   "metadata": {},
   "outputs": [],
   "source": [
    "e = Clustering('guassians',\n",
    "              ('StandardScaler', 'PCA', 'GaussianMixture'),\n",
    "              (StandardScaler(), PCA(n_components=10), GaussianMixture(n_components=10)),\n",
    "              caching_path='/well/rittscher/users/achatrian/pipeline_sk.cache')"
   ]
  },
  {
   "cell_type": "code",
   "execution_count": null,
   "metadata": {},
   "outputs": [],
   "source": [
    "p = e.loaded_paths[0]\n",
    "print(p)\n",
    "image_path = p.parents[2]/(p.with_suffix('.ndpi')).name\n",
    "print(image_path)\n",
    "slide = WSIReader(file_name=image_path)"
   ]
  },
  {
   "cell_type": "code",
   "execution_count": null,
   "metadata": {},
   "outputs": [],
   "source": [
    "bounding_boxes = list(tuple(int(d) for d in s.split('_')) for s in e.x.index )"
   ]
  },
  {
   "cell_type": "code",
   "execution_count": null,
   "metadata": {},
   "outputs": [],
   "source": [
    "def viz_images():\n",
    "    for x, y, w, h in bounding_boxes:\n",
    "        image = slide.read_region((x, y), 0, (w, h))\n",
    "        yield image\n",
    "img_gen = viz_images()"
   ]
  },
  {
   "cell_type": "code",
   "execution_count": null,
   "metadata": {},
   "outputs": [],
   "source": [
    "img0, img1, img2, img3 = next(img_gen), next(img_gen) ,next(img_gen), next(img_gen)\n",
    "fig, axes = plt.subplots(1, 4)\n",
    "axes[0].imshow(img0), axes[1].imshow(img1), axes[2].imshow(img2), axes[3].imshow(img3)"
   ]
  },
  {
   "cell_type": "code",
   "execution_count": null,
   "metadata": {},
   "outputs": [],
   "source": []
  }
 ],
 "metadata": {
  "kernelspec": {
   "display_name": "Python 3",
   "language": "python",
   "name": "python3"
  },
  "language_info": {
   "codemirror_mode": {
    "name": "ipython",
    "version": 3
   },
   "file_extension": ".py",
   "mimetype": "text/x-python",
   "name": "python",
   "nbconvert_exporter": "python",
   "pygments_lexer": "ipython3",
   "version": "3.7.3"
  }
 },
 "nbformat": 4,
 "nbformat_minor": 2
}
