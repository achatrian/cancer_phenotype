{
 "cells": [
  {
   "cell_type": "code",
   "execution_count": 5,
   "metadata": {
    "collapsed": true
   },
   "outputs": [],
   "source": [
    "import os\n",
    "from pathlib import Path\n",
    "import sys\n",
    "sys.path.extend(['../../', '../../base'])\n",
    "import re\n",
    "import copy\n",
    "import numpy as np\n",
    "import imageio\n",
    "import cv2\n",
    "from scipy.ndimage import morphology\n",
    "from scipy.stats import mode\n",
    "import skimage.morphology\n",
    "import matplotlib.pyplot as plt\n",
    "from quant import read_annotations, contour_to_mask"
   ]
  },
  {
   "cell_type": "code",
   "execution_count": 2,
   "metadata": {},
   "outputs": [],
   "source": [
    "slide_id = '17_A047-4463_153D+-+2017-05-11+09.40.22'\n",
    "annotation_path = Path('/home/andrea/Documents/Repositories/AIDA/dist')\n",
    "contour_lib = read_annotations((slide_id,), annotation_path)\n",
    "ex_slide_contours = next(iter(contour_lib.values()))\n",
    "example = ex_slide_contours['epithelium'][0]"
   ]
  },
  {
   "cell_type": "code",
   "execution_count": 3,
   "metadata": {},
   "outputs": [
    {
     "name": "stdout",
     "output_type": "stream",
     "text": [
      "(109, 1, 2)\n",
      "(38971, 32276, 269, 118)\n"
     ]
    }
   ],
   "source": [
    "print(example.shape)\n",
    "print(cv2.boundingRect(example))"
   ]
  },
  {
   "cell_type": "code",
   "execution_count": 4,
   "metadata": {},
   "outputs": [
    {
     "name": "stdout",
     "output_type": "stream",
     "text": [
      "[  0. 255.]\n"
     ]
    },
    {
     "data": {
      "image/png": "[encoded data removed]",
      "text/plain": [
       "<Figure size 432x288 with 1 Axes>"
      ]
     },
     "metadata": {
      "needs_background": "light"
     },
     "output_type": "display_data"
    }
   ],
   "source": [
    "mask = contour_to_mask(example)\n",
    "plt.imshow(mask * 255)\n",
    "print(np.unique(mask))"
   ]
  },
  {
   "cell_type": "code",
   "execution_count": null,
   "metadata": {},
   "outputs": [],
   "source": []
  }
 ],
 "metadata": {
  "kernelspec": {
   "display_name": "Python 3",
   "language": "python",
   "name": "python3"
  },
  "language_info": {
   "codemirror_mode": {
    "name": "ipython",
    "version": 3
   },
   "file_extension": ".py",
   "mimetype": "text/x-python",
   "name": "python",
   "nbconvert_exporter": "python",
   "pygments_lexer": "ipython3",
   "version": "3.7.2"
  }
 },
 "nbformat": 4,
 "nbformat_minor": 2
}
