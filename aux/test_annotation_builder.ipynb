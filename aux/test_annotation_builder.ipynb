{
 "cells": [
  {
   "cell_type": "code",
   "execution_count": 1,
   "metadata": {},
   "outputs": [],
   "source": [
    "import json\n",
    "import copy\n",
    "import numpy as np\n",
    "import cv2\n",
    "from base.utils.annotation_builder import AnnotationBuilder"
   ]
  },
  {
   "cell_type": "code",
   "execution_count": 2,
   "metadata": {},
   "outputs": [],
   "source": [
    "ao = json.load(open('/home/andrea/Documents/Repositories/AIDA/dist/data/annotations/17_A047-4463_153D+-+2017-05-11+09.40.22_pre_shrunk.json'))"
   ]
  },
  {
   "cell_type": "code",
   "execution_count": 3,
   "metadata": {},
   "outputs": [
    {
     "name": "stdout",
     "output_type": "stream",
     "text": [
      " epithelium num points: m243.0, s196.0 epithelium contour area: m75806.0, s133526.0\n",
      " lumen num points: m233.0, s230.0 lumen contour area: m50832.0, s96161.0\n",
      "\n"
     ]
    },
    {
     "data": {
      "text/plain": [
       "' epithelium num points: m243.0, s196.0 epithelium contour area: m75806.0, s133526.0\\n lumen num points: m233.0, s230.0 lumen contour area: m50832.0, s96161.0\\n'"
      ]
     },
     "execution_count": 3,
     "metadata": {},
     "output_type": "execute_result"
    },
    {
     "data": {
      "image/png": "[encoded data removed]",
      "text/plain": [
       "<Figure size 432x288 with 4 Axes>"
      ]
     },
     "metadata": {
      "needs_background": "light"
     },
     "output_type": "display_data"
    }
   ],
   "source": [
    "ab = AnnotationBuilder.from_object(ao)\n",
    "ab.summary_plot(30)"
   ]
  },
  {
   "cell_type": "code",
   "execution_count": 4,
   "metadata": {},
   "outputs": [
    {
     "name": "stdout",
     "output_type": "stream",
     "text": [
      " epithelium num points: m49.0, s39.0 epithelium contour area: m75029.0, s133053.0\n",
      " lumen num points: m47.0, s46.0 lumen contour area: m50302.0, s96202.0\n",
      "\n"
     ]
    },
    {
     "data": {
      "image/png": "[encoded data removed]",
      "text/plain": [
       "<Figure size 432x288 with 4 Axes>"
      ]
     },
     "metadata": {
      "needs_background": "light"
     },
     "output_type": "display_data"
    }
   ],
   "source": [
    "ab.shrink_paths(0.8)\n",
    "ab.summary_plot(30)\n",
    "ab.dump_to_json('/home/andrea/Documents/Repositories/AIDA/dist/data/annotations/', name='shrunk0')"
   ]
  },
  {
   "cell_type": "code",
   "execution_count": 5,
   "metadata": {},
   "outputs": [],
   "source": [
    "new_layer = copy.deepcopy(ab._obj['layers'][0])\n",
    "new_item = copy.deepcopy(new_layer['items'][0])"
   ]
  },
  {
   "cell_type": "code",
   "execution_count": 6,
   "metadata": {},
   "outputs": [
    {
     "name": "stdout",
     "output_type": "stream",
     "text": [
      "237 0.18703046592797884\n"
     ]
    }
   ],
   "source": [
    "item_contour = np.array(list(ab.item_points(new_item))).astype(np.int32)[:, np.newaxis, :]  # contour functions only work on int32\n",
    "x, y, w, h = cv2.boundingRect(item_contour)\n",
    "point_density = (len(new_item['segments']) / 4) / np.sqrt(w*h) \n",
    "print(len(new_item['segments']), point_density)"
   ]
  },
  {
   "cell_type": "code",
   "execution_count": 7,
   "metadata": {},
   "outputs": [
    {
     "name": "stdout",
     "output_type": "stream",
     "text": [
      "237\n",
      "237\n"
     ]
    }
   ],
   "source": [
    "factor, min_point_density, min_point_num = 1.0, 0.1, 10\n",
    "new_item = copy.deepcopy(new_layer['items'][0])\n",
    "def pairwise(iterable):\n",
    "    from itertools import tee\n",
    "    \"s -> (s0,s1), (s1,s2), (s2, s3), ...\"\n",
    "    a, b = tee(iterable)\n",
    "    next(b, None)\n",
    "    return zip(a, b)\n",
    "if not (len(new_item['segments']) / 4) / np.sqrt(w*h) < min_point_density \\\n",
    "        and len(new_item['segments']) > min_point_num:\n",
    "    new_len = round(len(new_item['segments']) * factor)  # length of new element after point removal\n",
    "    # distances from smallest to greatest, with index of first point along contour\n",
    "    indexed_distances = sorted(((j, ab.euclidean_dist(p1, p2))\n",
    "                                for j, (p1, p2) in enumerate(pairwise(ab.item_points(new_item)))),\n",
    "                               key=lambda indexed_el: indexed_el[1])\n",
    "    # reorder so that first eliminated point is last in the list,\n",
    "    # so that index of next point is preserved\n",
    "    indexed_distances = sorted(indexed_distances, key=lambda indexed_el: indexed_el[0], reverse=True)\n",
    "    print(len(new_item['segments']))\n",
    "    for idx, dist in indexed_distances[0:(len(new_item['segments']) - new_len)]:\n",
    "        del new_item['segments'][idx]\n",
    "print(len(new_item['segments']))"
   ]
  },
  {
   "cell_type": "code",
   "execution_count": 8,
   "metadata": {},
   "outputs": [],
   "source": [
    "indexed_distances = sorted(((j, ab.euclidean_dist(p1, p2))\n",
    "                            for j, (p1, p2) in enumerate(pairwise(ab.item_points(new_item)))),\n",
    "                           key=lambda indexed_el: indexed_el[1])"
   ]
  },
  {
   "cell_type": "code",
   "execution_count": 10,
   "metadata": {},
   "outputs": [
    {
     "name": "stdout",
     "output_type": "stream",
     "text": [
      "[(31, 1.0), (46, 1.0), (58, 1.0), (68, 1.0), (72, 1.0), (74, 1.0), (83, 1.0), (86, 1.0), (102, 1.0), (105, 1.0), (187, 1.0), (207, 1.0), (36, 1.4142135623730951), (39, 1.4142135623730951), (50, 1.4142135623730951), (52, 1.4142135623730951), (59, 1.4142135623730951), (69, 1.4142135623730951), (71, 1.4142135623730951), (75, 1.4142135623730951), (84, 1.4142135623730951), (87, 1.4142135623730951), (94, 1.4142135623730951), (123, 1.4142135623730951), (161, 1.4142135623730951), (186, 1.4142135623730951), (193, 1.4142135623730951), (15, 2.23606797749979), (16, 2.23606797749979), (18, 2.23606797749979), (30, 2.23606797749979), (55, 2.23606797749979), (62, 2.23606797749979), (64, 2.23606797749979), (65, 2.23606797749979), (76, 2.23606797749979), (77, 2.23606797749979), (88, 2.23606797749979), (89, 2.23606797749979), (91, 2.23606797749979), (92, 2.23606797749979), (106, 2.23606797749979), (107, 2.23606797749979), (121, 2.23606797749979), (122, 2.23606797749979), (140, 2.23606797749979), (141, 2.23606797749979), (155, 2.23606797749979), (156, 2.23606797749979), (159, 2.23606797749979), (160, 2.23606797749979), (163, 2.23606797749979), (164, 2.23606797749979), (169, 2.23606797749979), (170, 2.23606797749979), (182, 2.23606797749979), (183, 2.23606797749979), (192, 2.23606797749979), (194, 2.23606797749979), (226, 2.23606797749979), (227, 2.23606797749979), (22, 2.8284271247461903), (32, 2.8284271247461903), (45, 2.8284271247461903), (57, 2.8284271247461903), (67, 2.8284271247461903), (73, 2.8284271247461903), (82, 2.8284271247461903), (101, 2.8284271247461903), (104, 2.8284271247461903), (188, 2.8284271247461903), (5, 3.0), (8, 3.0), (28, 3.0), (42, 3.0), (81, 3.0), (99, 3.0), (120, 3.0), (131, 3.0), (133, 3.0), (142, 3.0), (144, 3.0), (154, 3.0), (165, 3.0), (171, 3.0), (175, 3.0), (179, 3.0), (189, 3.0), (196, 3.0), (198, 3.0), (212, 3.0), (215, 3.0), (219, 3.0), (224, 3.0), (228, 3.0), (234, 3.0), (191, 3.1622776601683795), (0, 3.605551275463989), (2, 3.605551275463989), (4, 3.605551275463989)]\n"
     ]
    }
   ],
   "source": [
    "print(indexed_distances[0:100])"
   ]
  },
  {
   "cell_type": "code",
   "execution_count": null,
   "metadata": {},
   "outputs": [],
   "source": []
  }
 ],
 "metadata": {
  "kernelspec": {
   "display_name": "Python 3",
   "language": "python",
   "name": "python3"
  },
  "language_info": {
   "codemirror_mode": {
    "name": "ipython",
    "version": 3
   },
   "file_extension": ".py",
   "mimetype": "text/x-python",
   "name": "python",
   "nbconvert_exporter": "python",
   "pygments_lexer": "ipython3",
   "version": "3.7.2"
  }
 },
 "nbformat": 4,
 "nbformat_minor": 2
}
