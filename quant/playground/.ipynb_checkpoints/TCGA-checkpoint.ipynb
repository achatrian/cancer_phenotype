{
 "cells": [
  {
   "cell_type": "code",
   "execution_count": 1,
   "metadata": {
    "pycharm": {
     "is_executing": false
    }
   },
   "outputs": [],
   "source": [
    "from pathlib import Path\n",
    "from numbers import Number\n",
    "import numpy as np\n",
    "import pandas as pd\n",
    "from matplotlib import pyplot as plt\n",
    "import seaborn as sns\n",
    "import h5py\n",
    "from contrastive import CPCA\n",
    "from sklearn.ensemble import IsolationForest\n",
    "sns.set()"
   ]
  },
  {
   "cell_type": "code",
   "execution_count": 2,
   "metadata": {
    "pycharm": {
     "is_executing": false
    }
   },
   "outputs": [],
   "source": [
    "gleason_table_path = Path('/mnt/rescomp/projects/TCGA_prostate/TCGA/data/gdc_download_20190827_173135.969230/06efd272-a76f-4703-98b8-dfa751c0f019/nationwidechildrens.org_clinical_patient_prad.txt')\n",
    "gleason_table = pd.read_csv(gleason_table_path, delimiter='\\t', skiprows=lambda x: x in [1, 2])"
   ]
  },
  {
   "cell_type": "code",
   "execution_count": 21,
   "metadata": {},
   "outputs": [
    {
     "name": "stdout",
     "output_type": "stream",
     "text": [
      "['age_at_initial_pathologic_diagnosis', 'bcr_patient_barcode', 'bcr_patient_uuid', 'biochemical_recurrence_indicator', 'birth_days_to', 'bone_scan_results', 'cause_of_death', 'cause_of_death_source', 'clinical_M', 'clinical_N', 'clinical_T', 'clinical_stage', 'ct_scan_ab_pelvis_indicator', 'ct_scan_ab_pelvis_results', 'days_to_biochemical_recurrence_first', 'days_to_bone_scan', 'days_to_ct_scan_ab_pelvis', 'days_to_initial_pathologic_diagnosis', 'days_to_mri', 'days_to_psa_most_recent', 'death_days_to', 'diagnostic_mri_performed', 'disease_code', 'ethnicity', 'extranodal_involvement', 'form_completion_date', 'gender', 'gleason_pattern_primary', 'gleason_pattern_secondary', 'gleason_pattern_tertiary', 'gleason_score', 'histologic_diagnosis', 'histologic_diagnosis_other', 'history_neoadjuvant_treatment', 'history_other_malignancy', 'icd_10', 'icd_o_3_histology', 'icd_o_3_site', 'informed_consent_verified', 'initial_pathologic_diagnosis_method', 'initial_pathologic_dx_year', 'last_contact_days_to', 'laterality', 'lymph_nodes_examined', 'lymph_nodes_examined_count', 'lymph_nodes_examined_he_count', 'mri_results', 'new_tumor_event_dx_indicator', 'pathologic_M', 'pathologic_N', 'pathologic_T', 'pathologic_stage', 'patient_id', 'pharmaceutical_tx_adjuvant', 'project_code', 'prospective_collection', 'psa_most_recent_results', 'race', 'radiation_treatment_adjuvant', 'residual_tumor', 'retrospective_collection', 'stage_other', 'system_version', 'tissue_source_site', 'treatment_outcome_first_course', 'tumor_level', 'tumor_status', 'tumor_tissue_site', 'vital_status', 'zone_of_origin']\n"
     ]
    }
   ],
   "source": [
    "print(sorted(gleason_table.columns))"
   ]
  },
  {
   "cell_type": "code",
   "execution_count": 3,
   "metadata": {
    "pycharm": {
     "is_executing": false
    }
   },
   "outputs": [
    {
     "data": {
      "text/plain": [
       "[<matplotlib.axis.XTick at 0x7f876a8fc978>,\n",
       " <matplotlib.axis.XTick at 0x7f876a8fc208>,\n",
       " <matplotlib.axis.XTick at 0x7f876a8f1ac8>]"
      ]
     },
     "execution_count": 3,
     "metadata": {},
     "output_type": "execute_result"
    },
    {
     "data": {
      "image/png": "[encoded data removed]",
      "text/plain": [
       "<Figure size 1440x360 with 3 Axes>"
      ]
     },
     "metadata": {
      "needs_background": "light"
     },
     "output_type": "display_data"
    }
   ],
   "source": [
    "# Plot distribution of primary and secondary patterns\n",
    "def replace_string_value(el):\n",
    "    if isinstance(el, str):\n",
    "        if el.isdigit():\n",
    "            el = int(el)\n",
    "        else:\n",
    "            el = -1\n",
    "    return el\n",
    "fig, axes = plt.subplots(1, 3, figsize=(20, 5))\n",
    "gleason_pattern_primary = gleason_table.loc[:, 'gleason_score'].to_frame().applymap(replace_string_value)\n",
    "gleason_pattern_primary[gleason_pattern_primary != -1].hist(bins=[5.5, 6.5, 7.5, 8.5, 9.5, 10.5], ax=axes[0])\n",
    "gleason_pattern_primary = gleason_table.loc[:, 'gleason_pattern_primary'].to_frame().applymap(replace_string_value)\n",
    "gleason_pattern_primary[gleason_pattern_primary != -1].hist(bins=[2.5, 3.5, 4.5, 5.5], ax=axes[1])\n",
    "gleason_pattern_primary = gleason_table.loc[:, 'gleason_pattern_secondary'].to_frame().applymap(replace_string_value)\n",
    "gleason_pattern_primary[gleason_pattern_primary != -1].hist(bins=[2.5, 3.5, 4.5, 5.5], ax=axes[2])\n",
    "axes[0].set_xticks([5, 6, 7, 8, 9, 10])\n",
    "axes[1].set_xticks([3, 4, 5])\n",
    "axes[2].set_xticks([3, 4, 5])\n",
    "# primary pattern is most widespread pattern, second pattern is pattern with the highest score"
   ]
  },
  {
   "cell_type": "code",
   "execution_count": 57,
   "metadata": {},
   "outputs": [
    {
     "name": "stdout",
     "output_type": "stream",
     "text": [
      "[-1.000e+00  0.000e+00  1.000e-02  1.500e-02  1.900e-02  2.000e-02\n",
      "  2.400e-02  3.000e-02  4.000e-02  5.000e-02  5.900e-02  6.000e-02\n",
      "  6.400e-02  7.000e-02  8.000e-02  9.000e-02  9.900e-02  1.000e-01\n",
      "  1.100e-01  1.200e-01  1.300e-01  1.400e-01  1.500e-01  1.600e-01\n",
      "  1.800e-01  1.900e-01  2.000e-01  2.300e-01  2.400e-01  2.500e-01\n",
      "  2.800e-01  3.000e-01  3.200e-01  3.600e-01  3.700e-01  3.800e-01\n",
      "  4.000e-01  4.200e-01  4.800e-01  5.000e-01  5.300e-01  5.500e-01\n",
      "  6.000e-01  6.500e-01  6.520e-01  7.000e-01  7.300e-01  7.600e-01\n",
      "  8.000e-01  8.300e-01  9.000e-01  9.500e-01  1.000e+00  1.100e+00\n",
      "  1.130e+00  1.360e+00  1.440e+00  1.600e+00  1.800e+00  2.190e+00\n",
      "  3.000e+00  3.100e+00  3.110e+00  3.150e+00  3.260e+00  3.270e+00\n",
      "  3.370e+00  3.500e+00  3.580e+00  4.090e+00  4.300e+00  4.530e+00\n",
      "  5.040e+00  5.220e+00  6.400e+00  7.420e+00  7.820e+00  8.490e+00\n",
      "  9.630e+00  9.690e+00  1.080e+01  1.087e+01  1.090e+01  1.116e+01\n",
      "  1.149e+01  1.201e+01  1.390e+01  1.395e+01  1.469e+01  1.560e+01\n",
      "  1.980e+01  2.810e+01  3.185e+01  3.736e+01  3.980e+01  3.230e+02]\n",
      "removed  0 samples\n",
      "psa_most_recent_results    0.1\n",
      "dtype: float64\n"
     ]
    }
   ],
   "source": [
    "def replace_string_value(el):\n",
    "    if isinstance(el, str):\n",
    "        try:\n",
    "            el = float(el)\n",
    "        except ValueError:\n",
    "            el = -1\n",
    "    return el\n",
    "# convert strings to floats\n",
    "psa_values = gleason_table['psa_most_recent_results'].to_frame().applymap(replace_string_value)\n",
    "print(np.unique(psa_values))\n",
    "# remove zeros\n",
    "n_before = len(psa_values)\n",
    "psa_values = psa_values[psa_values > 0.0]\n",
    "print(f\"removed  {n_before - len(psa_values)} samples\")\n",
    "print(psa_values.median())"
   ]
  },
  {
   "cell_type": "code",
   "execution_count": 49,
   "metadata": {},
   "outputs": [
    {
     "data": {
      "text/plain": [
       "(array([ 68.,  73., 184.,  25.,  24.,  17.,  15.,   7.,   0.,   1.]),\n",
       " array([-4.60517019, -3.56688794, -2.52860568, -1.49032343, -0.45204118,\n",
       "         0.58624107,  1.62452332,  2.66280557,  3.70108782,  4.73937007,\n",
       "         5.77765232]),\n",
       " <a list of 10 Patch objects>)"
      ]
     },
     "execution_count": 49,
     "metadata": {},
     "output_type": "execute_result"
    },
    {
     "data": {
      "image/png": "[encoded data removed]",
      "text/plain": [
       "<Figure size 432x288 with 1 Axes>"
      ]
     },
     "metadata": {
      "needs_background": "light"
     },
     "output_type": "display_data"
    }
   ],
   "source": [
    "plt.hist(np.log(psa_values.values), log=True)"
   ]
  },
  {
   "cell_type": "code",
   "execution_count": 50,
   "metadata": {},
   "outputs": [
    {
     "data": {
      "text/html": [
       "<div>\n",
       "<style scoped>\n",
       "    .dataframe tbody tr th:only-of-type {\n",
       "        vertical-align: middle;\n",
       "    }\n",
       "\n",
       "    .dataframe tbody tr th {\n",
       "        vertical-align: top;\n",
       "    }\n",
       "\n",
       "    .dataframe thead th {\n",
       "        text-align: right;\n",
       "    }\n",
       "</style>\n",
       "<table border=\"1\" class=\"dataframe\">\n",
       "  <thead>\n",
       "    <tr style=\"text-align: right;\">\n",
       "      <th></th>\n",
       "      <th>bcr_patient_uuid</th>\n",
       "      <th>bcr_patient_barcode</th>\n",
       "      <th>form_completion_date</th>\n",
       "      <th>histologic_diagnosis</th>\n",
       "      <th>histologic_diagnosis_other</th>\n",
       "      <th>zone_of_origin</th>\n",
       "      <th>gleason_pattern_primary</th>\n",
       "      <th>gleason_pattern_secondary</th>\n",
       "      <th>gleason_score</th>\n",
       "      <th>gleason_pattern_tertiary</th>\n",
       "      <th>...</th>\n",
       "      <th>pathologic_M</th>\n",
       "      <th>pathologic_N</th>\n",
       "      <th>pathologic_T</th>\n",
       "      <th>pathologic_stage</th>\n",
       "      <th>patient_id</th>\n",
       "      <th>project_code</th>\n",
       "      <th>stage_other</th>\n",
       "      <th>system_version</th>\n",
       "      <th>tissue_source_site</th>\n",
       "      <th>tumor_tissue_site</th>\n",
       "    </tr>\n",
       "  </thead>\n",
       "  <tbody>\n",
       "    <tr>\n",
       "      <td>0</td>\n",
       "      <td>49197847-CC83-4CE1-8397-D09CEA4C4928</td>\n",
       "      <td>TCGA-2A-A8VL</td>\n",
       "      <td>2014-3-29</td>\n",
       "      <td>Prostate Adenocarcinoma Acinar Type</td>\n",
       "      <td>[Not Applicable]</td>\n",
       "      <td>Peripheral Zone</td>\n",
       "      <td>3</td>\n",
       "      <td>3</td>\n",
       "      <td>6</td>\n",
       "      <td>4</td>\n",
       "      <td>...</td>\n",
       "      <td>[Not Applicable]</td>\n",
       "      <td>N0</td>\n",
       "      <td>T2b</td>\n",
       "      <td>[Not Applicable]</td>\n",
       "      <td>A8VL</td>\n",
       "      <td>[Not Available]</td>\n",
       "      <td>[Not Available]</td>\n",
       "      <td>[Not Applicable]</td>\n",
       "      <td>2A</td>\n",
       "      <td>Prostate</td>\n",
       "    </tr>\n",
       "    <tr>\n",
       "      <td>1</td>\n",
       "      <td>91C0D161-2B59-4B7A-8C19-6D26DEA31849</td>\n",
       "      <td>TCGA-2A-A8VO</td>\n",
       "      <td>2014-3-30</td>\n",
       "      <td>Prostate Adenocarcinoma Acinar Type</td>\n",
       "      <td>[Not Applicable]</td>\n",
       "      <td>Overlapping / Multiple Zones</td>\n",
       "      <td>3</td>\n",
       "      <td>3</td>\n",
       "      <td>6</td>\n",
       "      <td>4</td>\n",
       "      <td>...</td>\n",
       "      <td>[Not Applicable]</td>\n",
       "      <td>[Not Available]</td>\n",
       "      <td>T3a</td>\n",
       "      <td>[Not Applicable]</td>\n",
       "      <td>A8VO</td>\n",
       "      <td>[Not Available]</td>\n",
       "      <td>[Not Available]</td>\n",
       "      <td>[Not Applicable]</td>\n",
       "      <td>2A</td>\n",
       "      <td>Prostate</td>\n",
       "    </tr>\n",
       "    <tr>\n",
       "      <td>2</td>\n",
       "      <td>931B549F-B9F2-4E8D-83ED-FF663671883C</td>\n",
       "      <td>TCGA-2A-A8VT</td>\n",
       "      <td>2014-3-29</td>\n",
       "      <td>Prostate Adenocarcinoma Acinar Type</td>\n",
       "      <td>[Not Applicable]</td>\n",
       "      <td>Overlapping / Multiple Zones</td>\n",
       "      <td>4</td>\n",
       "      <td>5</td>\n",
       "      <td>9</td>\n",
       "      <td>[Not Available]</td>\n",
       "      <td>...</td>\n",
       "      <td>[Not Applicable]</td>\n",
       "      <td>N1</td>\n",
       "      <td>T4</td>\n",
       "      <td>[Not Applicable]</td>\n",
       "      <td>A8VT</td>\n",
       "      <td>[Not Available]</td>\n",
       "      <td>[Not Available]</td>\n",
       "      <td>[Not Applicable]</td>\n",
       "      <td>2A</td>\n",
       "      <td>Prostate</td>\n",
       "    </tr>\n",
       "    <tr>\n",
       "      <td>3</td>\n",
       "      <td>75A7AFB5-66D5-47E3-8A8A-3E3A1E749A96</td>\n",
       "      <td>TCGA-2A-A8VV</td>\n",
       "      <td>2014-3-29</td>\n",
       "      <td>Prostate Adenocarcinoma Acinar Type</td>\n",
       "      <td>[Not Applicable]</td>\n",
       "      <td>Peripheral Zone</td>\n",
       "      <td>3</td>\n",
       "      <td>3</td>\n",
       "      <td>6</td>\n",
       "      <td>4</td>\n",
       "      <td>...</td>\n",
       "      <td>[Not Applicable]</td>\n",
       "      <td>N0</td>\n",
       "      <td>T2b</td>\n",
       "      <td>[Not Applicable]</td>\n",
       "      <td>A8VV</td>\n",
       "      <td>[Not Available]</td>\n",
       "      <td>[Not Available]</td>\n",
       "      <td>[Not Applicable]</td>\n",
       "      <td>2A</td>\n",
       "      <td>Prostate</td>\n",
       "    </tr>\n",
       "    <tr>\n",
       "      <td>4</td>\n",
       "      <td>942F1788-D977-4AC0-A177-659F9D4CD077</td>\n",
       "      <td>TCGA-2A-A8VX</td>\n",
       "      <td>2014-3-29</td>\n",
       "      <td>Prostate Adenocarcinoma Acinar Type</td>\n",
       "      <td>[Not Applicable]</td>\n",
       "      <td>Peripheral Zone</td>\n",
       "      <td>4</td>\n",
       "      <td>4</td>\n",
       "      <td>8</td>\n",
       "      <td>[Not Available]</td>\n",
       "      <td>...</td>\n",
       "      <td>[Not Applicable]</td>\n",
       "      <td>N0</td>\n",
       "      <td>T3b</td>\n",
       "      <td>[Not Applicable]</td>\n",
       "      <td>A8VX</td>\n",
       "      <td>[Not Available]</td>\n",
       "      <td>[Not Available]</td>\n",
       "      <td>[Not Applicable]</td>\n",
       "      <td>2A</td>\n",
       "      <td>Prostate</td>\n",
       "    </tr>\n",
       "    <tr>\n",
       "      <td>...</td>\n",
       "      <td>...</td>\n",
       "      <td>...</td>\n",
       "      <td>...</td>\n",
       "      <td>...</td>\n",
       "      <td>...</td>\n",
       "      <td>...</td>\n",
       "      <td>...</td>\n",
       "      <td>...</td>\n",
       "      <td>...</td>\n",
       "      <td>...</td>\n",
       "      <td>...</td>\n",
       "      <td>...</td>\n",
       "      <td>...</td>\n",
       "      <td>...</td>\n",
       "      <td>...</td>\n",
       "      <td>...</td>\n",
       "      <td>...</td>\n",
       "      <td>...</td>\n",
       "      <td>...</td>\n",
       "      <td>...</td>\n",
       "      <td>...</td>\n",
       "    </tr>\n",
       "    <tr>\n",
       "      <td>495</td>\n",
       "      <td>9B5D36B2-8B46-48A4-AFA7-0E1936F2D315</td>\n",
       "      <td>TCGA-ZG-A9M4</td>\n",
       "      <td>2014-7-18</td>\n",
       "      <td>Prostate Adenocarcinoma Acinar Type</td>\n",
       "      <td>[Not Applicable]</td>\n",
       "      <td>Overlapping / Multiple Zones</td>\n",
       "      <td>5</td>\n",
       "      <td>4</td>\n",
       "      <td>9</td>\n",
       "      <td>[Not Available]</td>\n",
       "      <td>...</td>\n",
       "      <td>[Not Applicable]</td>\n",
       "      <td>N1</td>\n",
       "      <td>T3b</td>\n",
       "      <td>[Not Applicable]</td>\n",
       "      <td>A9M4</td>\n",
       "      <td>[Not Available]</td>\n",
       "      <td>[Not Available]</td>\n",
       "      <td>[Not Applicable]</td>\n",
       "      <td>ZG</td>\n",
       "      <td>Prostate</td>\n",
       "    </tr>\n",
       "    <tr>\n",
       "      <td>496</td>\n",
       "      <td>7EFC26B2-EFF9-4F1E-9F4B-F26AF072C84A</td>\n",
       "      <td>TCGA-ZG-A9MC</td>\n",
       "      <td>2014-7-18</td>\n",
       "      <td>Prostate Adenocarcinoma Acinar Type</td>\n",
       "      <td>[Not Applicable]</td>\n",
       "      <td>Peripheral Zone</td>\n",
       "      <td>5</td>\n",
       "      <td>4</td>\n",
       "      <td>9</td>\n",
       "      <td>3</td>\n",
       "      <td>...</td>\n",
       "      <td>[Not Applicable]</td>\n",
       "      <td>N1</td>\n",
       "      <td>T3b</td>\n",
       "      <td>[Not Applicable]</td>\n",
       "      <td>A9MC</td>\n",
       "      <td>[Not Available]</td>\n",
       "      <td>[Not Available]</td>\n",
       "      <td>[Not Applicable]</td>\n",
       "      <td>ZG</td>\n",
       "      <td>Prostate</td>\n",
       "    </tr>\n",
       "    <tr>\n",
       "      <td>497</td>\n",
       "      <td>305B0B57-5952-43C7-9063-7BCD954EB44D</td>\n",
       "      <td>TCGA-ZG-A9N3</td>\n",
       "      <td>2014-7-18</td>\n",
       "      <td>Prostate Adenocarcinoma Acinar Type</td>\n",
       "      <td>[Not Applicable]</td>\n",
       "      <td>Overlapping / Multiple Zones</td>\n",
       "      <td>5</td>\n",
       "      <td>4</td>\n",
       "      <td>9</td>\n",
       "      <td>3</td>\n",
       "      <td>...</td>\n",
       "      <td>[Not Applicable]</td>\n",
       "      <td>N1</td>\n",
       "      <td>T3b</td>\n",
       "      <td>[Not Applicable]</td>\n",
       "      <td>A9N3</td>\n",
       "      <td>[Not Available]</td>\n",
       "      <td>[Not Available]</td>\n",
       "      <td>[Not Applicable]</td>\n",
       "      <td>ZG</td>\n",
       "      <td>Prostate</td>\n",
       "    </tr>\n",
       "    <tr>\n",
       "      <td>498</td>\n",
       "      <td>348C2BF3-2146-4990-9ADF-FA6968B4F072</td>\n",
       "      <td>TCGA-ZG-A9ND</td>\n",
       "      <td>2014-7-18</td>\n",
       "      <td>Prostate Adenocarcinoma Acinar Type</td>\n",
       "      <td>[Not Applicable]</td>\n",
       "      <td>Overlapping / Multiple Zones</td>\n",
       "      <td>5</td>\n",
       "      <td>4</td>\n",
       "      <td>9</td>\n",
       "      <td>3</td>\n",
       "      <td>...</td>\n",
       "      <td>[Not Applicable]</td>\n",
       "      <td>N0</td>\n",
       "      <td>T3a</td>\n",
       "      <td>[Not Applicable]</td>\n",
       "      <td>A9ND</td>\n",
       "      <td>[Not Available]</td>\n",
       "      <td>[Not Available]</td>\n",
       "      <td>[Not Applicable]</td>\n",
       "      <td>ZG</td>\n",
       "      <td>Prostate</td>\n",
       "    </tr>\n",
       "    <tr>\n",
       "      <td>499</td>\n",
       "      <td>03C15D06-B81E-433C-9DE4-906CBA91539F</td>\n",
       "      <td>TCGA-ZG-A9NI</td>\n",
       "      <td>2014-7-18</td>\n",
       "      <td>Prostate Adenocarcinoma Acinar Type</td>\n",
       "      <td>[Not Applicable]</td>\n",
       "      <td>Overlapping / Multiple Zones</td>\n",
       "      <td>5</td>\n",
       "      <td>4</td>\n",
       "      <td>9</td>\n",
       "      <td>3</td>\n",
       "      <td>...</td>\n",
       "      <td>[Not Applicable]</td>\n",
       "      <td>N0</td>\n",
       "      <td>T3b</td>\n",
       "      <td>[Not Applicable]</td>\n",
       "      <td>A9NI</td>\n",
       "      <td>[Not Available]</td>\n",
       "      <td>[Not Available]</td>\n",
       "      <td>[Not Applicable]</td>\n",
       "      <td>ZG</td>\n",
       "      <td>Prostate</td>\n",
       "    </tr>\n",
       "  </tbody>\n",
       "</table>\n",
       "<p>500 rows × 70 columns</p>\n",
       "</div>"
      ],
      "text/plain": [
       "                         bcr_patient_uuid bcr_patient_barcode  \\\n",
       "0    49197847-CC83-4CE1-8397-D09CEA4C4928        TCGA-2A-A8VL   \n",
       "1    91C0D161-2B59-4B7A-8C19-6D26DEA31849        TCGA-2A-A8VO   \n",
       "2    931B549F-B9F2-4E8D-83ED-FF663671883C        TCGA-2A-A8VT   \n",
       "3    75A7AFB5-66D5-47E3-8A8A-3E3A1E749A96        TCGA-2A-A8VV   \n",
       "4    942F1788-D977-4AC0-A177-659F9D4CD077        TCGA-2A-A8VX   \n",
       "..                                    ...                 ...   \n",
       "495  9B5D36B2-8B46-48A4-AFA7-0E1936F2D315        TCGA-ZG-A9M4   \n",
       "496  7EFC26B2-EFF9-4F1E-9F4B-F26AF072C84A        TCGA-ZG-A9MC   \n",
       "497  305B0B57-5952-43C7-9063-7BCD954EB44D        TCGA-ZG-A9N3   \n",
       "498  348C2BF3-2146-4990-9ADF-FA6968B4F072        TCGA-ZG-A9ND   \n",
       "499  03C15D06-B81E-433C-9DE4-906CBA91539F        TCGA-ZG-A9NI   \n",
       "\n",
       "    form_completion_date                 histologic_diagnosis  \\\n",
       "0              2014-3-29  Prostate Adenocarcinoma Acinar Type   \n",
       "1              2014-3-30  Prostate Adenocarcinoma Acinar Type   \n",
       "2              2014-3-29  Prostate Adenocarcinoma Acinar Type   \n",
       "3              2014-3-29  Prostate Adenocarcinoma Acinar Type   \n",
       "4              2014-3-29  Prostate Adenocarcinoma Acinar Type   \n",
       "..                   ...                                  ...   \n",
       "495            2014-7-18  Prostate Adenocarcinoma Acinar Type   \n",
       "496            2014-7-18  Prostate Adenocarcinoma Acinar Type   \n",
       "497            2014-7-18  Prostate Adenocarcinoma Acinar Type   \n",
       "498            2014-7-18  Prostate Adenocarcinoma Acinar Type   \n",
       "499            2014-7-18  Prostate Adenocarcinoma Acinar Type   \n",
       "\n",
       "    histologic_diagnosis_other                zone_of_origin  \\\n",
       "0             [Not Applicable]               Peripheral Zone   \n",
       "1             [Not Applicable]  Overlapping / Multiple Zones   \n",
       "2             [Not Applicable]  Overlapping / Multiple Zones   \n",
       "3             [Not Applicable]               Peripheral Zone   \n",
       "4             [Not Applicable]               Peripheral Zone   \n",
       "..                         ...                           ...   \n",
       "495           [Not Applicable]  Overlapping / Multiple Zones   \n",
       "496           [Not Applicable]               Peripheral Zone   \n",
       "497           [Not Applicable]  Overlapping / Multiple Zones   \n",
       "498           [Not Applicable]  Overlapping / Multiple Zones   \n",
       "499           [Not Applicable]  Overlapping / Multiple Zones   \n",
       "\n",
       "     gleason_pattern_primary  gleason_pattern_secondary  gleason_score  \\\n",
       "0                          3                          3              6   \n",
       "1                          3                          3              6   \n",
       "2                          4                          5              9   \n",
       "3                          3                          3              6   \n",
       "4                          4                          4              8   \n",
       "..                       ...                        ...            ...   \n",
       "495                        5                          4              9   \n",
       "496                        5                          4              9   \n",
       "497                        5                          4              9   \n",
       "498                        5                          4              9   \n",
       "499                        5                          4              9   \n",
       "\n",
       "    gleason_pattern_tertiary  ...      pathologic_M     pathologic_N  \\\n",
       "0                          4  ...  [Not Applicable]               N0   \n",
       "1                          4  ...  [Not Applicable]  [Not Available]   \n",
       "2            [Not Available]  ...  [Not Applicable]               N1   \n",
       "3                          4  ...  [Not Applicable]               N0   \n",
       "4            [Not Available]  ...  [Not Applicable]               N0   \n",
       "..                       ...  ...               ...              ...   \n",
       "495          [Not Available]  ...  [Not Applicable]               N1   \n",
       "496                        3  ...  [Not Applicable]               N1   \n",
       "497                        3  ...  [Not Applicable]               N1   \n",
       "498                        3  ...  [Not Applicable]               N0   \n",
       "499                        3  ...  [Not Applicable]               N0   \n",
       "\n",
       "    pathologic_T  pathologic_stage patient_id     project_code  \\\n",
       "0            T2b  [Not Applicable]       A8VL  [Not Available]   \n",
       "1            T3a  [Not Applicable]       A8VO  [Not Available]   \n",
       "2             T4  [Not Applicable]       A8VT  [Not Available]   \n",
       "3            T2b  [Not Applicable]       A8VV  [Not Available]   \n",
       "4            T3b  [Not Applicable]       A8VX  [Not Available]   \n",
       "..           ...               ...        ...              ...   \n",
       "495          T3b  [Not Applicable]       A9M4  [Not Available]   \n",
       "496          T3b  [Not Applicable]       A9MC  [Not Available]   \n",
       "497          T3b  [Not Applicable]       A9N3  [Not Available]   \n",
       "498          T3a  [Not Applicable]       A9ND  [Not Available]   \n",
       "499          T3b  [Not Applicable]       A9NI  [Not Available]   \n",
       "\n",
       "         stage_other    system_version tissue_source_site tumor_tissue_site  \n",
       "0    [Not Available]  [Not Applicable]                 2A          Prostate  \n",
       "1    [Not Available]  [Not Applicable]                 2A          Prostate  \n",
       "2    [Not Available]  [Not Applicable]                 2A          Prostate  \n",
       "3    [Not Available]  [Not Applicable]                 2A          Prostate  \n",
       "4    [Not Available]  [Not Applicable]                 2A          Prostate  \n",
       "..               ...               ...                ...               ...  \n",
       "495  [Not Available]  [Not Applicable]                 ZG          Prostate  \n",
       "496  [Not Available]  [Not Applicable]                 ZG          Prostate  \n",
       "497  [Not Available]  [Not Applicable]                 ZG          Prostate  \n",
       "498  [Not Available]  [Not Applicable]                 ZG          Prostate  \n",
       "499  [Not Available]  [Not Applicable]                 ZG          Prostate  \n",
       "\n",
       "[500 rows x 70 columns]"
      ]
     },
     "execution_count": 50,
     "metadata": {},
     "output_type": "execute_result"
    }
   ],
   "source": [
    "gleason_table"
   ]
  },
  {
   "cell_type": "code",
   "execution_count": 5,
   "metadata": {
    "pycharm": {
     "is_executing": false
    }
   },
   "outputs": [
    {
     "name": "stdout",
     "output_type": "stream",
     "text": [
      "['TUMOR FREE', '[Discrepancy]', '[Unknown]', 'WITH TUMOR', '[Not Available]']\n",
      "['Prostate Adenocarcinoma Acinar Type', 'Prostate Adenocarcinoma, Other Subtype']\n",
      "['[Not Applicable]', '791', '1329', '3467', '628', '728', '146', '875', '1855']\n"
     ]
    }
   ],
   "source": [
    "#\n",
    "print(list(gleason_table['tumor_status'].unique()))\n",
    "print(list(gleason_table['histologic_diagnosis'].unique()))\n",
    "print(list(gleason_table['death_days_to'].unique()))"
   ]
  },
  {
   "cell_type": "code",
   "execution_count": 6,
   "metadata": {
    "pycharm": {
     "is_executing": false
    }
   },
   "outputs": [
    {
     "name": "stdout",
     "output_type": "stream",
     "text": [
      "Dead patients: 8/500\n"
     ]
    },
    {
     "name": "stderr",
     "output_type": "stream",
     "text": [
      "/home/andrea/anaconda3/lib/python3.7/site-packages/ipykernel_launcher.py:2: DeprecationWarning: Calling np.sum(generator) is deprecated, and in the future will give a different result. Use np.sum(np.fromiter(generator)) or the python sum builtin instead.\n",
      "  \n"
     ]
    }
   ],
   "source": [
    "# number of deaths\n",
    "num_deaths = np.sum(1 if n.isdigit() else 0 for n in list(gleason_table['death_days_to'].unique()))\n",
    "print(f\"Dead patients: {num_deaths}/{gleason_table.shape[0]}\")"
   ]
  },
  {
   "cell_type": "code",
   "execution_count": 7,
   "metadata": {
    "pycharm": {
     "is_executing": false,
     "name": "#%%\n"
    }
   },
   "outputs": [
    {
     "name": "stdout",
     "output_type": "stream",
     "text": [
      "['[Not Available]', 'Extraprostatic Extension Localized (e.g. seminal vesicles)', 'No Evidence of Extraprostatic Extension', 'Equivocal', 'Extraprostatic Extension Localized (e.g. seminal vesicles)|Extraprostatic Extension (regional lymphadenopathy) [e.g. cN1]', 'No Evidence of Extraprostatic Extension|Equivocal', 'Distant Metastasis [e.g. cM1]']\n"
     ]
    }
   ],
   "source": [
    "# Inspect MRI labels\n",
    "print(list(gleason_table['mri_results'].unique()))"
   ]
  },
  {
   "cell_type": "code",
   "execution_count": 8,
   "metadata": {},
   "outputs": [],
   "source": [
    "# import foreground data (features)\n",
    "features_path = Path('/mnt/rescomp/projects/TCGA_prostate/TCGA/data/features/mpp0.4_active_learn_14f/single_key.h5')\n",
    "features = pd.read_hdf(features_path, key='features')"
   ]
  },
  {
   "cell_type": "code",
   "execution_count": 9,
   "metadata": {
    "collapsed": false,
    "jupyter": {
     "outputs_hidden": false
    },
    "pycharm": {
     "name": "#%%\n"
    }
   },
   "outputs": [
    {
     "data": {
      "text/plain": [
       "6"
      ]
     },
     "execution_count": 9,
     "metadata": {},
     "output_type": "execute_result"
    }
   ],
   "source": [
    "gleason_table[gleason_table['bcr_patient_barcode'] == features.index[0][0][:12]]['gleason_score'].iloc[0]"
   ]
  },
  {
   "cell_type": "code",
   "execution_count": 10,
   "metadata": {},
   "outputs": [
    {
     "name": "stderr",
     "output_type": "stream",
     "text": [
      "/home/andrea/anaconda3/lib/python3.7/site-packages/sklearn/ensemble/iforest.py:237: FutureWarning: default contamination parameter 0.1 will change in version 0.22 to \"auto\". This will change the predict method behavior.\n",
      "  FutureWarning)\n"
     ]
    },
    {
     "name": "stdout",
     "output_type": "stream",
     "text": [
      "# removed outliers = 11646\n"
     ]
    }
   ],
   "source": [
    "# remove outliers:\n",
    "n_before = len(features)\n",
    "inliers = list(bool(label != -1) for label in IsolationForest(behaviour='new').fit_predict(features))\n",
    "features = features.loc[inliers]\n",
    "print(f\"# removed outliers = {n_before- len(features)}\")"
   ]
  },
  {
   "cell_type": "code",
   "execution_count": 11,
   "metadata": {},
   "outputs": [],
   "source": [
    "# extract gleason score for each gland\n",
    "features_gleason = []\n",
    "missing = []\n",
    "for (slide_id, bb), row in features.iterrows():\n",
    "    row = gleason_table[gleason_table['bcr_patient_barcode'] == slide_id[:12]]\n",
    "    if row.empty:\n",
    "        missing.append((slide_id, bb))\n",
    "        features_gleason.append(-1)\n",
    "    else:\n",
    "        features_gleason.append(row['gleason_score'].iloc[0])"
   ]
  },
  {
   "cell_type": "code",
   "execution_count": 12,
   "metadata": {},
   "outputs": [
    {
     "name": "stdout",
     "output_type": "stream",
     "text": [
      "[ 6  7  8  9 10]\n",
      "0\n"
     ]
    }
   ],
   "source": [
    "print(np.unique(features_gleason))\n",
    "print(len(missing))"
   ]
  },
  {
   "cell_type": "code",
   "execution_count": 13,
   "metadata": {},
   "outputs": [
    {
     "name": "stdout",
     "output_type": "stream",
     "text": [
      "(55670, 100) (49143, 100)\n"
     ]
    }
   ],
   "source": [
    "background_indices = np.where(np.array(features_gleason) != 7)[0]\n",
    "foreground_indices = np.where(np.array(features_gleason) == 7)[0]\n",
    "background_features = features.iloc[background_indices]\n",
    "foreground_features = features.iloc[foreground_indices]\n",
    "print(background_features.shape, foreground_features.shape)"
   ]
  },
  {
   "cell_type": "code",
   "execution_count": 61,
   "metadata": {},
   "outputs": [
    {
     "name": "stdout",
     "output_type": "stream",
     "text": [
      "49143\n"
     ]
    },
    {
     "data": {
      "text/plain": [
       "23689"
      ]
     },
     "execution_count": 61,
     "metadata": {},
     "output_type": "execute_result"
    }
   ],
   "source": [
    "# construct 3+4 vs 4+3 labels\n",
    "labels = []\n",
    "for (slide_id, bb), row in foreground_features.iterrows():\n",
    "    row = gleason_table[gleason_table['bcr_patient_barcode'] == slide_id[:12]]\n",
    "    if row['gleason_pattern_primary'].iloc[0] == 3 and row['gleason_pattern_secondary'].iloc[0] == 4:\n",
    "        labels.append(0)\n",
    "    elif row['gleason_pattern_primary'].iloc[0] == 4 and row['gleason_pattern_secondary'].iloc[0] == 3:\n",
    "        labels.append(1)\n",
    "    else:\n",
    "        raise ValueError(\"shouldn't be here\")\n",
    "print(len(labels))\n",
    "sum(labels)"
   ]
  },
  {
   "cell_type": "code",
   "execution_count": 15,
   "metadata": {},
   "outputs": [
    {
     "name": "stdout",
     "output_type": "stream",
     "text": [
      "The GUI may be slow to respond with large numbers of data points. Consider using a subset of the original data.\n"
     ]
    },
    {
     "data": {
      "application/vnd.jupyter.widget-view+json": {
       "model_id": "d36d6b77a0a546689ddf7cd7a7d1fcd6",
       "version_major": 2,
       "version_minor": 0
      },
      "text/plain": [
       "interactive(children=(FloatSlider(value=0.0, continuous_update=False, description='\\\\(\\\\log_{10}{\\\\alpha} \\\\)'…"
      ]
     },
     "metadata": {},
     "output_type": "display_data"
    }
   ],
   "source": [
    "# test cpca with 3+4 vs 4+3 labels\n",
    "cpca = CPCA()\n",
    "projected_data = cpca.fit_transform(foreground_features, background_features, active_labels=labels, gui=True)"
   ]
  },
  {
   "cell_type": "code",
   "execution_count": 59,
   "metadata": {},
   "outputs": [
    {
     "name": "stdout",
     "output_type": "stream",
     "text": [
      "49143\n",
      "7612\n"
     ]
    }
   ],
   "source": [
    "# constrct psa < 1.0 and psa > 1.0 labels\n",
    "# construct 3+4 vs 4+3 labels\n",
    "def replace_string_value(el):\n",
    "    if isinstance(el, str):\n",
    "        try:\n",
    "            el = float(el)\n",
    "        except ValueError:\n",
    "            el = -1\n",
    "    return el\n",
    "labels = []\n",
    "for (slide_id, bb), row in foreground_features.iterrows():\n",
    "    row = gleason_table[gleason_table['bcr_patient_barcode'] == slide_id[:12]]\n",
    "    value = replace_string_value(row['psa_most_recent_results'].iloc[0])\n",
    "    if value > 0.1:\n",
    "        labels.append(1)\n",
    "    else:\n",
    "        labels.append(0)\n",
    "print(len(labels))\n",
    "print(sum(labels))"
   ]
  },
  {
   "cell_type": "code",
   "execution_count": 60,
   "metadata": {},
   "outputs": [
    {
     "name": "stdout",
     "output_type": "stream",
     "text": [
      "The GUI may be slow to respond with large numbers of data points. Consider using a subset of the original data.\n"
     ]
    },
    {
     "data": {
      "application/vnd.jupyter.widget-view+json": {
       "model_id": "7f459ac899c94397a29f56042f82c73a",
       "version_major": 2,
       "version_minor": 0
      },
      "text/plain": [
       "interactive(children=(FloatSlider(value=0.0, continuous_update=False, description='\\\\(\\\\log_{10}{\\\\alpha} \\\\)'…"
      ]
     },
     "metadata": {},
     "output_type": "display_data"
    }
   ],
   "source": [
    "# test cpca with psa label\n",
    "cpca = CPCA()\n",
    "projected_data = cpca.fit_transform(foreground_features, background_features, active_labels=labels, gui=True)"
   ]
  },
  {
   "cell_type": "code",
   "execution_count": null,
   "metadata": {},
   "outputs": [],
   "source": []
  }
 ],
 "metadata": {
  "kernelspec": {
   "display_name": "Python 3",
   "language": "python",
   "name": "python3"
  },
  "language_info": {
   "codemirror_mode": {
    "name": "ipython",
    "version": 3
   },
   "file_extension": ".py",
   "mimetype": "text/x-python",
   "name": "python",
   "nbconvert_exporter": "python",
   "pygments_lexer": "ipython3",
   "version": "3.7.3"
  },
  "pycharm": {
   "stem_cell": {
    "cell_type": "raw",
    "metadata": {
     "collapsed": false
    },
    "source": []
   }
  }
 },
 "nbformat": 4,
 "nbformat_minor": 4
}
