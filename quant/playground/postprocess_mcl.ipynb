{
 "cells": [
  {
   "cell_type": "code",
   "execution_count": 1,
   "metadata": {
    "pycharm": {
     "is_executing": false
    }
   },
   "outputs": [],
   "source": [
    "import argparse\n",
    "import sys\n",
    "import json\n",
    "from collections import namedtuple\n",
    "from pathlib import Path\n",
    "import logging\n",
    "import numpy as np\n",
    "from matplotlib import pyplot as plt\n",
    "from sklearn.neighbors import NearestNeighbors\n",
    "from sklearn.decomposition import PCA\n",
    "from sklearn.feature_selection import chi2\n",
    "import pandas as pd\n",
    "from tqdm import tqdm\n",
    "import joblib as jl\n",
    "import umap\n",
    "import markov_clustering as mc\n",
    "from quant.experiment import BaseExperiment, find_experiment_using_name, create_experiment\n",
    "from quant.utils import print_options, read_parameter_values, print_parameters\n",
    "from quant.viz import get_cluster_examples, make_cluster_grids\n",
    "sys.path.append('..')\n",
    "np.random.seed(72)  # ensure reproducibility for numpy and scikit-learn applications\n",
    "logging.getLogger('matplotlib.font_manager').disabled = True"
   ]
  },
  {
   "cell_type": "code",
   "execution_count": 2,
   "metadata": {
    "pycharm": {
     "is_executing": false
    }
   },
   "outputs": [],
   "source": [
    "commands = [\n",
    "    '--task=tcga',\n",
    "    '--experiment=mcl',\n",
    "    '--data_dir=/mnt/rescomp/projects/TCGA_prostate/TCGA',\n",
    "    '--segmentation_experiment=mpp0.4_active_learn_14f',\n",
    "    '--rough_epochs=100',\n",
    "    '--finetune_epochs=60',\n",
    "    '--map_size=110',\n",
    "    '--num_neighbors=3000',\n",
    "    '--inflation=1.6'\n",
    "]"
   ]
  },
  {
   "cell_type": "code",
   "execution_count": 3,
   "metadata": {
    "pycharm": {
     "is_executing": false
    }
   },
   "outputs": [],
   "source": [
    "parser = argparse.ArgumentParser()\n",
    "parser.add_argument('--task', type=str, help=\"Description of task\")\n",
    "parser.add_argument('--experiment', type=str, help=\"Experiment type - used to load desired experiment class\")\n",
    "parser.add_argument('--data_dir', type=Path, help=\"Directory where data is stored\")\n",
    "parser.add_argument('--preprocess_search', action='store_true', help=\"whether to instantiate a search over preprocessing parameters\")\n",
    "parser.add_argument('--exp_help', action='store_true')\n",
    "args, unparsed = parser.parse_known_args(commands)"
   ]
  },
  {
   "cell_type": "code",
   "execution_count": 4,
   "metadata": {
    "pycharm": {
     "is_executing": false
    }
   },
   "outputs": [
    {
     "name": "stderr",
     "output_type": "stream",
     "text": [
      "/home/andrea/anaconda3/lib/python3.7/site-packages/sklearn/externals/joblib/__init__.py:15: DeprecationWarning: sklearn.externals.joblib is deprecated in 0.21 and will be removed in 0.23. Please import this functionality directly from joblib, which can be installed with: pip install joblib. If this warning is raised when loading pickled models, you may need to re-serialize those models with scikit-learn 0.21+.\n",
      "  warnings.warn(msg, category=DeprecationWarning)\n"
     ]
    }
   ],
   "source": [
    "experiment_type = find_experiment_using_name(args.experiment, args.task)\n",
    "parser = experiment_type.modify_commandline_options(parser)\n",
    "args = parser.parse_args(commands)"
   ]
  },
  {
   "cell_type": "code",
   "execution_count": 5,
   "metadata": {
    "pycharm": {
     "is_executing": false,
     "name": "#%%\n"
    }
   },
   "outputs": [
    {
     "name": "stdout",
     "output_type": "stream",
     "text": [
      "----------------- Parameters ---------------\n",
      "finetune_epochs: 60; inflation: 1.6; map_size: 110; num_neighbors: 3000; rough_epochs: 100; \n",
      "------------------------------------------------\n"
     ]
    }
   ],
   "source": [
    "experiment: BaseExperiment = create_experiment(args)\n",
    "Parameters = namedtuple('Parameters', ['rough_epochs', 'finetune_epochs', 'map_size', 'num_neighbors', 'inflation'])\n",
    "read_par=lambda parameter: read_parameter_values(experiment.args, parameter)[0]\n",
    "best_parameters = Parameters(\n",
    "    rough_epochs=read_par('rough_epochs'),\n",
    "    finetune_epochs=read_par('finetune_epochs'),\n",
    "    map_size=read_par('map_size'),\n",
    "    num_neighbors=read_par('num_neighbors'),\n",
    "    inflation=read_par('inflation')\n",
    ")\n",
    "print_parameters(best_parameters)"
   ]
  },
  {
   "cell_type": "code",
   "execution_count": 6,
   "metadata": {
    "collapsed": false,
    "jupyter": {
     "outputs_hidden": false
    },
    "pycharm": {
     "is_executing": false,
     "name": "#%%\n"
    }
   },
   "outputs": [],
   "source": [
    "evaluation_path = Path(f'/mnt/rescomp/projects/TCGA_prostate/TCGA/data/experiments/mcl/results/{experiment.format_parameters_key(best_parameters)}/evaluation_results.json')\n",
    "with open(evaluation_path, 'r') as evaluation_results_file:\n",
    "    best_result = json.load(evaluation_results_file)"
   ]
  },
  {
   "cell_type": "code",
   "execution_count": 7,
   "metadata": {
    "collapsed": false,
    "jupyter": {
     "outputs_hidden": false
    },
    "pycharm": {
     "is_executing": false,
     "name": "#%%\n"
    }
   },
   "outputs": [],
   "source": [
    "best_som_path = experiment.save_dir / f'model_size:{best_parameters.map_size}_re:{best_parameters.rough_epochs}_fte{best_parameters.finetune_epochs}.joblib'\n",
    "experiment.som = jl.load(best_som_path)"
   ]
  },
  {
   "cell_type": "code",
   "execution_count": 8,
   "metadata": {
    "collapsed": false,
    "jupyter": {
     "outputs_hidden": false
    },
    "pycharm": {
     "is_executing": false,
     "name": "#%%\n"
    }
   },
   "outputs": [],
   "source": [
    "best_result['matrix'] = np.load(experiment.results_dir/experiment.format_parameters_key(best_parameters)/'simplicial_matrix.npy')\n",
    "final_results_dir = experiment.save_dir/'final_result'\n",
    "final_results_dir.mkdir(exist_ok=True, parents=True)\n",
    "codebooks = experiment.som.codebook.matrix\n",
    "# extract umap embedding to create vizualization for markov clustering\n",
    "# print(\"Computing umap embedding ...\")\n",
    "# embedding_umap = umap.UMAP(n_neighbors=best_parameters.num_neighbors,\n",
    "#                            min_dist=0.3,\n",
    "#                            metric='euclidean', verbose=True).fit_transform(codebooks)\n",
    "membership = np.vstack([[(x, idx) for x in cluster] for idx, cluster in enumerate(best_result['clusters'])])\n",
    "membership = membership[membership[:, 0].argsort()]\n",
    "membership_indices = membership[:, 1]"
   ]
  },
  {
   "cell_type": "code",
   "execution_count": 9,
   "metadata": {
    "collapsed": false,
    "jupyter": {
     "outputs_hidden": false
    },
    "pycharm": {
     "is_executing": false,
     "name": "#%%\n"
    }
   },
   "outputs": [],
   "source": [
    "# This step takes very long for many codebooks\n",
    "#print(\"Draw markov clustering graph\")\n",
    "#mc.draw_graph(best_result['matrix'], best_result['clusters'], pos=embedding_umap, node_size=50,\n",
    "#              with_labels=False, edge_color=\"silver\")"
   ]
  },
  {
   "cell_type": "code",
   "execution_count": 10,
   "metadata": {
    "collapsed": false,
    "jupyter": {
     "outputs_hidden": false
    },
    "pycharm": {
     "is_executing": false,
     "name": "#%%\n"
    }
   },
   "outputs": [
    {
     "data": {
      "text/plain": [
       "<Figure size 432x288 with 0 Axes>"
      ]
     },
     "metadata": {},
     "output_type": "display_data"
    }
   ],
   "source": [
    "viz_path = Path(experiment.results_dir, f'mcl_{experiment.format_parameters_key(best_parameters)}.png')\n",
    "plt.savefig(viz_path)"
   ]
  },
  {
   "cell_type": "code",
   "execution_count": 11,
   "metadata": {
    "collapsed": false,
    "jupyter": {
     "outputs_hidden": false
    },
    "pycharm": {
     "is_executing": false,
     "name": "#%%\n"
    }
   },
   "outputs": [
    {
     "name": "stderr",
     "output_type": "stream",
     "text": [
      "Note: NumExpr detected 12 cores but \"NUMEXPR_MAX_THREADS\" not set, so enforcing safe limit of 8.\n",
      "NumExpr defaulting to 8 threads.\n"
     ]
    },
    {
     "name": "stdout",
     "output_type": "stream",
     "text": [
      "Features were read (size: 95.43MB)\n",
      "Data shape: (116459, 100)\n"
     ]
    }
   ],
   "source": [
    "experiment.read_data()"
   ]
  },
  {
   "cell_type": "code",
   "execution_count": 12,
   "metadata": {
    "collapsed": false,
    "jupyter": {
     "outputs_hidden": false
    },
    "pycharm": {
     "is_executing": false,
     "name": "#%%\n"
    }
   },
   "outputs": [
    {
     "name": "stderr",
     "output_type": "stream",
     "text": [
      "/home/andrea/anaconda3/lib/python3.7/site-packages/ipykernel_launcher.py:10: FutureWarning: The signature of `Series.to_csv` was aligned to that of `DataFrame.to_csv`, and argument 'header' will change its default value from False to True: please pass an explicit value to suppress this warning.\n",
      "  # Remove the CWD from sys.path while we load stuff.\n"
     ]
    },
    {
     "data": {
      "image/png": "[encoded data removed]",
      "text/plain": [
       "<Figure size 432x288 with 1 Axes>"
      ]
     },
     "metadata": {
      "needs_background": "light"
     },
     "output_type": "display_data"
    }
   ],
   "source": [
    "# assign each data-point to a code vector\n",
    "nearest_neighbours = NearestNeighbors(n_neighbors=1, algorithm='ball_tree').fit(experiment.som.codebook.matrix)\n",
    "distance, indices = nearest_neighbours.kneighbors(experiment.features)  # find nearest SOM cluster for each data-point\n",
    "distance = distance.ravel()\n",
    "indices = indices.ravel()\n",
    "# assign each point to the markov cluster of his nearest codebook\n",
    "cluster_assignment = pd.Series(data=[membership_indices[idx] for idx in indices], index=experiment.features.index)\n",
    "plt.hist(cluster_assignment, bins=best_result['num_clusters'], density=True)\n",
    "plt.title('cluster_assignment')\n",
    "cluster_assignment.to_csv(final_results_dir/f'cluster_assignment_{experiment.format_parameters_key(best_parameters)}.csv')"
   ]
  },
  {
   "cell_type": "code",
   "execution_count": 13,
   "metadata": {
    "collapsed": false,
    "jupyter": {
     "outputs_hidden": false
    },
    "pycharm": {
     "is_executing": false,
     "name": "#%%\n"
    }
   },
   "outputs": [
    {
     "name": "stdout",
     "output_type": "stream",
     "text": [
      "12099\n",
      "12100\n",
      "116459\n"
     ]
    }
   ],
   "source": [
    "print(max(max(c) for c in best_result['clusters']))\n",
    "print(len(membership_indices))\n",
    "print(len(indices))"
   ]
  },
  {
   "cell_type": "code",
   "execution_count": 14,
   "metadata": {
    "collapsed": false,
    "jupyter": {
     "outputs_hidden": false
    },
    "pycharm": {
     "is_executing": false,
     "name": "#%%\n"
    }
   },
   "outputs": [
    {
     "name": "stderr",
     "output_type": "stream",
     "text": [
      "clusters:   0%|          | 0/170 [00:00<?, ?it/s]/home/andrea/Documents/Repositories/cancer_phenotype/data/images/wsi_reader.py:85: UserWarning: No mpp or qc_mpp options - cannot perform quality control\n",
      "  warnings.warn(\"No mpp or qc_mpp options - cannot perform quality control\")\n",
      "clusters: 100%|██████████| 170/170 [58:14<00:00, 20.56s/it] \n"
     ]
    }
   ],
   "source": [
    "# gather examples from each cluster\n",
    "som_cluster_membership = membership_indices\n",
    "membership_numbers = [np.sum(cluster_assignment == p) for p in np.unique(som_cluster_membership)]\n",
    "cluster_indices = list(p for p in np.unique(som_cluster_membership) if membership_numbers[p] > 10)  # exclude very small clusters\n",
    "cluster_centers = tuple(experiment.som.codebook.matrix[np.where(som_cluster_membership == i)[0]]\n",
    "                        for i in cluster_indices)\n",
    "examples = get_cluster_examples(experiment.features, cluster_assignment,\n",
    "                                image_dir=experiment.args.data_dir,\n",
    "                                clusters=cluster_indices,\n",
    "                                cluster_centers=cluster_centers,\n",
    "                                n_examples=9)"
   ]
  },
  {
   "cell_type": "code",
   "execution_count": 15,
   "metadata": {
    "collapsed": false,
    "jupyter": {
     "outputs_hidden": false
    },
    "pycharm": {
     "is_executing": false,
     "name": "#%%\n"
    }
   },
   "outputs": [
    {
     "name": "stderr",
     "output_type": "stream",
     "text": [
      "  0%|          | 0/9 [00:00<?, ?it/s]"
     ]
    },
    {
     "name": "stdout",
     "output_type": "stream",
     "text": [
      "n clusters: 170\n"
     ]
    },
    {
     "name": "stderr",
     "output_type": "stream",
     "text": [
      "100%|██████████| 9/9 [00:00<00:00, 17.11it/s]\n",
      "100%|██████████| 9/9 [00:00<00:00, 43.37it/s]\n",
      "100%|██████████| 9/9 [00:00<00:00, 39.69it/s]\n",
      "100%|██████████| 9/9 [00:00<00:00, 51.77it/s]\n",
      "100%|██████████| 9/9 [00:00<00:00, 53.66it/s]\n",
      "100%|██████████| 9/9 [00:00<00:00, 40.42it/s]\n",
      "100%|██████████| 9/9 [00:00<00:00, 48.78it/s]\n",
      "100%|██████████| 9/9 [00:00<00:00, 41.43it/s]\n",
      "100%|██████████| 9/9 [00:00<00:00, 48.73it/s]\n",
      "100%|██████████| 9/9 [00:00<00:00, 52.73it/s]\n",
      "100%|██████████| 9/9 [00:00<00:00, 47.20it/s]\n",
      "100%|██████████| 9/9 [00:00<00:00, 56.43it/s]\n",
      "100%|██████████| 9/9 [00:00<00:00, 57.28it/s]\n",
      "100%|██████████| 9/9 [00:00<00:00, 58.59it/s]\n",
      "100%|██████████| 9/9 [00:00<00:00, 56.04it/s]\n",
      "100%|██████████| 9/9 [00:00<00:00, 61.50it/s]\n",
      "100%|██████████| 9/9 [00:00<00:00, 62.82it/s]\n",
      "100%|██████████| 9/9 [00:00<00:00, 56.80it/s]\n",
      "100%|██████████| 9/9 [00:00<00:00, 60.70it/s]\n",
      "100%|██████████| 9/9 [00:00<00:00, 47.84it/s]\n",
      "100%|██████████| 9/9 [00:00<00:00, 48.23it/s]\n",
      "100%|██████████| 9/9 [00:00<00:00, 52.62it/s]\n",
      "100%|██████████| 9/9 [00:00<00:00, 60.93it/s]\n",
      "100%|██████████| 9/9 [00:00<00:00, 43.71it/s]\n",
      "100%|██████████| 9/9 [00:00<00:00, 54.19it/s]\n",
      "100%|██████████| 9/9 [00:00<00:00, 48.36it/s]\n",
      "100%|██████████| 9/9 [00:00<00:00, 47.71it/s]\n",
      "100%|██████████| 9/9 [00:00<00:00, 42.81it/s]\n",
      "100%|██████████| 9/9 [00:00<00:00, 63.99it/s]\n",
      "100%|██████████| 9/9 [00:00<00:00, 48.09it/s]\n",
      "100%|██████████| 9/9 [00:00<00:00, 53.19it/s]\n",
      "100%|██████████| 9/9 [00:00<00:00, 46.69it/s]\n",
      "100%|██████████| 9/9 [00:00<00:00, 60.57it/s]\n",
      "100%|██████████| 9/9 [00:00<00:00, 20.83it/s]\n",
      "100%|██████████| 9/9 [00:00<00:00, 15.90it/s]\n",
      "100%|██████████| 9/9 [00:00<00:00, 45.42it/s]\n",
      "100%|██████████| 9/9 [00:00<00:00, 41.95it/s]\n",
      "100%|██████████| 9/9 [00:00<00:00, 55.51it/s]\n",
      "100%|██████████| 9/9 [00:01<00:00,  8.39it/s]\n",
      "100%|██████████| 9/9 [00:00<00:00, 57.84it/s]\n",
      "100%|██████████| 9/9 [00:00<00:00, 41.88it/s]\n",
      "100%|██████████| 9/9 [00:00<00:00, 48.51it/s]\n",
      "100%|██████████| 9/9 [00:00<00:00, 39.09it/s]\n",
      "100%|██████████| 9/9 [00:00<00:00, 15.18it/s]\n",
      "100%|██████████| 9/9 [00:00<00:00, 47.80it/s]\n",
      "100%|██████████| 9/9 [00:00<00:00, 52.60it/s]\n",
      "100%|██████████| 9/9 [00:00<00:00, 30.98it/s]\n",
      "100%|██████████| 9/9 [00:01<00:00,  7.92it/s]\n",
      "100%|██████████| 9/9 [00:00<00:00, 17.51it/s]\n",
      "100%|██████████| 9/9 [00:00<00:00, 41.25it/s]\n",
      "100%|██████████| 9/9 [00:00<00:00, 35.10it/s]\n",
      "100%|██████████| 9/9 [00:00<00:00, 20.93it/s]\n",
      "100%|██████████| 9/9 [00:00<00:00, 43.46it/s]\n",
      "100%|██████████| 9/9 [00:00<00:00, 23.78it/s]\n",
      "100%|██████████| 9/9 [00:00<00:00, 26.46it/s]\n",
      "100%|██████████| 9/9 [00:00<00:00, 49.01it/s]\n",
      "100%|██████████| 9/9 [00:00<00:00, 47.44it/s]\n",
      "100%|██████████| 9/9 [00:00<00:00, 14.24it/s]\n",
      "100%|██████████| 9/9 [00:00<00:00, 23.29it/s]\n",
      "100%|██████████| 9/9 [00:00<00:00, 33.69it/s]\n",
      "100%|██████████| 9/9 [00:00<00:00, 50.67it/s]\n",
      "100%|██████████| 9/9 [00:00<00:00, 52.46it/s]\n",
      "100%|██████████| 9/9 [00:00<00:00, 15.18it/s]\n",
      "100%|██████████| 9/9 [00:00<00:00, 34.52it/s]\n",
      "100%|██████████| 9/9 [00:00<00:00, 42.73it/s]\n",
      "100%|██████████| 9/9 [00:00<00:00, 58.94it/s]\n",
      "100%|██████████| 9/9 [00:00<00:00, 59.87it/s]\n",
      "100%|██████████| 9/9 [00:00<00:00, 47.80it/s]\n",
      "100%|██████████| 9/9 [00:00<00:00, 45.95it/s]\n",
      "100%|██████████| 9/9 [00:00<00:00, 43.18it/s]\n",
      "100%|██████████| 9/9 [00:00<00:00, 16.23it/s]\n",
      "100%|██████████| 9/9 [00:00<00:00, 31.76it/s]\n",
      "100%|██████████| 9/9 [00:00<00:00, 48.97it/s]\n",
      "100%|██████████| 9/9 [00:00<00:00, 20.70it/s]\n",
      "100%|██████████| 9/9 [00:00<00:00, 20.39it/s]\n",
      "100%|██████████| 9/9 [00:00<00:00, 27.36it/s]\n",
      "100%|██████████| 9/9 [00:00<00:00, 19.24it/s]\n",
      "100%|██████████| 9/9 [00:00<00:00, 49.09it/s]\n",
      "100%|██████████| 9/9 [00:00<00:00,  9.38it/s]\n",
      "100%|██████████| 9/9 [00:00<00:00, 60.30it/s]\n",
      "100%|██████████| 9/9 [00:00<00:00, 63.41it/s]\n",
      "100%|██████████| 9/9 [00:01<00:00,  8.99it/s]\n",
      "100%|██████████| 9/9 [00:00<00:00, 36.22it/s]\n",
      "100%|██████████| 9/9 [00:00<00:00, 10.30it/s]\n",
      "100%|██████████| 9/9 [00:00<00:00, 51.91it/s]\n",
      "100%|██████████| 9/9 [00:00<00:00, 56.65it/s]\n",
      "100%|██████████| 9/9 [00:00<00:00, 41.49it/s]\n",
      "100%|██████████| 9/9 [00:00<00:00, 30.08it/s]\n",
      "100%|██████████| 9/9 [00:01<00:00,  6.24it/s]\n",
      "100%|██████████| 9/9 [00:00<00:00, 25.06it/s]\n",
      "100%|██████████| 9/9 [00:00<00:00, 10.43it/s]\n",
      "100%|██████████| 9/9 [00:00<00:00, 30.66it/s]\n",
      "100%|██████████| 9/9 [00:01<00:00,  5.99it/s]\n",
      "100%|██████████| 9/9 [00:00<00:00, 22.73it/s]\n",
      "100%|██████████| 9/9 [00:00<00:00,  9.45it/s]\n",
      "100%|██████████| 9/9 [00:00<00:00, 31.15it/s]\n",
      "100%|██████████| 9/9 [00:00<00:00, 16.74it/s]\n",
      "100%|██████████| 9/9 [00:00<00:00, 27.28it/s]\n",
      "100%|██████████| 9/9 [00:00<00:00, 11.01it/s]\n",
      "100%|██████████| 9/9 [00:00<00:00, 27.41it/s]\n",
      "100%|██████████| 9/9 [00:00<00:00, 39.38it/s]\n",
      "100%|██████████| 9/9 [00:00<00:00, 52.04it/s]\n",
      "100%|██████████| 9/9 [00:01<00:00,  5.24it/s]\n",
      "100%|██████████| 9/9 [00:01<00:00,  8.36it/s]\n",
      "100%|██████████| 9/9 [00:00<00:00, 41.39it/s]\n",
      "100%|██████████| 9/9 [00:00<00:00, 11.81it/s]\n",
      "100%|██████████| 9/9 [00:00<00:00, 40.23it/s]\n",
      "100%|██████████| 9/9 [00:00<00:00, 37.64it/s]\n",
      "100%|██████████| 9/9 [00:00<00:00, 11.91it/s]\n",
      "100%|██████████| 9/9 [00:00<00:00, 52.72it/s]\n",
      "100%|██████████| 9/9 [00:02<00:00,  4.24it/s]\n",
      "100%|██████████| 9/9 [00:01<00:00,  7.44it/s]\n",
      "100%|██████████| 9/9 [00:00<00:00, 40.23it/s]\n",
      "100%|██████████| 9/9 [00:00<00:00, 30.77it/s]\n",
      "100%|██████████| 9/9 [00:00<00:00, 31.57it/s]\n",
      "100%|██████████| 9/9 [00:01<00:00,  5.55it/s]\n",
      "100%|██████████| 9/9 [00:00<00:00, 12.07it/s]\n",
      "100%|██████████| 9/9 [00:00<00:00, 29.94it/s]\n",
      "100%|██████████| 9/9 [00:00<00:00, 34.00it/s]\n",
      "100%|██████████| 9/9 [00:00<00:00, 41.52it/s]\n",
      "100%|██████████| 9/9 [00:00<00:00, 39.23it/s]\n",
      "100%|██████████| 9/9 [00:01<00:00,  7.20it/s]\n",
      "100%|██████████| 9/9 [00:00<00:00, 36.21it/s]\n",
      "100%|██████████| 9/9 [00:00<00:00, 29.29it/s]\n",
      "100%|██████████| 9/9 [00:02<00:00,  3.13it/s]\n",
      "100%|██████████| 9/9 [00:00<00:00, 10.24it/s]\n",
      "100%|██████████| 9/9 [00:00<00:00, 25.21it/s]\n",
      "100%|██████████| 9/9 [00:00<00:00, 13.43it/s]\n",
      "100%|██████████| 9/9 [00:01<00:00,  8.43it/s]\n",
      "100%|██████████| 9/9 [00:00<00:00, 33.93it/s]\n",
      "100%|██████████| 9/9 [00:01<00:00,  4.93it/s]\n",
      "100%|██████████| 9/9 [00:01<00:00,  5.35it/s]\n",
      "100%|██████████| 9/9 [00:00<00:00, 24.54it/s]\n",
      "100%|██████████| 9/9 [00:01<00:00,  6.51it/s]\n",
      "100%|██████████| 9/9 [00:00<00:00, 41.31it/s]\n",
      "100%|██████████| 9/9 [00:01<00:00,  8.92it/s]\n",
      "100%|██████████| 9/9 [00:03<00:00,  2.54it/s]\n",
      "100%|██████████| 9/9 [00:03<00:00,  2.97it/s]\n",
      "100%|██████████| 9/9 [00:01<00:00,  7.92it/s]\n",
      "100%|██████████| 9/9 [00:02<00:00,  3.96it/s]\n",
      "100%|██████████| 9/9 [00:00<00:00, 28.28it/s]\n",
      "100%|██████████| 9/9 [00:00<00:00,  9.70it/s]\n",
      "100%|██████████| 9/9 [00:00<00:00, 18.31it/s]\n",
      "100%|██████████| 9/9 [00:00<00:00, 42.14it/s]\n",
      "100%|██████████| 9/9 [00:00<00:00, 17.74it/s]\n",
      "100%|██████████| 9/9 [00:01<00:00,  6.95it/s]\n",
      "100%|██████████| 9/9 [00:00<00:00, 34.79it/s]\n",
      "100%|██████████| 9/9 [00:00<00:00, 22.59it/s]\n",
      "100%|██████████| 9/9 [00:00<00:00, 34.02it/s]\n",
      "100%|██████████| 9/9 [00:06<00:00,  1.44it/s]\n",
      "100%|██████████| 9/9 [00:00<00:00, 15.17it/s]\n",
      "100%|██████████| 9/9 [00:02<00:00,  4.10it/s]\n",
      "100%|██████████| 9/9 [00:00<00:00, 16.90it/s]\n",
      "100%|██████████| 9/9 [00:01<00:00,  4.91it/s]\n",
      "100%|██████████| 9/9 [00:00<00:00, 40.60it/s]\n",
      "100%|██████████| 9/9 [00:22<00:00,  2.50s/it]\n",
      "100%|██████████| 9/9 [00:02<00:00,  3.75it/s]\n",
      "100%|██████████| 9/9 [00:04<00:00,  1.89it/s]\n",
      "100%|██████████| 9/9 [00:00<00:00, 14.11it/s]\n",
      "100%|██████████| 9/9 [00:00<00:00, 16.05it/s]\n",
      "100%|██████████| 9/9 [00:02<00:00,  4.44it/s]\n",
      "100%|██████████| 9/9 [00:07<00:00,  1.15it/s]\n",
      "100%|██████████| 9/9 [00:03<00:00,  2.61it/s]\n",
      "100%|██████████| 9/9 [00:02<00:00,  3.98it/s]\n",
      "100%|██████████| 9/9 [00:02<00:00,  4.14it/s]\n",
      "100%|██████████| 9/9 [00:00<00:00, 30.06it/s]\n",
      "100%|██████████| 9/9 [01:54<00:00, 12.67s/it]\n",
      "100%|██████████| 9/9 [00:00<00:00, 34.91it/s]\n",
      "100%|██████████| 9/9 [00:01<00:00,  7.86it/s]\n",
      "100%|██████████| 9/9 [07:49<00:00, 52.20s/it]\n"
     ]
    },
    {
     "name": "stdout",
     "output_type": "stream",
     "text": [
      "Done!\n"
     ]
    }
   ],
   "source": [
    "make_cluster_grids(examples, final_results_dir, experiment.name(), image_size=512)"
   ]
  },
  {
   "cell_type": "markdown",
   "metadata": {
    "jupyter": {
     "outputs_hidden": false
    },
    "pycharm": {
     "is_executing": false,
     "name": "#%%\n"
    }
   },
   "source": [
    "## Label Comparison"
   ]
  },
  {
   "cell_type": "code",
   "execution_count": 16,
   "metadata": {},
   "outputs": [],
   "source": [
    "gleason_table_path = Path('/mnt/rescomp/projects/TCGA_prostate/TCGA/data/gdc_download_20190827_173135.969230/06efd272-a76f-4703-98b8-dfa751c0f019/nationwidechildrens.org_clinical_patient_prad.txt')\n",
    "gleason_table = pd.read_csv(gleason_table_path, delimiter='\\t', skiprows=lambda x: x in [1, 2])"
   ]
  },
  {
   "cell_type": "code",
   "execution_count": 17,
   "metadata": {},
   "outputs": [
    {
     "data": {
      "text/plain": [
       "[<matplotlib.axis.XTick at 0x7fd5c8fd2e80>,\n",
       " <matplotlib.axis.XTick at 0x7fd5c8fd27b8>,\n",
       " <matplotlib.axis.XTick at 0x7fd5c8fd24a8>]"
      ]
     },
     "execution_count": 17,
     "metadata": {},
     "output_type": "execute_result"
    },
    {
     "data": {
      "image/png": "[encoded data removed]",
      "text/plain": [
       "<Figure size 1440x360 with 3 Axes>"
      ]
     },
     "metadata": {
      "needs_background": "light"
     },
     "output_type": "display_data"
    }
   ],
   "source": [
    "# Plot distribution of primary and secondary patterns\n",
    "def replace_string_value(el):\n",
    "    if isinstance(el, str):\n",
    "        if el.isdigit():\n",
    "            el = int(el)\n",
    "        else:\n",
    "            el = -1\n",
    "    return el\n",
    "fig, axes = plt.subplots(1, 3, figsize=(20, 5))\n",
    "gleason_pattern_primary = gleason_table.loc[:, 'gleason_score'].to_frame().applymap(replace_string_value)\n",
    "gleason_pattern_primary[gleason_pattern_primary != -1].hist(bins=[5.5, 6.5, 7.5, 8.5, 9.5, 10.5], ax=axes[0])\n",
    "gleason_pattern_primary = gleason_table.loc[:, 'gleason_pattern_primary'].to_frame().applymap(replace_string_value)\n",
    "gleason_pattern_primary[gleason_pattern_primary != -1].hist(bins=[2.5, 3.5, 4.5, 5.5], ax=axes[1])\n",
    "gleason_pattern_primary = gleason_table.loc[:, 'gleason_pattern_secondary'].to_frame().applymap(replace_string_value)\n",
    "gleason_pattern_primary[gleason_pattern_primary != -1].hist(bins=[2.5, 3.5, 4.5, 5.5], ax=axes[2])\n",
    "axes[0].set_xticks([5, 6, 7, 8, 9, 10, 11])\n",
    "axes[1].set_xticks([3, 4, 5])\n",
    "axes[2].set_xticks([3, 4, 5])\n",
    "# primary pattern is most widespread pattern, second pattern is pattern with the highest score"
   ]
  },
  {
   "cell_type": "code",
   "execution_count": 18,
   "metadata": {},
   "outputs": [
    {
     "data": {
      "text/html": [
       "<div>\n",
       "<style scoped>\n",
       "    .dataframe tbody tr th:only-of-type {\n",
       "        vertical-align: middle;\n",
       "    }\n",
       "\n",
       "    .dataframe tbody tr th {\n",
       "        vertical-align: top;\n",
       "    }\n",
       "\n",
       "    .dataframe thead th {\n",
       "        text-align: right;\n",
       "    }\n",
       "</style>\n",
       "<table border=\"1\" class=\"dataframe\">\n",
       "  <thead>\n",
       "    <tr style=\"text-align: right;\">\n",
       "      <th></th>\n",
       "      <th>bcr_patient_uuid</th>\n",
       "      <th>bcr_patient_barcode</th>\n",
       "      <th>form_completion_date</th>\n",
       "      <th>histologic_diagnosis</th>\n",
       "      <th>histologic_diagnosis_other</th>\n",
       "      <th>zone_of_origin</th>\n",
       "      <th>gleason_pattern_primary</th>\n",
       "      <th>gleason_pattern_secondary</th>\n",
       "      <th>gleason_score</th>\n",
       "      <th>gleason_pattern_tertiary</th>\n",
       "      <th>...</th>\n",
       "      <th>pathologic_M</th>\n",
       "      <th>pathologic_N</th>\n",
       "      <th>pathologic_T</th>\n",
       "      <th>pathologic_stage</th>\n",
       "      <th>patient_id</th>\n",
       "      <th>project_code</th>\n",
       "      <th>stage_other</th>\n",
       "      <th>system_version</th>\n",
       "      <th>tissue_source_site</th>\n",
       "      <th>tumor_tissue_site</th>\n",
       "    </tr>\n",
       "  </thead>\n",
       "  <tbody>\n",
       "    <tr>\n",
       "      <td>0</td>\n",
       "      <td>49197847-CC83-4CE1-8397-D09CEA4C4928</td>\n",
       "      <td>TCGA-2A-A8VL</td>\n",
       "      <td>2014-3-29</td>\n",
       "      <td>Prostate Adenocarcinoma Acinar Type</td>\n",
       "      <td>[Not Applicable]</td>\n",
       "      <td>Peripheral Zone</td>\n",
       "      <td>3</td>\n",
       "      <td>3</td>\n",
       "      <td>6</td>\n",
       "      <td>4</td>\n",
       "      <td>...</td>\n",
       "      <td>[Not Applicable]</td>\n",
       "      <td>N0</td>\n",
       "      <td>T2b</td>\n",
       "      <td>[Not Applicable]</td>\n",
       "      <td>A8VL</td>\n",
       "      <td>[Not Available]</td>\n",
       "      <td>[Not Available]</td>\n",
       "      <td>[Not Applicable]</td>\n",
       "      <td>2A</td>\n",
       "      <td>Prostate</td>\n",
       "    </tr>\n",
       "    <tr>\n",
       "      <td>1</td>\n",
       "      <td>91C0D161-2B59-4B7A-8C19-6D26DEA31849</td>\n",
       "      <td>TCGA-2A-A8VO</td>\n",
       "      <td>2014-3-30</td>\n",
       "      <td>Prostate Adenocarcinoma Acinar Type</td>\n",
       "      <td>[Not Applicable]</td>\n",
       "      <td>Overlapping / Multiple Zones</td>\n",
       "      <td>3</td>\n",
       "      <td>3</td>\n",
       "      <td>6</td>\n",
       "      <td>4</td>\n",
       "      <td>...</td>\n",
       "      <td>[Not Applicable]</td>\n",
       "      <td>[Not Available]</td>\n",
       "      <td>T3a</td>\n",
       "      <td>[Not Applicable]</td>\n",
       "      <td>A8VO</td>\n",
       "      <td>[Not Available]</td>\n",
       "      <td>[Not Available]</td>\n",
       "      <td>[Not Applicable]</td>\n",
       "      <td>2A</td>\n",
       "      <td>Prostate</td>\n",
       "    </tr>\n",
       "    <tr>\n",
       "      <td>2</td>\n",
       "      <td>931B549F-B9F2-4E8D-83ED-FF663671883C</td>\n",
       "      <td>TCGA-2A-A8VT</td>\n",
       "      <td>2014-3-29</td>\n",
       "      <td>Prostate Adenocarcinoma Acinar Type</td>\n",
       "      <td>[Not Applicable]</td>\n",
       "      <td>Overlapping / Multiple Zones</td>\n",
       "      <td>4</td>\n",
       "      <td>5</td>\n",
       "      <td>9</td>\n",
       "      <td>[Not Available]</td>\n",
       "      <td>...</td>\n",
       "      <td>[Not Applicable]</td>\n",
       "      <td>N1</td>\n",
       "      <td>T4</td>\n",
       "      <td>[Not Applicable]</td>\n",
       "      <td>A8VT</td>\n",
       "      <td>[Not Available]</td>\n",
       "      <td>[Not Available]</td>\n",
       "      <td>[Not Applicable]</td>\n",
       "      <td>2A</td>\n",
       "      <td>Prostate</td>\n",
       "    </tr>\n",
       "    <tr>\n",
       "      <td>3</td>\n",
       "      <td>75A7AFB5-66D5-47E3-8A8A-3E3A1E749A96</td>\n",
       "      <td>TCGA-2A-A8VV</td>\n",
       "      <td>2014-3-29</td>\n",
       "      <td>Prostate Adenocarcinoma Acinar Type</td>\n",
       "      <td>[Not Applicable]</td>\n",
       "      <td>Peripheral Zone</td>\n",
       "      <td>3</td>\n",
       "      <td>3</td>\n",
       "      <td>6</td>\n",
       "      <td>4</td>\n",
       "      <td>...</td>\n",
       "      <td>[Not Applicable]</td>\n",
       "      <td>N0</td>\n",
       "      <td>T2b</td>\n",
       "      <td>[Not Applicable]</td>\n",
       "      <td>A8VV</td>\n",
       "      <td>[Not Available]</td>\n",
       "      <td>[Not Available]</td>\n",
       "      <td>[Not Applicable]</td>\n",
       "      <td>2A</td>\n",
       "      <td>Prostate</td>\n",
       "    </tr>\n",
       "    <tr>\n",
       "      <td>4</td>\n",
       "      <td>942F1788-D977-4AC0-A177-659F9D4CD077</td>\n",
       "      <td>TCGA-2A-A8VX</td>\n",
       "      <td>2014-3-29</td>\n",
       "      <td>Prostate Adenocarcinoma Acinar Type</td>\n",
       "      <td>[Not Applicable]</td>\n",
       "      <td>Peripheral Zone</td>\n",
       "      <td>4</td>\n",
       "      <td>4</td>\n",
       "      <td>8</td>\n",
       "      <td>[Not Available]</td>\n",
       "      <td>...</td>\n",
       "      <td>[Not Applicable]</td>\n",
       "      <td>N0</td>\n",
       "      <td>T3b</td>\n",
       "      <td>[Not Applicable]</td>\n",
       "      <td>A8VX</td>\n",
       "      <td>[Not Available]</td>\n",
       "      <td>[Not Available]</td>\n",
       "      <td>[Not Applicable]</td>\n",
       "      <td>2A</td>\n",
       "      <td>Prostate</td>\n",
       "    </tr>\n",
       "    <tr>\n",
       "      <td>...</td>\n",
       "      <td>...</td>\n",
       "      <td>...</td>\n",
       "      <td>...</td>\n",
       "      <td>...</td>\n",
       "      <td>...</td>\n",
       "      <td>...</td>\n",
       "      <td>...</td>\n",
       "      <td>...</td>\n",
       "      <td>...</td>\n",
       "      <td>...</td>\n",
       "      <td>...</td>\n",
       "      <td>...</td>\n",
       "      <td>...</td>\n",
       "      <td>...</td>\n",
       "      <td>...</td>\n",
       "      <td>...</td>\n",
       "      <td>...</td>\n",
       "      <td>...</td>\n",
       "      <td>...</td>\n",
       "      <td>...</td>\n",
       "      <td>...</td>\n",
       "    </tr>\n",
       "    <tr>\n",
       "      <td>495</td>\n",
       "      <td>9B5D36B2-8B46-48A4-AFA7-0E1936F2D315</td>\n",
       "      <td>TCGA-ZG-A9M4</td>\n",
       "      <td>2014-7-18</td>\n",
       "      <td>Prostate Adenocarcinoma Acinar Type</td>\n",
       "      <td>[Not Applicable]</td>\n",
       "      <td>Overlapping / Multiple Zones</td>\n",
       "      <td>5</td>\n",
       "      <td>4</td>\n",
       "      <td>9</td>\n",
       "      <td>[Not Available]</td>\n",
       "      <td>...</td>\n",
       "      <td>[Not Applicable]</td>\n",
       "      <td>N1</td>\n",
       "      <td>T3b</td>\n",
       "      <td>[Not Applicable]</td>\n",
       "      <td>A9M4</td>\n",
       "      <td>[Not Available]</td>\n",
       "      <td>[Not Available]</td>\n",
       "      <td>[Not Applicable]</td>\n",
       "      <td>ZG</td>\n",
       "      <td>Prostate</td>\n",
       "    </tr>\n",
       "    <tr>\n",
       "      <td>496</td>\n",
       "      <td>7EFC26B2-EFF9-4F1E-9F4B-F26AF072C84A</td>\n",
       "      <td>TCGA-ZG-A9MC</td>\n",
       "      <td>2014-7-18</td>\n",
       "      <td>Prostate Adenocarcinoma Acinar Type</td>\n",
       "      <td>[Not Applicable]</td>\n",
       "      <td>Peripheral Zone</td>\n",
       "      <td>5</td>\n",
       "      <td>4</td>\n",
       "      <td>9</td>\n",
       "      <td>3</td>\n",
       "      <td>...</td>\n",
       "      <td>[Not Applicable]</td>\n",
       "      <td>N1</td>\n",
       "      <td>T3b</td>\n",
       "      <td>[Not Applicable]</td>\n",
       "      <td>A9MC</td>\n",
       "      <td>[Not Available]</td>\n",
       "      <td>[Not Available]</td>\n",
       "      <td>[Not Applicable]</td>\n",
       "      <td>ZG</td>\n",
       "      <td>Prostate</td>\n",
       "    </tr>\n",
       "    <tr>\n",
       "      <td>497</td>\n",
       "      <td>305B0B57-5952-43C7-9063-7BCD954EB44D</td>\n",
       "      <td>TCGA-ZG-A9N3</td>\n",
       "      <td>2014-7-18</td>\n",
       "      <td>Prostate Adenocarcinoma Acinar Type</td>\n",
       "      <td>[Not Applicable]</td>\n",
       "      <td>Overlapping / Multiple Zones</td>\n",
       "      <td>5</td>\n",
       "      <td>4</td>\n",
       "      <td>9</td>\n",
       "      <td>3</td>\n",
       "      <td>...</td>\n",
       "      <td>[Not Applicable]</td>\n",
       "      <td>N1</td>\n",
       "      <td>T3b</td>\n",
       "      <td>[Not Applicable]</td>\n",
       "      <td>A9N3</td>\n",
       "      <td>[Not Available]</td>\n",
       "      <td>[Not Available]</td>\n",
       "      <td>[Not Applicable]</td>\n",
       "      <td>ZG</td>\n",
       "      <td>Prostate</td>\n",
       "    </tr>\n",
       "    <tr>\n",
       "      <td>498</td>\n",
       "      <td>348C2BF3-2146-4990-9ADF-FA6968B4F072</td>\n",
       "      <td>TCGA-ZG-A9ND</td>\n",
       "      <td>2014-7-18</td>\n",
       "      <td>Prostate Adenocarcinoma Acinar Type</td>\n",
       "      <td>[Not Applicable]</td>\n",
       "      <td>Overlapping / Multiple Zones</td>\n",
       "      <td>5</td>\n",
       "      <td>4</td>\n",
       "      <td>9</td>\n",
       "      <td>3</td>\n",
       "      <td>...</td>\n",
       "      <td>[Not Applicable]</td>\n",
       "      <td>N0</td>\n",
       "      <td>T3a</td>\n",
       "      <td>[Not Applicable]</td>\n",
       "      <td>A9ND</td>\n",
       "      <td>[Not Available]</td>\n",
       "      <td>[Not Available]</td>\n",
       "      <td>[Not Applicable]</td>\n",
       "      <td>ZG</td>\n",
       "      <td>Prostate</td>\n",
       "    </tr>\n",
       "    <tr>\n",
       "      <td>499</td>\n",
       "      <td>03C15D06-B81E-433C-9DE4-906CBA91539F</td>\n",
       "      <td>TCGA-ZG-A9NI</td>\n",
       "      <td>2014-7-18</td>\n",
       "      <td>Prostate Adenocarcinoma Acinar Type</td>\n",
       "      <td>[Not Applicable]</td>\n",
       "      <td>Overlapping / Multiple Zones</td>\n",
       "      <td>5</td>\n",
       "      <td>4</td>\n",
       "      <td>9</td>\n",
       "      <td>3</td>\n",
       "      <td>...</td>\n",
       "      <td>[Not Applicable]</td>\n",
       "      <td>N0</td>\n",
       "      <td>T3b</td>\n",
       "      <td>[Not Applicable]</td>\n",
       "      <td>A9NI</td>\n",
       "      <td>[Not Available]</td>\n",
       "      <td>[Not Available]</td>\n",
       "      <td>[Not Applicable]</td>\n",
       "      <td>ZG</td>\n",
       "      <td>Prostate</td>\n",
       "    </tr>\n",
       "  </tbody>\n",
       "</table>\n",
       "<p>500 rows × 70 columns</p>\n",
       "</div>"
      ],
      "text/plain": [
       "                         bcr_patient_uuid bcr_patient_barcode  \\\n",
       "0    49197847-CC83-4CE1-8397-D09CEA4C4928        TCGA-2A-A8VL   \n",
       "1    91C0D161-2B59-4B7A-8C19-6D26DEA31849        TCGA-2A-A8VO   \n",
       "2    931B549F-B9F2-4E8D-83ED-FF663671883C        TCGA-2A-A8VT   \n",
       "3    75A7AFB5-66D5-47E3-8A8A-3E3A1E749A96        TCGA-2A-A8VV   \n",
       "4    942F1788-D977-4AC0-A177-659F9D4CD077        TCGA-2A-A8VX   \n",
       "..                                    ...                 ...   \n",
       "495  9B5D36B2-8B46-48A4-AFA7-0E1936F2D315        TCGA-ZG-A9M4   \n",
       "496  7EFC26B2-EFF9-4F1E-9F4B-F26AF072C84A        TCGA-ZG-A9MC   \n",
       "497  305B0B57-5952-43C7-9063-7BCD954EB44D        TCGA-ZG-A9N3   \n",
       "498  348C2BF3-2146-4990-9ADF-FA6968B4F072        TCGA-ZG-A9ND   \n",
       "499  03C15D06-B81E-433C-9DE4-906CBA91539F        TCGA-ZG-A9NI   \n",
       "\n",
       "    form_completion_date                 histologic_diagnosis  \\\n",
       "0              2014-3-29  Prostate Adenocarcinoma Acinar Type   \n",
       "1              2014-3-30  Prostate Adenocarcinoma Acinar Type   \n",
       "2              2014-3-29  Prostate Adenocarcinoma Acinar Type   \n",
       "3              2014-3-29  Prostate Adenocarcinoma Acinar Type   \n",
       "4              2014-3-29  Prostate Adenocarcinoma Acinar Type   \n",
       "..                   ...                                  ...   \n",
       "495            2014-7-18  Prostate Adenocarcinoma Acinar Type   \n",
       "496            2014-7-18  Prostate Adenocarcinoma Acinar Type   \n",
       "497            2014-7-18  Prostate Adenocarcinoma Acinar Type   \n",
       "498            2014-7-18  Prostate Adenocarcinoma Acinar Type   \n",
       "499            2014-7-18  Prostate Adenocarcinoma Acinar Type   \n",
       "\n",
       "    histologic_diagnosis_other                zone_of_origin  \\\n",
       "0             [Not Applicable]               Peripheral Zone   \n",
       "1             [Not Applicable]  Overlapping / Multiple Zones   \n",
       "2             [Not Applicable]  Overlapping / Multiple Zones   \n",
       "3             [Not Applicable]               Peripheral Zone   \n",
       "4             [Not Applicable]               Peripheral Zone   \n",
       "..                         ...                           ...   \n",
       "495           [Not Applicable]  Overlapping / Multiple Zones   \n",
       "496           [Not Applicable]               Peripheral Zone   \n",
       "497           [Not Applicable]  Overlapping / Multiple Zones   \n",
       "498           [Not Applicable]  Overlapping / Multiple Zones   \n",
       "499           [Not Applicable]  Overlapping / Multiple Zones   \n",
       "\n",
       "     gleason_pattern_primary  gleason_pattern_secondary  gleason_score  \\\n",
       "0                          3                          3              6   \n",
       "1                          3                          3              6   \n",
       "2                          4                          5              9   \n",
       "3                          3                          3              6   \n",
       "4                          4                          4              8   \n",
       "..                       ...                        ...            ...   \n",
       "495                        5                          4              9   \n",
       "496                        5                          4              9   \n",
       "497                        5                          4              9   \n",
       "498                        5                          4              9   \n",
       "499                        5                          4              9   \n",
       "\n",
       "    gleason_pattern_tertiary  ...      pathologic_M     pathologic_N  \\\n",
       "0                          4  ...  [Not Applicable]               N0   \n",
       "1                          4  ...  [Not Applicable]  [Not Available]   \n",
       "2            [Not Available]  ...  [Not Applicable]               N1   \n",
       "3                          4  ...  [Not Applicable]               N0   \n",
       "4            [Not Available]  ...  [Not Applicable]               N0   \n",
       "..                       ...  ...               ...              ...   \n",
       "495          [Not Available]  ...  [Not Applicable]               N1   \n",
       "496                        3  ...  [Not Applicable]               N1   \n",
       "497                        3  ...  [Not Applicable]               N1   \n",
       "498                        3  ...  [Not Applicable]               N0   \n",
       "499                        3  ...  [Not Applicable]               N0   \n",
       "\n",
       "    pathologic_T  pathologic_stage patient_id     project_code  \\\n",
       "0            T2b  [Not Applicable]       A8VL  [Not Available]   \n",
       "1            T3a  [Not Applicable]       A8VO  [Not Available]   \n",
       "2             T4  [Not Applicable]       A8VT  [Not Available]   \n",
       "3            T2b  [Not Applicable]       A8VV  [Not Available]   \n",
       "4            T3b  [Not Applicable]       A8VX  [Not Available]   \n",
       "..           ...               ...        ...              ...   \n",
       "495          T3b  [Not Applicable]       A9M4  [Not Available]   \n",
       "496          T3b  [Not Applicable]       A9MC  [Not Available]   \n",
       "497          T3b  [Not Applicable]       A9N3  [Not Available]   \n",
       "498          T3a  [Not Applicable]       A9ND  [Not Available]   \n",
       "499          T3b  [Not Applicable]       A9NI  [Not Available]   \n",
       "\n",
       "         stage_other    system_version tissue_source_site tumor_tissue_site  \n",
       "0    [Not Available]  [Not Applicable]                 2A          Prostate  \n",
       "1    [Not Available]  [Not Applicable]                 2A          Prostate  \n",
       "2    [Not Available]  [Not Applicable]                 2A          Prostate  \n",
       "3    [Not Available]  [Not Applicable]                 2A          Prostate  \n",
       "4    [Not Available]  [Not Applicable]                 2A          Prostate  \n",
       "..               ...               ...                ...               ...  \n",
       "495  [Not Available]  [Not Applicable]                 ZG          Prostate  \n",
       "496  [Not Available]  [Not Applicable]                 ZG          Prostate  \n",
       "497  [Not Available]  [Not Applicable]                 ZG          Prostate  \n",
       "498  [Not Available]  [Not Applicable]                 ZG          Prostate  \n",
       "499  [Not Available]  [Not Applicable]                 ZG          Prostate  \n",
       "\n",
       "[500 rows x 70 columns]"
      ]
     },
     "execution_count": 18,
     "metadata": {},
     "output_type": "execute_result"
    }
   ],
   "source": [
    "gleason_table"
   ]
  },
  {
   "cell_type": "markdown",
   "metadata": {},
   "source": [
    "Calculate cluster histograms"
   ]
  },
  {
   "cell_type": "code",
   "execution_count": 19,
   "metadata": {},
   "outputs": [],
   "source": [
    "# calculate cluster histograms\n",
    "num_clusters=len(np.unique(cluster_assignment))\n",
    "histograms = dict()\n",
    "for slide_id in np.unique(cluster_assignment.index.get_level_values('slide_id')):\n",
    "    assignments = cluster_assignment.loc[slide_id]\n",
    "    histograms[slide_id] = np.histogram(assignments, bins=num_clusters, range=(0, num_clusters), density=True)[0]"
   ]
  },
  {
   "cell_type": "code",
   "execution_count": 20,
   "metadata": {},
   "outputs": [],
   "source": [
    "histograms = pd.DataFrame(histograms).T  # slide ids will be index values instead of columns"
   ]
  },
  {
   "cell_type": "code",
   "execution_count": 21,
   "metadata": {},
   "outputs": [],
   "source": [
    "# construct labels for the histogram datapoints\n",
    "labels = []\n",
    "for slide_id, row in histograms.iterrows():\n",
    "    subtable = gleason_table[gleason_table['bcr_patient_barcode'].str.startswith(slide_id[:12])]\n",
    "    assert(len(subtable) == 1)\n",
    "    if subtable['gleason_pattern_primary'].iloc[0] == 3 and subtable['gleason_pattern_secondary'].iloc[0] == 4:\n",
    "        labels.append('3+4')\n",
    "    elif subtable['gleason_pattern_primary'].iloc[0] == 4 and subtable['gleason_pattern_secondary'].iloc[0] == 3:\n",
    "        labels.append('4+3')\n",
    "    elif subtable['gleason_score'].iloc[0] == 6:\n",
    "        labels.append('low')\n",
    "    else:\n",
    "        labels.append('high')"
   ]
  },
  {
   "cell_type": "code",
   "execution_count": 22,
   "metadata": {},
   "outputs": [
    {
     "name": "stdout",
     "output_type": "stream",
     "text": [
      "416\n"
     ]
    },
    {
     "data": {
      "text/html": [
       "<div>\n",
       "<style scoped>\n",
       "    .dataframe tbody tr th:only-of-type {\n",
       "        vertical-align: middle;\n",
       "    }\n",
       "\n",
       "    .dataframe tbody tr th {\n",
       "        vertical-align: top;\n",
       "    }\n",
       "\n",
       "    .dataframe thead th {\n",
       "        text-align: right;\n",
       "    }\n",
       "</style>\n",
       "<table border=\"1\" class=\"dataframe\">\n",
       "  <thead>\n",
       "    <tr style=\"text-align: right;\">\n",
       "      <th></th>\n",
       "      <th>0</th>\n",
       "      <th>1</th>\n",
       "      <th>2</th>\n",
       "      <th>3</th>\n",
       "      <th>4</th>\n",
       "      <th>5</th>\n",
       "      <th>6</th>\n",
       "      <th>7</th>\n",
       "      <th>8</th>\n",
       "      <th>9</th>\n",
       "      <th>...</th>\n",
       "      <th>162</th>\n",
       "      <th>163</th>\n",
       "      <th>164</th>\n",
       "      <th>165</th>\n",
       "      <th>166</th>\n",
       "      <th>167</th>\n",
       "      <th>168</th>\n",
       "      <th>169</th>\n",
       "      <th>170</th>\n",
       "      <th>171</th>\n",
       "    </tr>\n",
       "  </thead>\n",
       "  <tbody>\n",
       "    <tr>\n",
       "      <td>TCGA-2A-A8VL-01Z-00-DX1.2C2BD6EF-EC17-4117-AE89-A22B67AFB233</td>\n",
       "      <td>0.000000</td>\n",
       "      <td>0.003226</td>\n",
       "      <td>0.000000</td>\n",
       "      <td>0.003226</td>\n",
       "      <td>0.000000</td>\n",
       "      <td>0.000000</td>\n",
       "      <td>0.000000</td>\n",
       "      <td>0.012903</td>\n",
       "      <td>0.003226</td>\n",
       "      <td>0.003226</td>\n",
       "      <td>...</td>\n",
       "      <td>0.000000</td>\n",
       "      <td>0.000000</td>\n",
       "      <td>0.000000</td>\n",
       "      <td>0.000000</td>\n",
       "      <td>0.000000</td>\n",
       "      <td>0.000000</td>\n",
       "      <td>0.000000</td>\n",
       "      <td>0.0</td>\n",
       "      <td>0.0</td>\n",
       "      <td>0.0</td>\n",
       "    </tr>\n",
       "    <tr>\n",
       "      <td>TCGA-2A-A8VO-01Z-00-DX1.3A69CC37-B066-4529-B1BE-AD155983AAA7</td>\n",
       "      <td>0.000000</td>\n",
       "      <td>0.003012</td>\n",
       "      <td>0.000000</td>\n",
       "      <td>0.006024</td>\n",
       "      <td>0.003012</td>\n",
       "      <td>0.000000</td>\n",
       "      <td>0.000000</td>\n",
       "      <td>0.000000</td>\n",
       "      <td>0.000000</td>\n",
       "      <td>0.000000</td>\n",
       "      <td>...</td>\n",
       "      <td>0.012048</td>\n",
       "      <td>0.006024</td>\n",
       "      <td>0.003012</td>\n",
       "      <td>0.000000</td>\n",
       "      <td>0.006024</td>\n",
       "      <td>0.000000</td>\n",
       "      <td>0.000000</td>\n",
       "      <td>0.0</td>\n",
       "      <td>0.0</td>\n",
       "      <td>0.0</td>\n",
       "    </tr>\n",
       "    <tr>\n",
       "      <td>TCGA-2A-A8VT-01Z-00-DX1.F2CD9AAB-7B40-46A4-832B-1279A8A77737</td>\n",
       "      <td>0.006472</td>\n",
       "      <td>0.016181</td>\n",
       "      <td>0.012945</td>\n",
       "      <td>0.009709</td>\n",
       "      <td>0.022654</td>\n",
       "      <td>0.006472</td>\n",
       "      <td>0.003236</td>\n",
       "      <td>0.003236</td>\n",
       "      <td>0.016181</td>\n",
       "      <td>0.000000</td>\n",
       "      <td>...</td>\n",
       "      <td>0.003236</td>\n",
       "      <td>0.003236</td>\n",
       "      <td>0.000000</td>\n",
       "      <td>0.000000</td>\n",
       "      <td>0.000000</td>\n",
       "      <td>0.003236</td>\n",
       "      <td>0.000000</td>\n",
       "      <td>0.0</td>\n",
       "      <td>0.0</td>\n",
       "      <td>0.0</td>\n",
       "    </tr>\n",
       "    <tr>\n",
       "      <td>TCGA-2A-A8VV-01Z-00-DX1.DD094519-863E-42EF-8B36-F52418265E3E</td>\n",
       "      <td>0.000000</td>\n",
       "      <td>0.000000</td>\n",
       "      <td>0.013333</td>\n",
       "      <td>0.000000</td>\n",
       "      <td>0.026667</td>\n",
       "      <td>0.000000</td>\n",
       "      <td>0.000000</td>\n",
       "      <td>0.000000</td>\n",
       "      <td>0.000000</td>\n",
       "      <td>0.000000</td>\n",
       "      <td>...</td>\n",
       "      <td>0.000000</td>\n",
       "      <td>0.000000</td>\n",
       "      <td>0.000000</td>\n",
       "      <td>0.000000</td>\n",
       "      <td>0.000000</td>\n",
       "      <td>0.000000</td>\n",
       "      <td>0.000000</td>\n",
       "      <td>0.0</td>\n",
       "      <td>0.0</td>\n",
       "      <td>0.0</td>\n",
       "    </tr>\n",
       "    <tr>\n",
       "      <td>TCGA-2A-A8VX-01Z-00-DX1.2A244F16-C24E-4CE9-8820-9E36B5441EC7</td>\n",
       "      <td>0.000000</td>\n",
       "      <td>0.000000</td>\n",
       "      <td>0.000000</td>\n",
       "      <td>0.000000</td>\n",
       "      <td>0.000000</td>\n",
       "      <td>0.004505</td>\n",
       "      <td>0.000000</td>\n",
       "      <td>0.027027</td>\n",
       "      <td>0.000000</td>\n",
       "      <td>0.000000</td>\n",
       "      <td>...</td>\n",
       "      <td>0.000000</td>\n",
       "      <td>0.013514</td>\n",
       "      <td>0.000000</td>\n",
       "      <td>0.000000</td>\n",
       "      <td>0.009009</td>\n",
       "      <td>0.000000</td>\n",
       "      <td>0.000000</td>\n",
       "      <td>0.0</td>\n",
       "      <td>0.0</td>\n",
       "      <td>0.0</td>\n",
       "    </tr>\n",
       "    <tr>\n",
       "      <td>...</td>\n",
       "      <td>...</td>\n",
       "      <td>...</td>\n",
       "      <td>...</td>\n",
       "      <td>...</td>\n",
       "      <td>...</td>\n",
       "      <td>...</td>\n",
       "      <td>...</td>\n",
       "      <td>...</td>\n",
       "      <td>...</td>\n",
       "      <td>...</td>\n",
       "      <td>...</td>\n",
       "      <td>...</td>\n",
       "      <td>...</td>\n",
       "      <td>...</td>\n",
       "      <td>...</td>\n",
       "      <td>...</td>\n",
       "      <td>...</td>\n",
       "      <td>...</td>\n",
       "      <td>...</td>\n",
       "      <td>...</td>\n",
       "      <td>...</td>\n",
       "    </tr>\n",
       "    <tr>\n",
       "      <td>TCGA-YL-A9WJ-01Z-00-DX1.ECE31D79-8A8E-45DB-8BC4-97B303D38B1B</td>\n",
       "      <td>0.000000</td>\n",
       "      <td>0.000000</td>\n",
       "      <td>0.000000</td>\n",
       "      <td>0.000000</td>\n",
       "      <td>0.000000</td>\n",
       "      <td>0.000000</td>\n",
       "      <td>0.000000</td>\n",
       "      <td>0.000000</td>\n",
       "      <td>0.000000</td>\n",
       "      <td>0.000000</td>\n",
       "      <td>...</td>\n",
       "      <td>0.000000</td>\n",
       "      <td>0.006944</td>\n",
       "      <td>0.000000</td>\n",
       "      <td>0.006944</td>\n",
       "      <td>0.000000</td>\n",
       "      <td>0.013889</td>\n",
       "      <td>0.003472</td>\n",
       "      <td>0.0</td>\n",
       "      <td>0.0</td>\n",
       "      <td>0.0</td>\n",
       "    </tr>\n",
       "    <tr>\n",
       "      <td>TCGA-YL-A9WK-01Z-00-DX1.8541045E-7FD4-4E74-BA15-9A0F57AF6BBA</td>\n",
       "      <td>0.000000</td>\n",
       "      <td>0.000000</td>\n",
       "      <td>0.000000</td>\n",
       "      <td>0.000000</td>\n",
       "      <td>0.000000</td>\n",
       "      <td>0.001176</td>\n",
       "      <td>0.001176</td>\n",
       "      <td>0.002353</td>\n",
       "      <td>0.000000</td>\n",
       "      <td>0.000000</td>\n",
       "      <td>...</td>\n",
       "      <td>0.002353</td>\n",
       "      <td>0.002353</td>\n",
       "      <td>0.004706</td>\n",
       "      <td>0.009412</td>\n",
       "      <td>0.002353</td>\n",
       "      <td>0.014118</td>\n",
       "      <td>0.002353</td>\n",
       "      <td>0.0</td>\n",
       "      <td>0.0</td>\n",
       "      <td>0.0</td>\n",
       "    </tr>\n",
       "    <tr>\n",
       "      <td>TCGA-YL-A9WL-01Z-00-DX1.4EE10C9A-18EA-4DB0-BE29-06F6A75FE5A0</td>\n",
       "      <td>0.000000</td>\n",
       "      <td>0.000000</td>\n",
       "      <td>0.000000</td>\n",
       "      <td>0.000000</td>\n",
       "      <td>0.002141</td>\n",
       "      <td>0.000000</td>\n",
       "      <td>0.006424</td>\n",
       "      <td>0.002141</td>\n",
       "      <td>0.002141</td>\n",
       "      <td>0.004283</td>\n",
       "      <td>...</td>\n",
       "      <td>0.000000</td>\n",
       "      <td>0.006424</td>\n",
       "      <td>0.000000</td>\n",
       "      <td>0.000000</td>\n",
       "      <td>0.000000</td>\n",
       "      <td>0.000000</td>\n",
       "      <td>0.000000</td>\n",
       "      <td>0.0</td>\n",
       "      <td>0.0</td>\n",
       "      <td>0.0</td>\n",
       "    </tr>\n",
       "    <tr>\n",
       "      <td>TCGA-YL-A9WX-01Z-00-DX1.20B40B9A-C210-419D-B9A2-391DC92D9B7A</td>\n",
       "      <td>0.000000</td>\n",
       "      <td>0.000000</td>\n",
       "      <td>0.004184</td>\n",
       "      <td>0.004184</td>\n",
       "      <td>0.008368</td>\n",
       "      <td>0.000000</td>\n",
       "      <td>0.000000</td>\n",
       "      <td>0.004184</td>\n",
       "      <td>0.016736</td>\n",
       "      <td>0.000000</td>\n",
       "      <td>...</td>\n",
       "      <td>0.004184</td>\n",
       "      <td>0.000000</td>\n",
       "      <td>0.000000</td>\n",
       "      <td>0.000000</td>\n",
       "      <td>0.000000</td>\n",
       "      <td>0.000000</td>\n",
       "      <td>0.000000</td>\n",
       "      <td>0.0</td>\n",
       "      <td>0.0</td>\n",
       "      <td>0.0</td>\n",
       "    </tr>\n",
       "    <tr>\n",
       "      <td>TCGA-YL-A9WY-01Z-00-DX1.16415C29-1D79-4560-8F49-633F37F2804E</td>\n",
       "      <td>0.002358</td>\n",
       "      <td>0.000000</td>\n",
       "      <td>0.000000</td>\n",
       "      <td>0.000000</td>\n",
       "      <td>0.000000</td>\n",
       "      <td>0.002358</td>\n",
       "      <td>0.002358</td>\n",
       "      <td>0.002358</td>\n",
       "      <td>0.007075</td>\n",
       "      <td>0.000000</td>\n",
       "      <td>...</td>\n",
       "      <td>0.000000</td>\n",
       "      <td>0.004717</td>\n",
       "      <td>0.000000</td>\n",
       "      <td>0.000000</td>\n",
       "      <td>0.002358</td>\n",
       "      <td>0.037736</td>\n",
       "      <td>0.018868</td>\n",
       "      <td>0.0</td>\n",
       "      <td>0.0</td>\n",
       "      <td>0.0</td>\n",
       "    </tr>\n",
       "  </tbody>\n",
       "</table>\n",
       "<p>416 rows × 172 columns</p>\n",
       "</div>"
      ],
      "text/plain": [
       "                                                         0         1    \\\n",
       "TCGA-2A-A8VL-01Z-00-DX1.2C2BD6EF-EC17-4117-AE89...  0.000000  0.003226   \n",
       "TCGA-2A-A8VO-01Z-00-DX1.3A69CC37-B066-4529-B1BE...  0.000000  0.003012   \n",
       "TCGA-2A-A8VT-01Z-00-DX1.F2CD9AAB-7B40-46A4-832B...  0.006472  0.016181   \n",
       "TCGA-2A-A8VV-01Z-00-DX1.DD094519-863E-42EF-8B36...  0.000000  0.000000   \n",
       "TCGA-2A-A8VX-01Z-00-DX1.2A244F16-C24E-4CE9-8820...  0.000000  0.000000   \n",
       "...                                                      ...       ...   \n",
       "TCGA-YL-A9WJ-01Z-00-DX1.ECE31D79-8A8E-45DB-8BC4...  0.000000  0.000000   \n",
       "TCGA-YL-A9WK-01Z-00-DX1.8541045E-7FD4-4E74-BA15...  0.000000  0.000000   \n",
       "TCGA-YL-A9WL-01Z-00-DX1.4EE10C9A-18EA-4DB0-BE29...  0.000000  0.000000   \n",
       "TCGA-YL-A9WX-01Z-00-DX1.20B40B9A-C210-419D-B9A2...  0.000000  0.000000   \n",
       "TCGA-YL-A9WY-01Z-00-DX1.16415C29-1D79-4560-8F49...  0.002358  0.000000   \n",
       "\n",
       "                                                         2         3    \\\n",
       "TCGA-2A-A8VL-01Z-00-DX1.2C2BD6EF-EC17-4117-AE89...  0.000000  0.003226   \n",
       "TCGA-2A-A8VO-01Z-00-DX1.3A69CC37-B066-4529-B1BE...  0.000000  0.006024   \n",
       "TCGA-2A-A8VT-01Z-00-DX1.F2CD9AAB-7B40-46A4-832B...  0.012945  0.009709   \n",
       "TCGA-2A-A8VV-01Z-00-DX1.DD094519-863E-42EF-8B36...  0.013333  0.000000   \n",
       "TCGA-2A-A8VX-01Z-00-DX1.2A244F16-C24E-4CE9-8820...  0.000000  0.000000   \n",
       "...                                                      ...       ...   \n",
       "TCGA-YL-A9WJ-01Z-00-DX1.ECE31D79-8A8E-45DB-8BC4...  0.000000  0.000000   \n",
       "TCGA-YL-A9WK-01Z-00-DX1.8541045E-7FD4-4E74-BA15...  0.000000  0.000000   \n",
       "TCGA-YL-A9WL-01Z-00-DX1.4EE10C9A-18EA-4DB0-BE29...  0.000000  0.000000   \n",
       "TCGA-YL-A9WX-01Z-00-DX1.20B40B9A-C210-419D-B9A2...  0.004184  0.004184   \n",
       "TCGA-YL-A9WY-01Z-00-DX1.16415C29-1D79-4560-8F49...  0.000000  0.000000   \n",
       "\n",
       "                                                         4         5    \\\n",
       "TCGA-2A-A8VL-01Z-00-DX1.2C2BD6EF-EC17-4117-AE89...  0.000000  0.000000   \n",
       "TCGA-2A-A8VO-01Z-00-DX1.3A69CC37-B066-4529-B1BE...  0.003012  0.000000   \n",
       "TCGA-2A-A8VT-01Z-00-DX1.F2CD9AAB-7B40-46A4-832B...  0.022654  0.006472   \n",
       "TCGA-2A-A8VV-01Z-00-DX1.DD094519-863E-42EF-8B36...  0.026667  0.000000   \n",
       "TCGA-2A-A8VX-01Z-00-DX1.2A244F16-C24E-4CE9-8820...  0.000000  0.004505   \n",
       "...                                                      ...       ...   \n",
       "TCGA-YL-A9WJ-01Z-00-DX1.ECE31D79-8A8E-45DB-8BC4...  0.000000  0.000000   \n",
       "TCGA-YL-A9WK-01Z-00-DX1.8541045E-7FD4-4E74-BA15...  0.000000  0.001176   \n",
       "TCGA-YL-A9WL-01Z-00-DX1.4EE10C9A-18EA-4DB0-BE29...  0.002141  0.000000   \n",
       "TCGA-YL-A9WX-01Z-00-DX1.20B40B9A-C210-419D-B9A2...  0.008368  0.000000   \n",
       "TCGA-YL-A9WY-01Z-00-DX1.16415C29-1D79-4560-8F49...  0.000000  0.002358   \n",
       "\n",
       "                                                         6         7    \\\n",
       "TCGA-2A-A8VL-01Z-00-DX1.2C2BD6EF-EC17-4117-AE89...  0.000000  0.012903   \n",
       "TCGA-2A-A8VO-01Z-00-DX1.3A69CC37-B066-4529-B1BE...  0.000000  0.000000   \n",
       "TCGA-2A-A8VT-01Z-00-DX1.F2CD9AAB-7B40-46A4-832B...  0.003236  0.003236   \n",
       "TCGA-2A-A8VV-01Z-00-DX1.DD094519-863E-42EF-8B36...  0.000000  0.000000   \n",
       "TCGA-2A-A8VX-01Z-00-DX1.2A244F16-C24E-4CE9-8820...  0.000000  0.027027   \n",
       "...                                                      ...       ...   \n",
       "TCGA-YL-A9WJ-01Z-00-DX1.ECE31D79-8A8E-45DB-8BC4...  0.000000  0.000000   \n",
       "TCGA-YL-A9WK-01Z-00-DX1.8541045E-7FD4-4E74-BA15...  0.001176  0.002353   \n",
       "TCGA-YL-A9WL-01Z-00-DX1.4EE10C9A-18EA-4DB0-BE29...  0.006424  0.002141   \n",
       "TCGA-YL-A9WX-01Z-00-DX1.20B40B9A-C210-419D-B9A2...  0.000000  0.004184   \n",
       "TCGA-YL-A9WY-01Z-00-DX1.16415C29-1D79-4560-8F49...  0.002358  0.002358   \n",
       "\n",
       "                                                         8         9    ...  \\\n",
       "TCGA-2A-A8VL-01Z-00-DX1.2C2BD6EF-EC17-4117-AE89...  0.003226  0.003226  ...   \n",
       "TCGA-2A-A8VO-01Z-00-DX1.3A69CC37-B066-4529-B1BE...  0.000000  0.000000  ...   \n",
       "TCGA-2A-A8VT-01Z-00-DX1.F2CD9AAB-7B40-46A4-832B...  0.016181  0.000000  ...   \n",
       "TCGA-2A-A8VV-01Z-00-DX1.DD094519-863E-42EF-8B36...  0.000000  0.000000  ...   \n",
       "TCGA-2A-A8VX-01Z-00-DX1.2A244F16-C24E-4CE9-8820...  0.000000  0.000000  ...   \n",
       "...                                                      ...       ...  ...   \n",
       "TCGA-YL-A9WJ-01Z-00-DX1.ECE31D79-8A8E-45DB-8BC4...  0.000000  0.000000  ...   \n",
       "TCGA-YL-A9WK-01Z-00-DX1.8541045E-7FD4-4E74-BA15...  0.000000  0.000000  ...   \n",
       "TCGA-YL-A9WL-01Z-00-DX1.4EE10C9A-18EA-4DB0-BE29...  0.002141  0.004283  ...   \n",
       "TCGA-YL-A9WX-01Z-00-DX1.20B40B9A-C210-419D-B9A2...  0.016736  0.000000  ...   \n",
       "TCGA-YL-A9WY-01Z-00-DX1.16415C29-1D79-4560-8F49...  0.007075  0.000000  ...   \n",
       "\n",
       "                                                         162       163  \\\n",
       "TCGA-2A-A8VL-01Z-00-DX1.2C2BD6EF-EC17-4117-AE89...  0.000000  0.000000   \n",
       "TCGA-2A-A8VO-01Z-00-DX1.3A69CC37-B066-4529-B1BE...  0.012048  0.006024   \n",
       "TCGA-2A-A8VT-01Z-00-DX1.F2CD9AAB-7B40-46A4-832B...  0.003236  0.003236   \n",
       "TCGA-2A-A8VV-01Z-00-DX1.DD094519-863E-42EF-8B36...  0.000000  0.000000   \n",
       "TCGA-2A-A8VX-01Z-00-DX1.2A244F16-C24E-4CE9-8820...  0.000000  0.013514   \n",
       "...                                                      ...       ...   \n",
       "TCGA-YL-A9WJ-01Z-00-DX1.ECE31D79-8A8E-45DB-8BC4...  0.000000  0.006944   \n",
       "TCGA-YL-A9WK-01Z-00-DX1.8541045E-7FD4-4E74-BA15...  0.002353  0.002353   \n",
       "TCGA-YL-A9WL-01Z-00-DX1.4EE10C9A-18EA-4DB0-BE29...  0.000000  0.006424   \n",
       "TCGA-YL-A9WX-01Z-00-DX1.20B40B9A-C210-419D-B9A2...  0.004184  0.000000   \n",
       "TCGA-YL-A9WY-01Z-00-DX1.16415C29-1D79-4560-8F49...  0.000000  0.004717   \n",
       "\n",
       "                                                         164       165  \\\n",
       "TCGA-2A-A8VL-01Z-00-DX1.2C2BD6EF-EC17-4117-AE89...  0.000000  0.000000   \n",
       "TCGA-2A-A8VO-01Z-00-DX1.3A69CC37-B066-4529-B1BE...  0.003012  0.000000   \n",
       "TCGA-2A-A8VT-01Z-00-DX1.F2CD9AAB-7B40-46A4-832B...  0.000000  0.000000   \n",
       "TCGA-2A-A8VV-01Z-00-DX1.DD094519-863E-42EF-8B36...  0.000000  0.000000   \n",
       "TCGA-2A-A8VX-01Z-00-DX1.2A244F16-C24E-4CE9-8820...  0.000000  0.000000   \n",
       "...                                                      ...       ...   \n",
       "TCGA-YL-A9WJ-01Z-00-DX1.ECE31D79-8A8E-45DB-8BC4...  0.000000  0.006944   \n",
       "TCGA-YL-A9WK-01Z-00-DX1.8541045E-7FD4-4E74-BA15...  0.004706  0.009412   \n",
       "TCGA-YL-A9WL-01Z-00-DX1.4EE10C9A-18EA-4DB0-BE29...  0.000000  0.000000   \n",
       "TCGA-YL-A9WX-01Z-00-DX1.20B40B9A-C210-419D-B9A2...  0.000000  0.000000   \n",
       "TCGA-YL-A9WY-01Z-00-DX1.16415C29-1D79-4560-8F49...  0.000000  0.000000   \n",
       "\n",
       "                                                         166       167  \\\n",
       "TCGA-2A-A8VL-01Z-00-DX1.2C2BD6EF-EC17-4117-AE89...  0.000000  0.000000   \n",
       "TCGA-2A-A8VO-01Z-00-DX1.3A69CC37-B066-4529-B1BE...  0.006024  0.000000   \n",
       "TCGA-2A-A8VT-01Z-00-DX1.F2CD9AAB-7B40-46A4-832B...  0.000000  0.003236   \n",
       "TCGA-2A-A8VV-01Z-00-DX1.DD094519-863E-42EF-8B36...  0.000000  0.000000   \n",
       "TCGA-2A-A8VX-01Z-00-DX1.2A244F16-C24E-4CE9-8820...  0.009009  0.000000   \n",
       "...                                                      ...       ...   \n",
       "TCGA-YL-A9WJ-01Z-00-DX1.ECE31D79-8A8E-45DB-8BC4...  0.000000  0.013889   \n",
       "TCGA-YL-A9WK-01Z-00-DX1.8541045E-7FD4-4E74-BA15...  0.002353  0.014118   \n",
       "TCGA-YL-A9WL-01Z-00-DX1.4EE10C9A-18EA-4DB0-BE29...  0.000000  0.000000   \n",
       "TCGA-YL-A9WX-01Z-00-DX1.20B40B9A-C210-419D-B9A2...  0.000000  0.000000   \n",
       "TCGA-YL-A9WY-01Z-00-DX1.16415C29-1D79-4560-8F49...  0.002358  0.037736   \n",
       "\n",
       "                                                         168  169  170  171  \n",
       "TCGA-2A-A8VL-01Z-00-DX1.2C2BD6EF-EC17-4117-AE89...  0.000000  0.0  0.0  0.0  \n",
       "TCGA-2A-A8VO-01Z-00-DX1.3A69CC37-B066-4529-B1BE...  0.000000  0.0  0.0  0.0  \n",
       "TCGA-2A-A8VT-01Z-00-DX1.F2CD9AAB-7B40-46A4-832B...  0.000000  0.0  0.0  0.0  \n",
       "TCGA-2A-A8VV-01Z-00-DX1.DD094519-863E-42EF-8B36...  0.000000  0.0  0.0  0.0  \n",
       "TCGA-2A-A8VX-01Z-00-DX1.2A244F16-C24E-4CE9-8820...  0.000000  0.0  0.0  0.0  \n",
       "...                                                      ...  ...  ...  ...  \n",
       "TCGA-YL-A9WJ-01Z-00-DX1.ECE31D79-8A8E-45DB-8BC4...  0.003472  0.0  0.0  0.0  \n",
       "TCGA-YL-A9WK-01Z-00-DX1.8541045E-7FD4-4E74-BA15...  0.002353  0.0  0.0  0.0  \n",
       "TCGA-YL-A9WL-01Z-00-DX1.4EE10C9A-18EA-4DB0-BE29...  0.000000  0.0  0.0  0.0  \n",
       "TCGA-YL-A9WX-01Z-00-DX1.20B40B9A-C210-419D-B9A2...  0.000000  0.0  0.0  0.0  \n",
       "TCGA-YL-A9WY-01Z-00-DX1.16415C29-1D79-4560-8F49...  0.018868  0.0  0.0  0.0  \n",
       "\n",
       "[416 rows x 172 columns]"
      ]
     },
     "execution_count": 22,
     "metadata": {},
     "output_type": "execute_result"
    }
   ],
   "source": [
    "print(len(histograms))\n",
    "histograms"
   ]
  },
  {
   "cell_type": "code",
   "execution_count": 23,
   "metadata": {},
   "outputs": [],
   "source": [
    "pca = PCA(n_components=2)\n",
    "dim_reduced = pd.DataFrame(data=pca.fit_transform(histograms), index=histograms)"
   ]
  },
  {
   "cell_type": "code",
   "execution_count": 24,
   "metadata": {},
   "outputs": [
    {
     "data": {
      "text/plain": [
       "(416, 2)"
      ]
     },
     "execution_count": 24,
     "metadata": {},
     "output_type": "execute_result"
    }
   ],
   "source": [
    "dim_reduced.shape"
   ]
  },
  {
   "cell_type": "code",
   "execution_count": 25,
   "metadata": {},
   "outputs": [
    {
     "data": {
      "text/plain": [
       "<matplotlib.collections.PathCollection at 0x7fd537217dd8>"
      ]
     },
     "execution_count": 25,
     "metadata": {},
     "output_type": "execute_result"
    },
    {
     "data": {
      "image/png": "[encoded data removed]",
      "text/plain": [
       "<Figure size 432x288 with 1 Axes>"
      ]
     },
     "metadata": {
      "needs_background": "light"
     },
     "output_type": "display_data"
    }
   ],
   "source": [
    "color_map = {'low': 'g', '3+4': 'g', '4+3': 'g', 'high': 'b'}\n",
    "plt.scatter(dim_reduced.iloc[:, 0], dim_reduced.iloc[:, 1], c=[color_map[label] for label in labels])"
   ]
  },
  {
   "cell_type": "code",
   "execution_count": 26,
   "metadata": {},
   "outputs": [],
   "source": [
    "dim_reduced = umap.umap_.UMAP(n_components=2).fit_transform(histograms)"
   ]
  },
  {
   "cell_type": "code",
   "execution_count": 27,
   "metadata": {},
   "outputs": [
    {
     "data": {
      "text/plain": [
       "<matplotlib.collections.PathCollection at 0x7fd531c84b38>"
      ]
     },
     "execution_count": 27,
     "metadata": {},
     "output_type": "execute_result"
    },
    {
     "data": {
      "image/png": "[encoded data removed]",
      "text/plain": [
       "<Figure size 432x288 with 1 Axes>"
      ]
     },
     "metadata": {
      "needs_background": "light"
     },
     "output_type": "display_data"
    }
   ],
   "source": [
    "color_map = {'low': 'g', '3+4': 'r', '4+3': 'y', 'high': 'b'}\n",
    "plt.scatter(dim_reduced[:, 0], dim_reduced[:, 1], c=[color_map[label] for label in labels])"
   ]
  },
  {
   "cell_type": "code",
   "execution_count": 28,
   "metadata": {},
   "outputs": [
    {
     "data": {
      "text/plain": [
       "(-0.1, 0.2)"
      ]
     },
     "execution_count": 28,
     "metadata": {},
     "output_type": "execute_result"
    },
    {
     "data": {
      "image/png": "[encoded data removed]",
      "text/plain": [
       "<Figure size 432x288 with 1 Axes>"
      ]
     },
     "metadata": {
      "needs_background": "light"
     },
     "output_type": "display_data"
    }
   ],
   "source": [
    "# extract most significant features\n",
    "int_label_map = {'low': 0, '3+4': 1, '4+3': 2, 'high': 3}\n",
    "chi2_values, pval = chi2(histograms, [int_label_map[label] for label in labels])\n",
    "clusters_ordered_by_chi = [x for _, x in sorted(zip(chi2_values, list(range(histograms.shape[1]))), key=lambda pair: pair[0])]\n",
    "chi_ordered_histograms = histograms.iloc[:, clusters_ordered_by_chi[:6]]\n",
    "#dim_reduced = umap.umap_.UMAP(n_components=2).fit_transform(chi_ordered_histograms)\n",
    "dim_reduced = PCA(n_components=2).fit_transform(chi_ordered_histograms)\n",
    "color_map = {'low': 'g', '3+4': 'r', '4+3': 'y', 'high': 'b'}\n",
    "plt.scatter(dim_reduced[:, 0], dim_reduced[:, 1], c=[color_map[label] for label in labels])\n",
    "plt.xlim(-0.1, 0.2)\n",
    "plt.ylim(-0.1, 0.2)"
   ]
  },
  {
   "cell_type": "code",
   "execution_count": 29,
   "metadata": {},
   "outputs": [
    {
     "name": "stdout",
     "output_type": "stream",
     "text": [
      "0.4553846153846154\n"
     ]
    }
   ],
   "source": [
    "# train to predict gleason from clusters\n",
    "from sklearn.model_selection import train_test_split\n",
    "from sklearn.ensemble import RandomForestClassifier\n",
    "labels_rfc = [{'low': 0, '3+4': 1, '4+3': 2, 'high': 3}[label] for label in labels]\n",
    "scores = []\n",
    "for i in range(100):\n",
    "    X_train, X_test, y_train, y_test = train_test_split(histograms, labels_rfc, train_size=0.5)\n",
    "    rfc = RandomForestClassifier(n_estimators=100)\n",
    "    rfc.fit(X_train, y_train)\n",
    "    scores.append(rfc.score(X_test, y_test))\n",
    "average_score = np.mean(scores)\n",
    "print(average_score)"
   ]
  },
  {
   "cell_type": "code",
   "execution_count": 30,
   "metadata": {},
   "outputs": [
    {
     "data": {
      "text/plain": [
       "<BarContainer object of 172 artists>"
      ]
     },
     "execution_count": 30,
     "metadata": {},
     "output_type": "execute_result"
    },
    {
     "data": {
      "image/png": "[encoded data removed]",
      "text/plain": [
       "<Figure size 432x288 with 1 Axes>"
      ]
     },
     "metadata": {
      "needs_background": "light"
     },
     "output_type": "display_data"
    }
   ],
   "source": [
    "plt.bar(tuple(range(len(rfc.feature_importances_))), rfc.feature_importances_)"
   ]
  },
  {
   "cell_type": "code",
   "execution_count": 31,
   "metadata": {},
   "outputs": [
    {
     "data": {
      "text/plain": [
       "[110,\n",
       " 44,\n",
       " 68,\n",
       " 142,\n",
       " 70,\n",
       " 45,\n",
       " 26,\n",
       " 73,\n",
       " 132,\n",
       " 112,\n",
       " 54,\n",
       " 82,\n",
       " 92,\n",
       " 33,\n",
       " 161,\n",
       " 31,\n",
       " 3,\n",
       " 109,\n",
       " 101,\n",
       " 146,\n",
       " 76,\n",
       " 72,\n",
       " 150,\n",
       " 163,\n",
       " 123,\n",
       " 71,\n",
       " 119,\n",
       " 133,\n",
       " 137,\n",
       " 59,\n",
       " 56,\n",
       " 118,\n",
       " 156,\n",
       " 39,\n",
       " 7,\n",
       " 53,\n",
       " 24,\n",
       " 117,\n",
       " 128,\n",
       " 147,\n",
       " 80,\n",
       " 25,\n",
       " 160,\n",
       " 66,\n",
       " 96,\n",
       " 42,\n",
       " 144,\n",
       " 86,\n",
       " 50,\n",
       " 145,\n",
       " 40,\n",
       " 115,\n",
       " 38,\n",
       " 116,\n",
       " 5,\n",
       " 155,\n",
       " 143,\n",
       " 43,\n",
       " 113,\n",
       " 52,\n",
       " 102,\n",
       " 49,\n",
       " 55,\n",
       " 89,\n",
       " 64,\n",
       " 157,\n",
       " 111,\n",
       " 158,\n",
       " 95,\n",
       " 58,\n",
       " 4,\n",
       " 94,\n",
       " 100,\n",
       " 105,\n",
       " 84,\n",
       " 47,\n",
       " 138,\n",
       " 87,\n",
       " 153,\n",
       " 88,\n",
       " 65,\n",
       " 36,\n",
       " 135,\n",
       " 104,\n",
       " 41,\n",
       " 27,\n",
       " 69,\n",
       " 1,\n",
       " 131,\n",
       " 20,\n",
       " 63,\n",
       " 149,\n",
       " 14,\n",
       " 139,\n",
       " 21,\n",
       " 162,\n",
       " 78,\n",
       " 140,\n",
       " 34,\n",
       " 166,\n",
       " 2,\n",
       " 125,\n",
       " 23,\n",
       " 148,\n",
       " 126,\n",
       " 99,\n",
       " 98,\n",
       " 91,\n",
       " 134,\n",
       " 46,\n",
       " 35,\n",
       " 130,\n",
       " 97,\n",
       " 30,\n",
       " 62,\n",
       " 61,\n",
       " 13,\n",
       " 8,\n",
       " 32,\n",
       " 152,\n",
       " 29,\n",
       " 124,\n",
       " 75,\n",
       " 107,\n",
       " 122,\n",
       " 0,\n",
       " 28,\n",
       " 67,\n",
       " 37,\n",
       " 90,\n",
       " 136,\n",
       " 121,\n",
       " 106,\n",
       " 120,\n",
       " 57,\n",
       " 19,\n",
       " 151,\n",
       " 60,\n",
       " 114,\n",
       " 164,\n",
       " 103,\n",
       " 79,\n",
       " 77,\n",
       " 83,\n",
       " 48,\n",
       " 108,\n",
       " 81,\n",
       " 159,\n",
       " 93,\n",
       " 18,\n",
       " 12,\n",
       " 167,\n",
       " 22,\n",
       " 129,\n",
       " 51,\n",
       " 85,\n",
       " 127,\n",
       " 6,\n",
       " 17,\n",
       " 10,\n",
       " 11,\n",
       " 9,\n",
       " 15,\n",
       " 141,\n",
       " 154,\n",
       " 168,\n",
       " 74,\n",
       " 165,\n",
       " 169,\n",
       " 16,\n",
       " 170,\n",
       " 171]"
      ]
     },
     "execution_count": 31,
     "metadata": {},
     "output_type": "execute_result"
    }
   ],
   "source": [
    "[x for _, x in sorted(zip(rfc.feature_importances_, list(range(len(rfc.feature_importances_)))), key=lambda pair: pair[0], reverse=True)]"
   ]
  },
  {
   "cell_type": "code",
   "execution_count": null,
   "metadata": {},
   "outputs": [],
   "source": []
  }
 ],
 "metadata": {
  "kernelspec": {
   "display_name": "Python 3",
   "language": "python",
   "name": "python3"
  },
  "language_info": {
   "codemirror_mode": {
    "name": "ipython",
    "version": 3
   },
   "file_extension": ".py",
   "mimetype": "text/x-python",
   "name": "python",
   "nbconvert_exporter": "python",
   "pygments_lexer": "ipython3",
   "version": "3.7.3"
  },
  "pycharm": {
   "stem_cell": {
    "cell_type": "raw",
    "metadata": {
     "collapsed": false
    },
    "source": []
   }
  }
 },
 "nbformat": 4,
 "nbformat_minor": 4
}
