{
 "cells": [
  {
   "cell_type": "code",
   "execution_count": 1,
   "metadata": {},
   "outputs": [
    {
     "name": "stdout",
     "output_type": "stream",
     "text": [
      "/well/rittscher/users/achatrian/.conda/envs/pyenvclone/bin/python\n",
      "3.7.3 (default, Mar 27 2019, 22:11:17) \n",
      "[GCC 7.3.0]\n"
     ]
    }
   ],
   "source": [
    "import sys\n",
    "from pathlib import Path\n",
    "import numbers\n",
    "import random\n",
    "import json\n",
    "from itertools import chain\n",
    "print(sys.executable)\n",
    "print(sys.version)\n",
    "sys.path.extend(['..', '../..'])\n",
    "from tqdm import tqdm_notebook\n",
    "import pandas as pd\n",
    "import numpy as np\n",
    "import matplotlib.pyplot as plt\n",
    "from sklearn.preprocessing import MinMaxScaler, StandardScaler\n",
    "from sklearn.decomposition import PCA, FastICA\n",
    "from sklearn.ensemble import IsolationForest\n",
    "from sklearn.mixture import GaussianMixture\n",
    "from sklearn.manifold import TSNE\n",
    "from skimage import transform, color\n",
    "import cv2\n",
    "import imageio\n",
    "import umap\n",
    "from quant.experiment.clustering import Clustering\n",
    "from base.data.wsi_reader import WSIReader"
   ]
  },
  {
   "cell_type": "code",
   "execution_count": 2,
   "metadata": {},
   "outputs": [],
   "source": [
    "e = Clustering('guassians',\n",
    "              ('MinMaxScaler', 'StandardScaler', 'PCA', 'GaussianMixture'),\n",
    "              (MinMaxScaler(), StandardScaler(), PCA(n_components=10), GaussianMixture(n_components=4)),\n",
    "               outlier_removal=IsolationForest(contamination=0.05),\n",
    "               caching_path='/well/rittscher/users/achatrian/pipeline_cache')"
   ]
  },
  {
   "cell_type": "code",
   "execution_count": 3,
   "metadata": {},
   "outputs": [],
   "source": [
    "# e.read_data_from_dir('/well/rittscher/projects/prostate-gland-phenotyping/WSI/data/features', max_memory_use=1e10)"
   ]
  },
  {
   "cell_type": "code",
   "execution_count": 4,
   "metadata": {},
   "outputs": [],
   "source": [
    "# e.x.to_hdf('/well/rittscher/projects/prostate-gland-phenotyping/WSI/data/features/all.h5', 'x')"
   ]
  },
  {
   "cell_type": "code",
   "execution_count": 5,
   "metadata": {},
   "outputs": [
    {
     "data": {
      "text/plain": [
       "(19347, 7100)"
      ]
     },
     "execution_count": 5,
     "metadata": {},
     "output_type": "execute_result"
    }
   ],
   "source": [
    "e.x = pd.read_hdf('/well/rittscher/projects/prostate-gland-phenotyping/WSI/data/features/all.h5', 'x')\n",
    "e.x.shape"
   ]
  },
  {
   "cell_type": "code",
   "execution_count": 6,
   "metadata": {},
   "outputs": [
    {
     "data": {
      "text/plain": [
       "Index(['outer_hu_moment0', 'outer_hu_moment1', 'outer_hu_moment2',\n",
       "       'outer_hu_moment3', 'outer_hu_moment4', 'outer_hu_moment5',\n",
       "       'outer_hu_moment6', 'outer_eccentricity', 'outer_solidity',\n",
       "       'outer_extent', 'outer_inertia_eigenval0', 'outer_inertia_eigenval1',\n",
       "       'inner_hu_moment0', 'inner_hu_moment1', 'inner_hu_moment2',\n",
       "       'inner_hu_moment3', 'inner_hu_moment4', 'inner_hu_moment5',\n",
       "       'inner_hu_moment6', 'inner_eccentricity', 'inner_solidity',\n",
       "       'inner_extent', 'inner_inertia_eigenval0', 'inner_inertia_eigenval1',\n",
       "       'gray_haralick_vert0', 'gray_haralick_vert1', 'gray_haralick_vert2',\n",
       "       'gray_haralick_vert3', 'gray_haralick_vert4', 'gray_haralick_vert5',\n",
       "       'gray_haralick_vert6', 'gray_haralick_vert7', 'gray_haralick_vert8',\n",
       "       'gray_haralick_vert9', 'gray_haralick_vert10', 'gray_haralick_vert11',\n",
       "       'gray_haralick_vert12', 'gray_haralick_horz0', 'gray_haralick_horz1',\n",
       "       'gray_haralick_horz2', 'gray_haralick_horz3', 'gray_haralick_horz4',\n",
       "       'gray_haralick_horz5', 'gray_haralick_horz6', 'gray_haralick_horz7',\n",
       "       'gray_haralick_horz8', 'gray_haralick_horz9', 'gray_haralick_horz10',\n",
       "       'gray_haralick_horz11', 'gray_haralick_horz12',\n",
       "       'gray_haralick_maj_diag0', 'gray_haralick_maj_diag1',\n",
       "       'gray_haralick_maj_diag2', 'gray_haralick_maj_diag3',\n",
       "       'gray_haralick_maj_diag4', 'gray_haralick_maj_diag5',\n",
       "       'gray_haralick_maj_diag6', 'gray_haralick_maj_diag7',\n",
       "       'gray_haralick_maj_diag8', 'gray_haralick_maj_diag9',\n",
       "       'gray_haralick_maj_diag10', 'gray_haralick_maj_diag11',\n",
       "       'gray_haralick_maj_diag12', 'gray_haralick_min_diag0',\n",
       "       'gray_haralick_min_diag1', 'gray_haralick_min_diag2',\n",
       "       'gray_haralick_min_diag3', 'gray_haralick_min_diag4',\n",
       "       'gray_haralick_min_diag5', 'gray_haralick_min_diag6',\n",
       "       'gray_haralick_min_diag7', 'gray_haralick_min_diag8',\n",
       "       'gray_haralick_min_diag9', 'gray_haralick_min_diag10',\n",
       "       'gray_haralick_min_diag11', 'gray_haralick_min_diag12'],\n",
       "      dtype='object')"
      ]
     },
     "execution_count": 6,
     "metadata": {},
     "output_type": "execute_result"
    }
   ],
   "source": [
    "e.x.columns[0:76]"
   ]
  },
  {
   "cell_type": "code",
   "execution_count": 7,
   "metadata": {},
   "outputs": [
    {
     "data": {
      "text/plain": [
       "(19347, 24)"
      ]
     },
     "execution_count": 7,
     "metadata": {},
     "output_type": "execute_result"
    }
   ],
   "source": [
    "to_reg_prop = 24\n",
    "to_haralick=76\n",
    "e.x = e.x.iloc[:, 0:to_reg_prop]\n",
    "e.x.shape"
   ]
  },
  {
   "cell_type": "code",
   "execution_count": 8,
   "metadata": {},
   "outputs": [
    {
     "name": "stderr",
     "output_type": "stream",
     "text": [
      "/well/rittscher/users/achatrian/.conda/envs/pyenvclone/lib/python3.7/site-packages/sklearn/ensemble/iforest.py:247: FutureWarning: behaviour=\"old\" is deprecated and will be removed in version 0.22. Please use behaviour=\"new\", which makes the decision_function change to match other anomaly detection algorithm API.\n",
      "  FutureWarning)\n",
      "/well/rittscher/users/achatrian/.conda/envs/pyenvclone/lib/python3.7/site-packages/sklearn/ensemble/iforest.py:415: DeprecationWarning: threshold_ attribute is deprecated in 0.20 and will be removed in 0.22.\n",
      "  \" be removed in 0.22.\", DeprecationWarning)\n"
     ]
    },
    {
     "name": "stdout",
     "output_type": "stream",
     "text": [
      "Removed 968 outliers through IsolationForest(behaviour='old', bootstrap=False, contamination=0.05,\n",
      "                max_features=1.0, max_samples='auto', n_estimators=100,\n",
      "                n_jobs=None, random_state=None, verbose=0, warm_start=False)\n"
     ]
    }
   ],
   "source": [
    "remove_outliers = True\n",
    "if remove_outliers:\n",
    "    e.remove_outliers()"
   ]
  },
  {
   "cell_type": "code",
   "execution_count": 9,
   "metadata": {},
   "outputs": [
    {
     "name": "stdout",
     "output_type": "stream",
     "text": [
      "Num points  18379\n",
      "Num fields  24\n",
      "Index(['17_A047-10719_16L+-+2017-05-11+08.56.52',\n",
      "       '17_A047-19575_162E+-+2017-05-11+08.34.36',\n",
      "       '17_A047-28956_156N+-+2017-05-11+09.57.53',\n",
      "       '17_A047-4463_153D+-+2017-05-11+09.40.22',\n",
      "       '17_A047-4519_1614P+-+2017-05-11+09.50.49',\n",
      "       '17_A047-47800_15J+-+2017-05-11+08.12.44',\n",
      "       '17_A047-8544_16J+-+2017-05-11+08.49.27', 'EU_18387_14_1E_HandE',\n",
      "       'EU_2248_16_K_H&E', 'EU_26162_16_9x_HandE+-+2017-11-28+11.03.04',\n",
      "       'EU_29542_16_1S_HandE+-+2017-11-28+12.49.46',\n",
      "       'EU_29797_14_5F_HandE+-+2017-11-28+13.15.48',\n",
      "       'EU_30479_16_G_HandE+-+2017-11-28+12.31.57',\n",
      "       'EU_30831_14_4D_HandE+-+2017-11-28+11.15.23',\n",
      "       'EU_36244_16_9A_HandE+-+2017-11-28+12.41.47',\n",
      "       'EU_37106_15_2K_HandE+-+2017-11-28+11.43.55',\n",
      "       'EU_38663_17_7G_HandE+-+2017-11-28+11.48.55',\n",
      "       'EU_42628_15_4J_HandE+-+2017-11-28+12.20.38',\n",
      "       'EU_49057_14_2F_HandE+-+2017-11-28+10.42.55',\n",
      "       'EU_52005_15_2I_HandE+-+2017-11-28+11.23.02'],\n",
      "      dtype='object')\n",
      "Index(['outer_hu_moment0', 'outer_hu_moment1', 'outer_hu_moment2',\n",
      "       'outer_hu_moment3', 'outer_hu_moment4', 'outer_hu_moment5',\n",
      "       'outer_hu_moment6', 'outer_eccentricity', 'outer_solidity',\n",
      "       'outer_extent', 'outer_inertia_eigenval0', 'outer_inertia_eigenval1',\n",
      "       'inner_hu_moment0', 'inner_hu_moment1', 'inner_hu_moment2',\n",
      "       'inner_hu_moment3', 'inner_hu_moment4', 'inner_hu_moment5',\n",
      "       'inner_hu_moment6', 'inner_eccentricity', 'inner_solidity',\n",
      "       'inner_extent', 'inner_inertia_eigenval0', 'inner_inertia_eigenval1'],\n",
      "      dtype='object')\n"
     ]
    }
   ],
   "source": [
    "print(\"Num points \", len(e.x))\n",
    "print(\"Num fields \", len(e.x.columns))\n",
    "if hasattr(e.x.index, 'levels'):\n",
    "    print(e.x.index.levels[0])\n",
    "print(e.x.columns)"
   ]
  },
  {
   "cell_type": "code",
   "execution_count": 10,
   "metadata": {},
   "outputs": [
    {
     "name": "stdout",
     "output_type": "stream",
     "text": [
      "Total run time: 1.111720085144043s\n"
     ]
    },
    {
     "ename": "TypeError",
     "evalue": "'>' not supported between instances of 'tuple' and 'int'",
     "output_type": "error",
     "traceback": [
      "\u001b[0;31m---------------------------------------------------------------------------\u001b[0m",
      "\u001b[0;31mTypeError\u001b[0m                                 Traceback (most recent call last)",
      "\u001b[0;32m<ipython-input-10-0b791b2a8e91>\u001b[0m in \u001b[0;36m<module>\u001b[0;34m\u001b[0m\n\u001b[0;32m----> 1\u001b[0;31m \u001b[0me\u001b[0m\u001b[0;34m.\u001b[0m\u001b[0mrun\u001b[0m\u001b[0;34m(\u001b[0m\u001b[0mstore_original\u001b[0m\u001b[0;34m=\u001b[0m\u001b[0;32mTrue\u001b[0m\u001b[0;34m)\u001b[0m\u001b[0;34m\u001b[0m\u001b[0;34m\u001b[0m\u001b[0m\n\u001b[0m",
      "\u001b[0;32m~/cancer_phenotype/quant/experiment/__init__.py\u001b[0m in \u001b[0;36mrun\u001b[0;34m(self, store_original)\u001b[0m\n\u001b[1;32m    106\u001b[0m         \u001b[0;32mfor\u001b[0m \u001b[0mstep_name\u001b[0m \u001b[0;32min\u001b[0m \u001b[0mself\u001b[0m\u001b[0;34m.\u001b[0m\u001b[0mstep_names\u001b[0m\u001b[0;34m[\u001b[0m\u001b[0;34m:\u001b[0m\u001b[0;34m-\u001b[0m\u001b[0;36m1\u001b[0m\u001b[0;34m]\u001b[0m\u001b[0;34m:\u001b[0m  \u001b[0;31m# pro\u001b[0m\u001b[0;34m\u001b[0m\u001b[0;34m\u001b[0m\u001b[0m\n\u001b[1;32m    107\u001b[0m             \u001b[0mx\u001b[0m \u001b[0;34m=\u001b[0m \u001b[0mself\u001b[0m\u001b[0;34m.\u001b[0m\u001b[0mpipeline\u001b[0m\u001b[0;34m.\u001b[0m\u001b[0mnamed_steps\u001b[0m\u001b[0;34m[\u001b[0m\u001b[0mstep_name\u001b[0m\u001b[0;34m]\u001b[0m\u001b[0;34m.\u001b[0m\u001b[0mtransform\u001b[0m\u001b[0;34m(\u001b[0m\u001b[0mx\u001b[0m\u001b[0;34m)\u001b[0m  \u001b[0;31m# transforms have already been fitted\u001b[0m\u001b[0;34m\u001b[0m\u001b[0;34m\u001b[0m\u001b[0m\n\u001b[0;32m--> 108\u001b[0;31m         \u001b[0mnaming_step_idx\u001b[0m \u001b[0;34m=\u001b[0m \u001b[0;34m-\u001b[0m\u001b[0;36m2\u001b[0m \u001b[0;32mif\u001b[0m \u001b[0mlen\u001b[0m\u001b[0;34m(\u001b[0m\u001b[0mself\u001b[0m\u001b[0;34m.\u001b[0m\u001b[0mstep_names\u001b[0m \u001b[0;34m>\u001b[0m \u001b[0;36m1\u001b[0m\u001b[0;34m)\u001b[0m \u001b[0;32melse\u001b[0m \u001b[0;34m-\u001b[0m\u001b[0;36m1\u001b[0m\u001b[0;34m\u001b[0m\u001b[0;34m\u001b[0m\u001b[0m\n\u001b[0m\u001b[1;32m    109\u001b[0m         \u001b[0mcolumns\u001b[0m \u001b[0;34m=\u001b[0m \u001b[0mlist\u001b[0m\u001b[0;34m(\u001b[0m\u001b[0mself\u001b[0m\u001b[0;34m.\u001b[0m\u001b[0mstep_names\u001b[0m\u001b[0;34m[\u001b[0m\u001b[0mnaming_step_idx\u001b[0m\u001b[0;34m]\u001b[0m \u001b[0;34m+\u001b[0m \u001b[0mstr\u001b[0m\u001b[0;34m(\u001b[0m\u001b[0mi\u001b[0m\u001b[0;34m)\u001b[0m \u001b[0;32mfor\u001b[0m \u001b[0mi\u001b[0m \u001b[0;32min\u001b[0m \u001b[0mrange\u001b[0m\u001b[0;34m(\u001b[0m\u001b[0mx\u001b[0m\u001b[0;34m.\u001b[0m\u001b[0mshape\u001b[0m\u001b[0;34m[\u001b[0m\u001b[0;36m1\u001b[0m\u001b[0;34m]\u001b[0m\u001b[0;34m)\u001b[0m\u001b[0;34m)\u001b[0m  \u001b[0;31m# e.g. PCA0 PCA1 ..\u001b[0m\u001b[0;34m\u001b[0m\u001b[0;34m\u001b[0m\u001b[0m\n\u001b[1;32m    110\u001b[0m         \u001b[0mself\u001b[0m\u001b[0;34m.\u001b[0m\u001b[0mx\u001b[0m \u001b[0;34m=\u001b[0m \u001b[0mpd\u001b[0m\u001b[0;34m.\u001b[0m\u001b[0mDataFrame\u001b[0m\u001b[0;34m(\u001b[0m\u001b[0mdata\u001b[0m\u001b[0;34m=\u001b[0m\u001b[0mx\u001b[0m\u001b[0;34m,\u001b[0m \u001b[0mcolumns\u001b[0m\u001b[0;34m=\u001b[0m\u001b[0mcolumns\u001b[0m\u001b[0;34m,\u001b[0m \u001b[0mindex\u001b[0m\u001b[0;34m=\u001b[0m\u001b[0mself\u001b[0m\u001b[0;34m.\u001b[0m\u001b[0mx\u001b[0m\u001b[0;34m.\u001b[0m\u001b[0mindex\u001b[0m\u001b[0;34m)\u001b[0m\u001b[0;34m\u001b[0m\u001b[0;34m\u001b[0m\u001b[0m\n",
      "\u001b[0;31mTypeError\u001b[0m: '>' not supported between instances of 'tuple' and 'int'"
     ]
    }
   ],
   "source": [
    "e.run(store_original=True)"
   ]
  },
  {
   "cell_type": "code",
   "execution_count": null,
   "metadata": {},
   "outputs": [],
   "source": [
    "e.plot_clusters() #colors=list(str(i * 0.1) for i in range(10)))"
   ]
  },
  {
   "cell_type": "code",
   "execution_count": null,
   "metadata": {},
   "outputs": [],
   "source": [
    "colors = list(str(i * 0.05) for i in range(20))\n",
    "for i, slide_id in enumerate(path.with_suffix('').name for path in e.loaded_paths):\n",
    "    plt.scatter(e.x.loc[slide_id, 'PCA0'], e.x.loc[slide_id, 'PCA1'], color=colors[i])"
   ]
  },
  {
   "cell_type": "code",
   "execution_count": null,
   "metadata": {},
   "outputs": [],
   "source": [
    "data_dir = Path('/well/rittscher/projects/prostate-gland-phenotyping/WSI/data/features')\n",
    "e.loaded_paths = tuple(path for path in data_dir.iterdir() if path.suffix == '.json')\n",
    "print(e.loaded_paths)"
   ]
  },
  {
   "cell_type": "code",
   "execution_count": null,
   "metadata": {},
   "outputs": [],
   "source": [
    "means = e.pipeline.named_steps['GaussianMixture'].means_"
   ]
  },
  {
   "cell_type": "code",
   "execution_count": null,
   "metadata": {},
   "outputs": [],
   "source": [
    "examples = e.get_examples(n_examples=10, cluster_centers=means)"
   ]
  },
  {
   "cell_type": "code",
   "execution_count": null,
   "metadata": {
    "scrolled": false
   },
   "outputs": [],
   "source": [
    "e.save_examples_grid('/well/rittscher/users/achatrian/temp', examples, image_size=256)"
   ]
  },
  {
   "cell_type": "markdown",
   "metadata": {},
   "source": [
    "# Label comparison"
   ]
  },
  {
   "cell_type": "code",
   "execution_count": null,
   "metadata": {},
   "outputs": [],
   "source": [
    "# read in csv file\n",
    "label_file = '/well/rittscher/projects/prostate-gland-phenotyping/WSI/data/other/TA206_Scores_V2_190718.csv'\n",
    "labels = pd.read_csv(label_file, sep='\\t')\n",
    "labels = labels.set_index('file_name')"
   ]
  },
  {
   "cell_type": "code",
   "execution_count": null,
   "metadata": {},
   "outputs": [],
   "source": [
    "labels"
   ]
  },
  {
   "cell_type": "code",
   "execution_count": null,
   "metadata": {},
   "outputs": [],
   "source": [
    "erg = labels['ERG H Score'].apply(lambda x: int(x) if x.isdigit() else 0)\n",
    "erg = erg.apply(lambda x: int(x) > 0)\n",
    "erg = erg.iloc[0::2]  # remove benign samples from spreadseet\n",
    "erg.index = [s[:-5] for s in erg.index]"
   ]
  },
  {
   "cell_type": "code",
   "execution_count": null,
   "metadata": {},
   "outputs": [],
   "source": [
    "# plot feature space against ERG:\n",
    "colors = ['r', 'b']\n",
    "for slide, erg_v in erg.iteritems():  # erg is a Series\n",
    "    color_ = colors[int(erg_v)]\n",
    "    try:\n",
    "        slide_x = e.x.loc[slide]\n",
    "        plt.scatter(slide_x.iloc[:, 0], slide_x.iloc[:, 1], color=color_)\n",
    "    except KeyError:\n",
    "        pass"
   ]
  },
  {
   "cell_type": "code",
   "execution_count": null,
   "metadata": {},
   "outputs": [],
   "source": [
    "# PTEN\n",
    "pten = labels['PTEN H Score RESCORE BETTER STAINED TMA'].apply(lambda x: int(x) if x.isdigit() else 0)\n",
    "pten = pten.apply(lambda x: int(x) > 0)\n",
    "pten = pten.iloc[0::2]  # remove benign samples from spreadseet\n",
    "pten.index = [s[:-5] for s in pten.index]"
   ]
  },
  {
   "cell_type": "code",
   "execution_count": null,
   "metadata": {},
   "outputs": [],
   "source": [
    "# plot feature space against ERG:\n",
    "colors = ['r', 'b']\n",
    "for slide, pten_v in pten.iteritems():  # erg is a Series\n",
    "    color_ = colors[int(pten_v)]\n",
    "    try:\n",
    "        slide_x = e.x.loc[slide]\n",
    "        plt.scatter(slide_x.iloc[:, 0], slide_x.iloc[:, 1], color=color_)\n",
    "    except KeyError:\n",
    "        pass"
   ]
  },
  {
   "cell_type": "code",
   "execution_count": null,
   "metadata": {},
   "outputs": [],
   "source": [
    "# pi\n",
    "proliferation = labels['Proliferation index Mib-1 0-100% (only invasive tumour scored, not PIN or intraductal Ca or inflammatory cells. In the benign, only luminal ep cells scored)'].apply(lambda x: int(x) if x.isdigit() else 0)\n",
    "proliferation = proliferation.iloc[0::2]  # remove benign samples from spreadseet\n",
    "proliferation.index = [s[:-5] for s in proliferation.index]"
   ]
  },
  {
   "cell_type": "code",
   "execution_count": null,
   "metadata": {},
   "outputs": [],
   "source": [
    "np.unique(proliferation)"
   ]
  },
  {
   "cell_type": "code",
   "execution_count": null,
   "metadata": {},
   "outputs": [],
   "source": [
    "# plot feature space against ERG:\n",
    "colors = {0: 'r', 1: 'b', 2: 'g', 5: 'y', 8: 'k'}\n",
    "normalized_x = (e.x-e.x.min())/(e.x.max()-e.x.min())\n",
    "for slide, pr_v in proliferation.iteritems():  # erg is a Series\n",
    "    color_ = colors[int(pr_v)]\n",
    "    try:\n",
    "        slide_x = normalized_x.loc[slide]\n",
    "        plt.scatter(slide_x.iloc[:, 0], slide_x.iloc[:, 1], color=color_)\n",
    "    except KeyError:\n",
    "        pass"
   ]
  },
  {
   "cell_type": "code",
   "execution_count": null,
   "metadata": {},
   "outputs": [],
   "source": [
    "# t-sne\n",
    "x = MinMaxScaler().fit_transform(e.x)\n",
    "x = StandardScaler().fit_transform(x)\n",
    "x_tsne = TSNE(n_components=2).fit_transform(x)\n",
    "plt.scatter(x_tsne[:, 0], x_tsne[:, 1])"
   ]
  },
  {
   "cell_type": "code",
   "execution_count": null,
   "metadata": {},
   "outputs": [],
   "source": [
    "# t-sne\n",
    "x = MinMaxScaler().fit_transform(e.x)\n",
    "x = StandardScaler().fit_transform(x)\n",
    "x_umap = umap.UMAP(n_neighbors=100).fit_transform(x)\n",
    "plt.scatter(x_umap[:, 0], x_umap[:, 1])"
   ]
  },
  {
   "cell_type": "code",
   "execution_count": null,
   "metadata": {},
   "outputs": [],
   "source": [
    "x_tsne = pd.DataFrame(x_tsne, index=e.x.index, columns=['tsne0', 'tsne1'])\n",
    "# plot feature space against ERG:\n",
    "colors = {0: 'r', 1: 'b', 2: 'g', 5: 'y', 8: 'k'}\n",
    "for slide, pr_v in proliferation.iteritems():  # erg is a Series\n",
    "    color_ = colors[int(pr_v)]\n",
    "    try:\n",
    "        slide_x = x_tsne.loc[slide]\n",
    "        plt.scatter(slide_x.iloc[:, 0], slide_x.iloc[:, 1], color=color_)\n",
    "    except KeyError:\n",
    "        pass"
   ]
  },
  {
   "cell_type": "code",
   "execution_count": null,
   "metadata": {},
   "outputs": [],
   "source": [
    "# Gleason\n",
    "gleason_file = '/well/rittscher/projects/prostate-gland-phenotyping/WSI/data/other/gleason.csv'\n",
    "gleason = pd.read_csv(gleason_file, sep=',')\n",
    "gleason_map = {'3+4': 0, '4+3': 1, '4+5': 2}\n",
    "gleason['Gleason'] = gleason['Gleason'].map(lambda s: gleason_map[s])\n",
    "gleason = gleason.set_index('file_id')"
   ]
  },
  {
   "cell_type": "code",
   "execution_count": null,
   "metadata": {},
   "outputs": [],
   "source": [
    "gleason"
   ]
  },
  {
   "cell_type": "code",
   "execution_count": null,
   "metadata": {},
   "outputs": [],
   "source": [
    "x_tsne = pd.DataFrame(x_tsne, index=e.x.index, columns=['tsne0', 'tsne1'])\n",
    "# plot feature space against ERG:\n",
    "colors = {0: 'r', 1: 'b', 2: 'g', 5: 'y', 8: 'k'}\n",
    "markers = {0: '.', 1: ',', 2: 'x'}\n",
    "for slide, score in gleason['Gleason'].iteritems():  # erg is a Series\n",
    "    color_ = colors[int(score)]\n",
    "    marker_ = markers[int(score)]\n",
    "    try:\n",
    "        slide_x = x_tsne.loc[slide[:-5]]\n",
    "        plt.scatter(slide_x.iloc[:, 0], slide_x.iloc[:, 1], color=color_, marker='.')\n",
    "    except KeyError:\n",
    "        pass"
   ]
  },
  {
   "cell_type": "code",
   "execution_count": null,
   "metadata": {},
   "outputs": [],
   "source": [
    "e1 = Clustering('tsne', ['gm'], [GaussianMixture(n_components=4)])\n",
    "e1.x = x_tsne\n",
    "e1.run()"
   ]
  },
  {
   "cell_type": "code",
   "execution_count": null,
   "metadata": {},
   "outputs": [],
   "source": []
  },
  {
   "cell_type": "code",
   "execution_count": null,
   "metadata": {},
   "outputs": [],
   "source": []
  }
 ],
 "metadata": {
  "kernelspec": {
   "display_name": "Python 3",
   "language": "python",
   "name": "python3"
  },
  "language_info": {
   "codemirror_mode": {
    "name": "ipython",
    "version": 3
   },
   "file_extension": ".py",
   "mimetype": "text/x-python",
   "name": "python",
   "nbconvert_exporter": "python",
   "pygments_lexer": "ipython3",
   "version": "3.7.3"
  }
 },
 "nbformat": 4,
 "nbformat_minor": 2
}
