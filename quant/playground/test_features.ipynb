{
 "cells": [
  {
   "cell_type": "markdown",
   "metadata": {},
   "source": [
    "# Features test"
   ]
  },
  {
   "cell_type": "code",
   "execution_count": null,
   "outputs": [],
   "source": [
    "from pathlib import Path\n",
    "import sys\n",
    "print(sys.executable)\n",
    "sys.path.append('/Users/andreachatrian/Documents/Repositories/cancer_phenotype')\n",
    "import random\n",
    "import time\n",
    "import json\n",
    "import numpy as np\n",
    "import pandas as pd\n",
    "import cv2\n",
    "from matplotlib import pyplot as plt\n",
    "from data.contours import read_annotations, get_contour_image\n",
    "from data.contours.instance_masker import InstanceMasker\n",
    "from data.images.wsi_reader import WSIReader\n",
    "from quant.features import nuclear_features\n",
    "from base.utils.timer import Timer"
   ],
   "metadata": {
    "collapsed": false,
    "pycharm": {
     "name": "#%%\n"
    }
   }
  },
  {
   "cell_type": "code",
   "execution_count": 6,
   "metadata": {
    "collapsed": false,
    "jupyter": {
     "outputs_hidden": false
    },
    "pycharm": {
     "name": "#%%\n"
    }
   },
   "outputs": [],
   "source": [
    "data_dir = Path('/Users/andreachatrian/Mounts/rescomp/gpfs2/well/rittscher/projects/TCGA_prostate/TCGA')\n",
    "features_dir = Path('/Users/andreachatrian/Mounts/rescomp/gpfs2/well/rittscher/projects/TCGA_prostate/TCGA/data/features/combined_mpp1.0_normal_nuclei')\n",
    "def view_example_features(slide_id, num_examples = 2, annotations_model='combined_mpp1.0_normal_nuclei'):\n",
    "    with open(features_dir/(slide_id + '.json'), 'r') as feature_file:\n",
    "        features = pd.read_json(feature_file, orient='split')\n",
    "    # NOT BUILDING INDEX CORRECTLY\n",
    "    with open(features_dir/(slide_id + '.json'), 'r') as feature_file:\n",
    "        feats_= json.load(feature_file)\n",
    "    features.index = feats_['index']\n",
    "    del feats_\n",
    "    with Timer(None, \"Time to read annotation for 1 slide: {:0.4f} seconds\"):\n",
    "        slide_contours = read_annotations(data_dir, (slide_id,), annotations_model)[slide_id]\n",
    "    with Timer(None, \"Time to make Instance Maker: {:0.4f} seconds\"):\n",
    "        masker = InstanceMasker(slide_contours, 'epithelium', dict((('nuclei', 50), ('epithelium', 200), ('lumen', 250))))\n",
    "    # TODO match boxes in features and boxes in masker, and check features for desired masks\n",
    "    boxes = set(tuple(int(d) for d in box_id.split('_')) for box_id, data in features.iterrows())\n",
    "    outer_bounding_boxes = [cv2.boundingRect(outer_contour) for outer_contour in masker.outer_contours]\n",
    "    index_matches = [box for j, box in enumerate(outer_bounding_boxes) if box in boxes]\n",
    "    random.seed(42)\n",
    "    examples = [index_matches[random.randint(0, len(index_matches) - 1)] for i in range(num_examples)]\n",
    "    # normalize features\n",
    "    normalized_features = (features - features.min())/(features.max() - features.min())\n",
    "    fig, axes = plt.subplots(num_examples, 3, figsize=(20, 40))\n",
    "    slide_path = next(data_dir.glob(f'*/{slide_id}.svs'))\n",
    "    slide = WSIReader(slide_path)\n",
    "    all_example_masks, all_example_images, all_example_features = [], [], []\n",
    "    for i, j in enumerate(examples):\n",
    "        with Timer('make_mask', f\"Time to make mask {i}: {{:0.4f}} seconds\"):\n",
    "            mask, components = masker[j]\n",
    "        image = get_contour_image(masker.outer_contours[j], slide)\n",
    "        example_features = normalized_features.iloc[i, :]\n",
    "        axes[i, 0].imshow(mask)\n",
    "        axes[i, 1].imshow(image)\n",
    "        axes[i, 2].bar(np.arange(0, len(example_features)), example_features, 4)  # why is the max 2 when I normalised the features?\n",
    "        all_example_masks.append(mask)\n",
    "        all_example_images.append(image)\n",
    "        all_example_features.append(example_features)\n",
    "    print(f\"Average time to make masks {Timer.averages['make_mask']}\")\n",
    "    return all_example_masks, all_example_images, all_example_features"
   ]
  },
  {
   "cell_type": "code",
   "execution_count": 7,
   "metadata": {},
   "outputs": [],
   "source": [
    "with open(features_dir/('TCGA-2A-AAYF-01Z-00-DX1.D0ADEB9A-37A4-451C-B91C-4AB014A6857A' + '.json'), 'r') as feature_file:\n",
    "    features = pd.read_json(feature_file, orient='split')\n",
    "columns_names = features.columns\n",
    "columns_names[40:75]"
   ]
  },
  {
   "cell_type": "code",
   "execution_count": null,
   "metadata": {},
   "outputs": [
    {
     "name": "stdout",
     "output_type": "stream",
     "text": [
      "Index(['outer_hu_moment0', 'outer_hu_moment1', 'outer_hu_moment2',\n",
      "       'outer_hu_moment3', 'outer_hu_moment4', 'outer_hu_moment5',\n",
      "       'outer_hu_moment6', 'outer_weighted_hu_moment0',\n",
      "       'outer_weighted_hu_moment1', 'outer_weighted_hu_moment2',\n",
      "       ...\n",
      "       'gray_correlation_d5_a1.5707963267948966',\n",
      "       'gray_correlation_d5_a2.356194490192345', 'gray_correlation_d20_a0',\n",
      "       'gray_correlation_d20_a0.7853981633974483',\n",
      "       'gray_correlation_d20_a1.5707963267948966',\n",
      "       'gray_correlation_d20_a2.356194490192345', 'gray_correlation_d100_a0',\n",
      "       'gray_correlation_d100_a0.7853981633974483',\n",
      "       'gray_correlation_d100_a1.5707963267948966',\n",
      "       'gray_correlation_d100_a2.356194490192345'],\n",
      "      dtype='object', length=152)\n"
     ]
    }
   ],
   "source": [
    "masks, examples, features = view_example_features('TCGA-2A-AAYF-01Z-00-DX1.D0ADEB9A-37A4-451C-B91C-4AB014A6857A')"
   ]
  },
  {
   "cell_type": "code",
   "execution_count": 15,
   "metadata": {
    "collapsed": false,
    "jupyter": {
     "outputs_hidden": false
    },
    "pycharm": {
     "name": "#%%\n"
    }
   },
   "outputs": [
    {
     "name": "stderr",
     "output_type": "stream",
     "text": [
      "Lossy conversion from int32 to uint8. Range [0, 255]. Convert image to uint8 prior to saving to suppress this warning.\n",
      "Lossy conversion from float64 to uint8. Range [0.0, 250.0]. Convert image to uint8 prior to saving to suppress this warning.\n"
     ]
    }
   ],
   "source": [
    "from imageio import imwrite\n",
    "import pickle as pkl\n",
    "imwrite('~/Desktop/gland_image.png', examples[0])\n",
    "imwrite('~/Desktop/mask_image.png', masks[0])\n",
    "with open('~/features.pkl', 'wb') as features_file:\n",
    "    pkl.dump(features[0], features_file)\n",
    "#view_example_features('TCGA-J4-A6G3-01Z-00-DX1.BDCBE64A-B59F-4735-B9B4-84BAF9CB1D23')\n"
   ]
  },
  {
   "cell_type": "code",
   "execution_count": null,
   "metadata": {
    "collapsed": false,
    "jupyter": {
     "outputs_hidden": false
    },
    "pycharm": {
     "name": "#%%\n"
    }
   },
   "outputs": [],
   "source": []
  }
 ],
 "metadata": {
  "kernelspec": {
   "display_name": "Python 3",
   "language": "python",
   "name": "python3"
  },
  "language_info": {
   "codemirror_mode": {
    "name": "ipython",
    "version": 3
   },
   "file_extension": ".py",
   "mimetype": "text/x-python",
   "name": "python",
   "nbconvert_exporter": "python",
   "pygments_lexer": "ipython3",
   "version": "3.7.7"
  }
 },
 "nbformat": 4,
 "nbformat_minor": 4
}