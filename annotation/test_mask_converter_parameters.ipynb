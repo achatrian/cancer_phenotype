{
 "cells": [
  {
   "cell_type": "code",
   "execution_count": 1,
   "metadata": {},
   "outputs": [],
   "source": [
    "from pathlib import Path\n",
    "from mask_converter import MaskConverter"
   ]
  },
  {
   "cell_type": "code",
   "execution_count": null,
   "metadata": {},
   "outputs": [],
   "source": [
    "default_label_options = {\n",
    "            'epithelium': {\n",
    "                'small_object_size': 1024*0.4,\n",
    "                'dist_threshold': 0.05,\n",
    "                'final_closing_size': 20,\n",
    "                'final_dilation_size': 4\n",
    "            },\n",
    "            'lumen': {\n",
    "                'small_object_size': 100,\n",
    "                'dist_threshold': 0.001,\n",
    "                'final_closing_size': 15,\n",
    "                'final_dilation_size': 5\n",
    "            }\n",
    "        }\n",
    "converter = MaskConverter(label_options=default_label_options)"
   ]
  },
  {
   "cell_type": "code",
   "execution_count": null,
   "metadata": {},
   "outputs": [],
   "source": [
    "# need raw unet output in order to test the parameters of a mask converter"
   ]
  }
 ],
 "metadata": {
  "kernelspec": {
   "display_name": "Python 3",
   "language": "python",
   "name": "python3"
  },
  "language_info": {
   "codemirror_mode": {
    "name": "ipython",
    "version": 3
   },
   "file_extension": ".py",
   "mimetype": "text/x-python",
   "name": "python",
   "nbconvert_exporter": "python",
   "pygments_lexer": "ipython3",
   "version": "3.7.3"
  }
 },
 "nbformat": 4,
 "nbformat_minor": 4
}
