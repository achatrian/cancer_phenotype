{
 "cells": [
  {
   "cell_type": "code",
   "execution_count": 1,
   "metadata": {},
   "outputs": [],
   "source": [
    "import os, sys\n",
    "import argparse\n",
    "import numpy as np\n",
    "from pathlib import Path\n",
    "\n",
    "import matplotlib.pyplot as plt\n",
    "import seaborn as sns\n",
    "import time\n",
    "import torch\n",
    "from scipy.stats import mode\n",
    "\n",
    "from tensorboardX import SummaryWriter\n",
    "import imageio\n",
    "import cv2\n",
    "from sklearn.decomposition import PCA, FastICA\n",
    "from sklearn.preprocessing import StandardScaler\n",
    "\n",
    "from scipy.stats import pearsonr\n",
    "\n",
    "from xgboost import XGBClassifier\n",
    "\n",
    "\n",
    "### Args ###:\n",
    "features_file = \"/Users/andreachatrian/Documents/Repositories/ProstateCancer/Results/feats_epoch_.411_loss_0.20396_acc_0.95000_dice_0.93000_lr_0.0000103566.csv\"\n",
    "thumbnails_file = \"/Users/andreachatrian/Documents/Repositories/ProstateCancer/Results/thumbnails_epoch_.411_loss_0.20396_acc_0.95000_dice_0.93000_lr_0.0000103566.npy\"\n",
    "sprite_file = \"/Users/andreachatrian/Documents/Repositories/ProstateCancer/Results/sprite_epoch_.411_loss_0.20396_acc_0.95000_dice_0.93000_lr_0.0000103566.png\"\n",
    "labels_file = \"/Users/andreachatrian/Documents/Repositories/ProstateCancer/Results/labels_epoch_.411_loss_0.20396_acc_0.95000_dice_0.93000_lr_0.0000103566.tsv\"\n",
    "thumbnail_size = 64\n",
    "pca_reduce = 2/3\n",
    "###\n",
    "\n",
    "def create_sprite_image(images):\n",
    "    \"\"\"Returns a sprite image consisting of images passed as argument. Images should be count x width x height\"\"\"\n",
    "    if isinstance(images, list):\n",
    "        images = np.array(images)\n",
    "    img_h = images.shape[1]\n",
    "    img_w = images.shape[2]\n",
    "    n_plots = int(np.ceil(np.sqrt(images.shape[0])))\n",
    "\n",
    "    spriteimage = np.ones((img_h * n_plots, img_w * n_plots, 3))\n",
    "\n",
    "    for i in range(n_plots):\n",
    "        for j in range(n_plots):\n",
    "            this_filter = i * n_plots + j\n",
    "            if this_filter < images.shape[0]:\n",
    "                this_img = images[this_filter]\n",
    "                spriteimage[i * img_h:(i + 1) * img_h,\n",
    "                j * img_w:(j + 1) * img_w] = this_img\n",
    "\n",
    "    return spriteimage"
   ]
  },
  {
   "cell_type": "markdown",
   "metadata": {},
   "source": [
    "# Preprocess"
   ]
  },
  {
   "cell_type": "code",
   "execution_count": 2,
   "metadata": {},
   "outputs": [
    {
     "name": "stdout",
     "output_type": "stream",
     "text": [
      "X's shape is  (5490, 21172)\n",
      "Run in 107.76384997367859s\n"
     ]
    }
   ],
   "source": [
    "### Preprocessing and visualization ###\n",
    "run_time = time.time()\n",
    "with open(features_file, 'r') as feats_file:\n",
    "    X = np.loadtxt(feats_file, skiprows=1)  # need to skip header row (?)\n",
    "run_time = time.time() - run_time\n",
    "print(\"X's shape is \", X.shape)\n",
    "print(\"Run in {}s\".format(run_time))"
   ]
  },
  {
   "cell_type": "code",
   "execution_count": 3,
   "metadata": {},
   "outputs": [
    {
     "data": {
      "text/plain": [
       "array([], dtype=int64)"
      ]
     },
     "execution_count": 3,
     "metadata": {},
     "output_type": "execute_result"
    }
   ],
   "source": [
    "np.where(np.isnan(X[0,:]))[0]"
   ]
  },
  {
   "cell_type": "markdown",
   "metadata": {},
   "source": [
    "# Embedding"
   ]
  },
  {
   "cell_type": "code",
   "execution_count": 4,
   "metadata": {},
   "outputs": [
    {
     "name": "stdout",
     "output_type": "stream",
     "text": [
      "False\n"
     ]
    }
   ],
   "source": [
    "# Check X:\n",
    "good = np.all(np.isfinite(X))\n",
    "print(good)\n",
    "if not good:        \n",
    "    X[np.isnan(X)] = 0.0"
   ]
  },
  {
   "cell_type": "code",
   "execution_count": 5,
   "metadata": {},
   "outputs": [],
   "source": [
    "# Preprocessing\n",
    "X = StandardScaler().fit_transform(X)"
   ]
  },
  {
   "cell_type": "code",
   "execution_count": 6,
   "metadata": {},
   "outputs": [
    {
     "name": "stdout",
     "output_type": "stream",
     "text": [
      "X_new's shape is  (5490, 5490)\n",
      "Run in 153.29728412628174s\n"
     ]
    }
   ],
   "source": [
    "# For t-SNE, PCA is recommended as a first step to reduce dimensionality\n",
    "run_time = time.time()\n",
    "pca = PCA(n_components=int(X.shape[1]*pca_reduce), whiten=True)  # reduce number of features\n",
    "#dec = FastICA(n_components=int(X.shape[1]*pca_reduce), whiten=True, max_iter=200)\n",
    "# !!! it is possible to generative negative eigenvalue and make the algorithm fail with large matrix that has determinant close to zero\n",
    "# for ICA, should reduce the number of comoponents to number (rule of thumb, as many as 99% variance explanation in PCA)\n",
    "pca = pca.fit(X)\n",
    "X_pca = pca.transform(X)\n",
    "run_time = time.time() - run_time\n",
    "print(\"X_new's shape is \", X_pca.shape)\n",
    "print(\"Run in {}s\".format(run_time))"
   ]
  },
  {
   "cell_type": "code",
   "execution_count": 7,
   "metadata": {},
   "outputs": [
    {
     "name": "stdout",
     "output_type": "stream",
     "text": [
      "[ 1.12145222  1.12145222  0.1324963   1.51004344  0.70724022  1.72811867\n",
      "  0.30814545  0.04773252 -0.4646227   0.7433769 ]\n",
      "Max correlation = -0.9484795664613397 (component #0), with p value = 0.0\n"
     ]
    }
   ],
   "source": [
    "# Correlate PCA sources with size:\n",
    "size = X[:,-1]  # after being scaled with StandardScaler\n",
    "print(size[0:10])\n",
    "x_corr_size = []\n",
    "p_values = []\n",
    "for x in X_pca.T:\n",
    "    corr, p_value = pearsonr(x, size)\n",
    "    x_corr_size.append(corr)\n",
    "    p_values.append(p_value)\n",
    "\n",
    "maxcorr_x = np.argmax([abs(c) for c in x_corr_size])\n",
    "maxcorr = x_corr_size[maxcorr_x]\n",
    "print(\"Max correlation = {} (component #{}), with p value = {}\".format(\n",
    "    maxcorr, maxcorr_x, p_values[maxcorr_x]))\n",
    "\n",
    "X_pca[:,remove_size_corr] = 0\n",
    "X_trimmed = pca.inverse_transform(X_pca)\n",
    "assert X_trimmed.shape[1] == X_pca.shape[1] - 1"
   ]
  },
  {
   "cell_type": "code",
   "execution_count": 8,
   "metadata": {},
   "outputs": [
    {
     "name": "stdout",
     "output_type": "stream",
     "text": [
      "[5.37645519e-01 1.04002100e-01 9.77203295e-02 ... 2.24875414e-36\n",
      " 1.55560625e-36 2.35079880e-37]\n",
      "524\n"
     ]
    },
    {
     "data": {
      "image/png": "[encoded data removed]",
      "text/plain": [
       "<Figure size 432x288 with 1 Axes>"
      ]
     },
     "metadata": {},
     "output_type": "display_data"
    }
   ],
   "source": [
    "sns.set(style=\"darkgrid\")\n",
    "plt.plot(pca.explained_variance_ratio_)\n",
    "print(pca.explained_variance_ratio_)\n",
    "\n",
    "cum_var = np.cumsum(pca.explained_variance_ratio_)\n",
    "plt.plot(cum_var)\n",
    "ninetynine = np.where(cum_var > 0.99)[0][0]\n",
    "print(ninetynine)"
   ]
  },
  {
   "cell_type": "code",
   "execution_count": 9,
   "metadata": {},
   "outputs": [
    {
     "ename": "LinAlgError",
     "evalue": "SVD did not converge",
     "output_type": "error",
     "traceback": [
      "\u001b[0;31m---------------------------------------------------------------------------\u001b[0m",
      "\u001b[0;31mLinAlgError\u001b[0m                               Traceback (most recent call last)",
      "\u001b[0;32m<ipython-input-9-31bbce3ba432>\u001b[0m in \u001b[0;36m<module>\u001b[0;34m()\u001b[0m\n\u001b[1;32m      4\u001b[0m \u001b[0;31m# !!! it is possible to generative negative eigenvalue and make the algorithm fail with large matrix that has determinant close to zero\u001b[0m\u001b[0;34m\u001b[0m\u001b[0;34m\u001b[0m\u001b[0m\n\u001b[1;32m      5\u001b[0m \u001b[0;31m# for ICA, should reduce the number of comoponents to number (rule of thumb, as many as 99% variance explanation in PCA)\u001b[0m\u001b[0;34m\u001b[0m\u001b[0;34m\u001b[0m\u001b[0m\n\u001b[0;32m----> 6\u001b[0;31m \u001b[0mdec\u001b[0m \u001b[0;34m=\u001b[0m \u001b[0mdec\u001b[0m\u001b[0;34m.\u001b[0m\u001b[0mfit\u001b[0m\u001b[0;34m(\u001b[0m\u001b[0mX_trimmed\u001b[0m\u001b[0;34m)\u001b[0m\u001b[0;34m\u001b[0m\u001b[0m\n\u001b[0m\u001b[1;32m      7\u001b[0m \u001b[0mX_ica\u001b[0m \u001b[0;34m=\u001b[0m \u001b[0mdec\u001b[0m\u001b[0;34m.\u001b[0m\u001b[0mtransform\u001b[0m\u001b[0;34m(\u001b[0m\u001b[0mX_trimmed\u001b[0m\u001b[0;34m)\u001b[0m\u001b[0;34m\u001b[0m\u001b[0m\n\u001b[1;32m      8\u001b[0m \u001b[0mrun_time\u001b[0m \u001b[0;34m=\u001b[0m \u001b[0mtime\u001b[0m\u001b[0;34m.\u001b[0m\u001b[0mtime\u001b[0m\u001b[0;34m(\u001b[0m\u001b[0;34m)\u001b[0m \u001b[0;34m-\u001b[0m \u001b[0mrun_time\u001b[0m\u001b[0;34m\u001b[0m\u001b[0m\n",
      "\u001b[0;32m~/miniconda3/lib/python3.6/site-packages/sklearn/decomposition/fastica_.py\u001b[0m in \u001b[0;36mfit\u001b[0;34m(self, X, y)\u001b[0m\n\u001b[1;32m    533\u001b[0m         \u001b[0mself\u001b[0m\u001b[0;34m\u001b[0m\u001b[0m\n\u001b[1;32m    534\u001b[0m         \"\"\"\n\u001b[0;32m--> 535\u001b[0;31m         \u001b[0mself\u001b[0m\u001b[0;34m.\u001b[0m\u001b[0m_fit\u001b[0m\u001b[0;34m(\u001b[0m\u001b[0mX\u001b[0m\u001b[0;34m,\u001b[0m \u001b[0mcompute_sources\u001b[0m\u001b[0;34m=\u001b[0m\u001b[0;32mFalse\u001b[0m\u001b[0;34m)\u001b[0m\u001b[0;34m\u001b[0m\u001b[0m\n\u001b[0m\u001b[1;32m    536\u001b[0m         \u001b[0;32mreturn\u001b[0m \u001b[0mself\u001b[0m\u001b[0;34m\u001b[0m\u001b[0m\n\u001b[1;32m    537\u001b[0m \u001b[0;34m\u001b[0m\u001b[0m\n",
      "\u001b[0;32m~/miniconda3/lib/python3.6/site-packages/sklearn/decomposition/fastica_.py\u001b[0m in \u001b[0;36m_fit\u001b[0;34m(self, X, compute_sources)\u001b[0m\n\u001b[1;32m    485\u001b[0m             \u001b[0mmax_iter\u001b[0m\u001b[0;34m=\u001b[0m\u001b[0mself\u001b[0m\u001b[0;34m.\u001b[0m\u001b[0mmax_iter\u001b[0m\u001b[0;34m,\u001b[0m \u001b[0mtol\u001b[0m\u001b[0;34m=\u001b[0m\u001b[0mself\u001b[0m\u001b[0;34m.\u001b[0m\u001b[0mtol\u001b[0m\u001b[0;34m,\u001b[0m \u001b[0mw_init\u001b[0m\u001b[0;34m=\u001b[0m\u001b[0mself\u001b[0m\u001b[0;34m.\u001b[0m\u001b[0mw_init\u001b[0m\u001b[0;34m,\u001b[0m\u001b[0;34m\u001b[0m\u001b[0m\n\u001b[1;32m    486\u001b[0m             \u001b[0mrandom_state\u001b[0m\u001b[0;34m=\u001b[0m\u001b[0mself\u001b[0m\u001b[0;34m.\u001b[0m\u001b[0mrandom_state\u001b[0m\u001b[0;34m,\u001b[0m \u001b[0mreturn_X_mean\u001b[0m\u001b[0;34m=\u001b[0m\u001b[0;32mTrue\u001b[0m\u001b[0;34m,\u001b[0m\u001b[0;34m\u001b[0m\u001b[0m\n\u001b[0;32m--> 487\u001b[0;31m             compute_sources=compute_sources, return_n_iter=True)\n\u001b[0m\u001b[1;32m    488\u001b[0m \u001b[0;34m\u001b[0m\u001b[0m\n\u001b[1;32m    489\u001b[0m         \u001b[0;32mif\u001b[0m \u001b[0mself\u001b[0m\u001b[0;34m.\u001b[0m\u001b[0mwhiten\u001b[0m\u001b[0;34m:\u001b[0m\u001b[0;34m\u001b[0m\u001b[0m\n",
      "\u001b[0;32m~/miniconda3/lib/python3.6/site-packages/sklearn/decomposition/fastica_.py\u001b[0m in \u001b[0;36mfastica\u001b[0;34m(X, n_components, algorithm, whiten, fun, fun_args, max_iter, tol, w_init, random_state, return_X_mean, compute_sources, return_n_iter)\u001b[0m\n\u001b[1;32m    307\u001b[0m \u001b[0;34m\u001b[0m\u001b[0m\n\u001b[1;32m    308\u001b[0m         \u001b[0;31m# Whitening and preprocessing by PCA\u001b[0m\u001b[0;34m\u001b[0m\u001b[0;34m\u001b[0m\u001b[0m\n\u001b[0;32m--> 309\u001b[0;31m         \u001b[0mu\u001b[0m\u001b[0;34m,\u001b[0m \u001b[0md\u001b[0m\u001b[0;34m,\u001b[0m \u001b[0m_\u001b[0m \u001b[0;34m=\u001b[0m \u001b[0mlinalg\u001b[0m\u001b[0;34m.\u001b[0m\u001b[0msvd\u001b[0m\u001b[0;34m(\u001b[0m\u001b[0mX\u001b[0m\u001b[0;34m,\u001b[0m \u001b[0mfull_matrices\u001b[0m\u001b[0;34m=\u001b[0m\u001b[0;32mFalse\u001b[0m\u001b[0;34m)\u001b[0m\u001b[0;34m\u001b[0m\u001b[0m\n\u001b[0m\u001b[1;32m    310\u001b[0m \u001b[0;34m\u001b[0m\u001b[0m\n\u001b[1;32m    311\u001b[0m         \u001b[0;32mdel\u001b[0m \u001b[0m_\u001b[0m\u001b[0;34m\u001b[0m\u001b[0m\n",
      "\u001b[0;32m~/miniconda3/lib/python3.6/site-packages/scipy/linalg/decomp_svd.py\u001b[0m in \u001b[0;36msvd\u001b[0;34m(a, full_matrices, compute_uv, overwrite_a, check_finite, lapack_driver)\u001b[0m\n\u001b[1;32m    130\u001b[0m \u001b[0;34m\u001b[0m\u001b[0m\n\u001b[1;32m    131\u001b[0m     \u001b[0;32mif\u001b[0m \u001b[0minfo\u001b[0m \u001b[0;34m>\u001b[0m \u001b[0;36m0\u001b[0m\u001b[0;34m:\u001b[0m\u001b[0;34m\u001b[0m\u001b[0m\n\u001b[0;32m--> 132\u001b[0;31m         \u001b[0;32mraise\u001b[0m \u001b[0mLinAlgError\u001b[0m\u001b[0;34m(\u001b[0m\u001b[0;34m\"SVD did not converge\"\u001b[0m\u001b[0;34m)\u001b[0m\u001b[0;34m\u001b[0m\u001b[0m\n\u001b[0m\u001b[1;32m    133\u001b[0m     \u001b[0;32mif\u001b[0m \u001b[0minfo\u001b[0m \u001b[0;34m<\u001b[0m \u001b[0;36m0\u001b[0m\u001b[0;34m:\u001b[0m\u001b[0;34m\u001b[0m\u001b[0m\n\u001b[1;32m    134\u001b[0m         raise ValueError('illegal value in %d-th argument of internal gesdd'\n",
      "\u001b[0;31mLinAlgError\u001b[0m: SVD did not converge"
     ]
    }
   ],
   "source": [
    "# For t-SNE, PCA is recommended as a first step to reduce dimensionality\n",
    "run_time = time.time()\n",
    "dec = FastICA(n_components=ninetynine, whiten=True, max_iter=1000)  # assuming components are already whitened!\n",
    "# !!! it is possible to generative negative eigenvalue and make the algorithm fail with large matrix that has determinant close to zero\n",
    "# for ICA, should reduce the number of comoponents to number (rule of thumb, as many as 99% variance explanation in PCA)\n",
    "dec = dec.fit(X_trimmed)\n",
    "X_ica = dec.transform(X_trimmed)\n",
    "run_time = time.time() - run_time\n",
    "print(\"X_ica's shape is \", X_ica.shape)\n",
    "print(\"Run in {}s\".format(run_time))"
   ]
  },
  {
   "cell_type": "code",
   "execution_count": null,
   "metadata": {},
   "outputs": [],
   "source": [
    "# Open thumbnails file\n",
    "with open(thumbnails_file, 'rb') as tnbs_file:\n",
    "    thumbnails = np.load(tnbs_file)"
   ]
  },
  {
   "cell_type": "code",
   "execution_count": null,
   "metadata": {},
   "outputs": [],
   "source": [
    "# t-SNE with tensorboard\n",
    "log_dir = Path(features_file).parent/\"projector\"\n",
    "try:\n",
    "    os.mkdir(log_dir)\n",
    "except FileExistsError:\n",
    "    pass\n",
    "writer = SummaryWriter(log_dir=str(log_dir))"
   ]
  },
  {
   "cell_type": "code",
   "execution_count": null,
   "metadata": {},
   "outputs": [],
   "source": [
    "# Correlate ICA sources with size:\n",
    "size = X[:,-1]\n",
    "x_corr_size = []\n",
    "p_values = []\n",
    "for x in X_ica.T:\n",
    "    corr, p_value = pearsonr(x, size)\n",
    "    x_corr_size.append(corr)\n",
    "    p_values.append(p_value)\n",
    "\n",
    "maxcorr_x = np.argmax(x_corr_size)\n",
    "maxcorr = x_corr_size[maxcorr_x]\n",
    "print(\"Max correlation = {}, with p value = {}\".format(maxcorr, p_values[maxcorr_x]))"
   ]
  },
  {
   "cell_type": "code",
   "execution_count": null,
   "metadata": {},
   "outputs": [],
   "source": [
    "X_t = torch.from_numpy(X_ica)\n",
    "thumbnails_t = torch.from_numpy(thumbnails).permute(0,3,1,2).type(torch.float32)  # turn to NCHW for tensorboardX embedding\n",
    "print(X_t.shape)\n",
    "print(thumbnails_t.shape)\n",
    "writer.add_embedding(X_t, label_img=thumbnails_t)"
   ]
  },
  {
   "cell_type": "code",
   "execution_count": null,
   "metadata": {},
   "outputs": [],
   "source": [
    "# Check sprite:\n",
    "from imageio import imread\n",
    "sprite = imread(sprite_file)"
   ]
  },
  {
   "cell_type": "code",
   "execution_count": null,
   "metadata": {},
   "outputs": [],
   "source": [
    "plt.imshow(sprite)\n",
    "print(sprite.dtype)\n",
    "print(np.unique(sprite))"
   ]
  },
  {
   "cell_type": "code",
   "execution_count": null,
   "metadata": {},
   "outputs": [],
   "source": [
    "\"\"\"\n",
    "import tensorflow as tf\n",
    "from tensorflow.contrib.tensorboard.plugins import projector\n",
    "\n",
    "\n",
    "tf_X = tf.Variable(X_new, trainable=False)\n",
    "saver = tf.train.Saver([tf_X])\n",
    "\n",
    "# based on https://www.easy-tensorflow.com/tf-tutorials/tensorboard/tb-embedding-visualization\n",
    "# http://www.pinchofintelligence.com/simple-introduction-to-tensorboard-embedding-visualisation/\n",
    "\n",
    "th_size = (100,) * 2\n",
    "with tf.Session() as sess:\n",
    "\n",
    "    sess.run(tf_X.initializer)\n",
    "\n",
    "    writer = tf.summary.FileWriter(str(log_dir /\"projector\"), sess.graph)\n",
    "\n",
    "    config = projector.ProjectorConfig()\n",
    "    embedding = config.embeddings.add()\n",
    "    embedding.tensor_name = 'embeddingding:0'\n",
    "    embedding.sprite.image_path = str(log_dir/\"projector\"/sprite_file)\n",
    "    projector.visualize_embeddings(summary_writer=writer, config=config)\n",
    "    \n",
    "    dir(embedding.sprite)\n",
    "import inspect\n",
    "inspect.getmembers(embedding.sprite)\n",
    "\n",
    "\"\"\""
   ]
  },
  {
   "cell_type": "code",
   "execution_count": null,
   "metadata": {},
   "outputs": [],
   "source": [
    "print(X_new)"
   ]
  },
  {
   "cell_type": "markdown",
   "metadata": {},
   "source": [
    "# Clustering"
   ]
  },
  {
   "cell_type": "code",
   "execution_count": null,
   "metadata": {},
   "outputs": [],
   "source": [
    "### Clustering\n",
    "birch = Birch(threshold=0.5, branching_factor=50, n_clusters=3)\n",
    "birch.fit(X_new)\n",
    "labels = birch.predict(X_new)\n"
   ]
  },
  {
   "cell_type": "markdown",
   "metadata": {},
   "source": [
    "# Prediction"
   ]
  },
  {
   "cell_type": "code",
   "execution_count": null,
   "metadata": {},
   "outputs": [],
   "source": [
    "labels = np.loadtxt(labels_file, delimiter='\\t')"
   ]
  },
  {
   "cell_type": "code",
   "execution_count": null,
   "metadata": {},
   "outputs": [],
   "source": [
    "X_train = X_new[0:-500, :]\n",
    "y_train = labels\n",
    "X_test = X_new[500:, :]\n",
    "y_train = labels[0:-500]\n",
    "y_test = labels[500:]\n",
    "xgbc = XGBClassifier(max_dept = 5, n_estimators = 150, subsample = 0.8)\n",
    "xgbc.fit(X_train, y_train)"
   ]
  },
  {
   "cell_type": "code",
   "execution_count": null,
   "metadata": {},
   "outputs": [],
   "source": [
    "y_hat = xgbc.predict(X_test)\n",
    "acc = np.mean(y_hat == y_test)\n",
    "print(acc)"
   ]
  },
  {
   "cell_type": "code",
   "execution_count": null,
   "metadata": {},
   "outputs": [],
   "source": []
  }
 ],
 "metadata": {
  "kernelspec": {
   "display_name": "Python 3",
   "language": "python",
   "name": "python3"
  },
  "language_info": {
   "codemirror_mode": {
    "name": "ipython",
    "version": 3
   },
   "file_extension": ".py",
   "mimetype": "text/x-python",
   "name": "python",
   "nbconvert_exporter": "python",
   "pygments_lexer": "ipython3",
   "version": "3.6.6"
  }
 },
 "nbformat": 4,
 "nbformat_minor": 2
}
