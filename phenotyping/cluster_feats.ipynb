{
 "cells": [
  {
   "cell_type": "code",
   "execution_count": 1,
   "metadata": {},
   "outputs": [],
   "source": [
    "import os, sys\n",
    "import argparse\n",
    "import numpy as np\n",
    "from pathlib import Path\n",
    "from sklearn.decomposition import PCA, FastICA\n",
    "from sklearn.preprocessing import StandardScaler\n",
    "\n",
    "import matplotlib.pyplot as plt\n",
    "import seaborn as sns\n",
    "import time\n",
    "import torch\n",
    "from scipy.stats import mode\n",
    "\n",
    "from tensorboardX import SummaryWriter\n",
    "\n",
    "from PIL import Image\n",
    "import cv2\n",
    "\n",
    "from sklearn.cluster import Birch\n",
    "\n",
    "\n",
    "\n",
    "### Args:\n",
    "features_file = \"/Users/andreachatrian/Desktop/f1/feats_epoch_.411_loss_0.20396_acc_0.95000_dice_0.93000_lr_0.0000103566.txt\"\n",
    "thumbnails_file = \"/Users/andreachatrian/Desktop/f1/thumbnails_epoch_.411_loss_0.20396_acc_0.95000_dice_0.93000_lr_0.0000103566.npy\"\n",
    "sprite_file = \"/Users/andreachatrian/Desktop/f1/sprite_epoch_.411_loss_0.20396_acc_0.95000_dice_0.93000_lr_0.0000103566.png\"\n",
    "thumbnail_size = 64\n",
    "pca_reduce = 2/3\n",
    "###"
   ]
  },
  {
   "cell_type": "markdown",
   "metadata": {},
   "source": [
    "# Preprocess"
   ]
  },
  {
   "cell_type": "code",
   "execution_count": 2,
   "metadata": {},
   "outputs": [
    {
     "name": "stdout",
     "output_type": "stream",
     "text": [
      "X's shape is  (5267, 12096)\n",
      "Run in 61.11619305610657s\n"
     ]
    }
   ],
   "source": [
    "### Preprocessing and visualization ###\n",
    "run_time = time.time()\n",
    "with open(features_file, 'r') as feats_file:\n",
    "    X = np.loadtxt(feats_file, skiprows=1)  # need to skip header row (?)\n",
    "    #X = X[0:-(170 * 4 + 1), ...] # test glands are repeated\n",
    "run_time = time.time() - run_time\n",
    "print(\"X's shape is \", X.shape)\n",
    "print(\"Run in {}s\".format(run_time))"
   ]
  },
  {
   "cell_type": "markdown",
   "metadata": {},
   "source": [
    "# Embedding"
   ]
  },
  {
   "cell_type": "code",
   "execution_count": 7,
   "metadata": {},
   "outputs": [
    {
     "name": "stdout",
     "output_type": "stream",
     "text": [
      "True\n"
     ]
    }
   ],
   "source": [
    "# Check X:\n",
    "good = np.any(np.isfinite(X))\n",
    "print(good)"
   ]
  },
  {
   "cell_type": "code",
   "execution_count": 9,
   "metadata": {},
   "outputs": [
    {
     "name": "stdout",
     "output_type": "stream",
     "text": [
      "True\n"
     ]
    }
   ],
   "source": [
    "# Preprocessing\n",
    "X = StandardScaler().fit_transform(X)"
   ]
  },
  {
   "cell_type": "code",
   "execution_count": 10,
   "metadata": {},
   "outputs": [
    {
     "name": "stdout",
     "output_type": "stream",
     "text": [
      "X_new's shape is  (5267, 5267)\n",
      "Run in 112.33021807670593s\n"
     ]
    }
   ],
   "source": [
    "# For t-SNE, PCA is recommended as a first step to reduce dimensionality\n",
    "run_time = time.time()\n",
    "pca = PCA(n_components=int(X.shape[1]*pca_reduce), whiten=True)  # reduce number of features\n",
    "#dec = FastICA(n_components=int(X.shape[1]*pca_reduce), whiten=True, max_iter=200)\n",
    "# !!! it is possible to generative negative eigenvalue and make the algorithm fail with large matrix that has determinant close to zero\n",
    "# for ICA, should reduce the number of comoponents to number (rule of thumb, as many as 99% variance explanation in PCA)\n",
    "pca = pca.fit(X)\n",
    "X_new = pca.transform(X)\n",
    "run_time = time.time() - run_time\n",
    "print(\"X_new's shape is \", X_new.shape)\n",
    "print(\"Run in {}s\".format(run_time))"
   ]
  },
  {
   "cell_type": "code",
   "execution_count": 20,
   "metadata": {},
   "outputs": [
    {
     "name": "stdout",
     "output_type": "stream",
     "text": [
      "[5.01359774e-01 8.63085802e-02 5.08741189e-02 ... 3.24394861e-35\n",
      " 1.46880121e-35 2.66028322e-36]\n",
      "1373\n"
     ]
    },
    {
     "data": {
      "image/png": "[encoded data removed]",
      "text/plain": [
       "<matplotlib.figure.Figure at 0x187262c50>"
      ]
     },
     "metadata": {},
     "output_type": "display_data"
    }
   ],
   "source": [
    "sns.set(style=\"darkgrid\")\n",
    "plt.plot(pca.explained_variance_ratio_)\n",
    "print(pca.explained_variance_ratio_)\n",
    "\n",
    "cum_var = np.cumsum(pca.explained_variance_ratio_)\n",
    "plt.plot(cum_var)\n",
    "ninetynine = np.where(cum_var > 0.99)[0][0]\n",
    "print(ninetynine)"
   ]
  },
  {
   "cell_type": "code",
   "execution_count": 23,
   "metadata": {},
   "outputs": [
    {
     "name": "stdout",
     "output_type": "stream",
     "text": [
      "X_new's shape is  (5267, 1373)\n",
      "Run in 596.3380219936371s\n"
     ]
    }
   ],
   "source": [
    "# For t-SNE, PCA is recommended as a first step to reduce dimensionality\n",
    "run_time = time.time()\n",
    "dec = FastICA(n_components=ninetynine, whiten=True, max_iter=400)\n",
    "# !!! it is possible to generative negative eigenvalue and make the algorithm fail with large matrix that has determinant close to zero\n",
    "# for ICA, should reduce the number of comoponents to number (rule of thumb, as many as 99% variance explanation in PCA)\n",
    "dec = dec.fit(X)\n",
    "X_new = dec.transform(X)\n",
    "run_time = time.time() - run_time\n",
    "print(\"X_new's shape is \", X_new.shape)\n",
    "print(\"Run in {}s\".format(run_time))"
   ]
  },
  {
   "cell_type": "code",
   "execution_count": 24,
   "metadata": {},
   "outputs": [],
   "source": [
    "# Open thumbnails file\n",
    "with open(thumbnails_file, 'rb') as tnbs_file:\n",
    "    thumbnails = np.load(tnbs_file)"
   ]
  },
  {
   "cell_type": "code",
   "execution_count": 25,
   "metadata": {},
   "outputs": [],
   "source": [
    "# t-SNE with tensorboard\n",
    "log_dir = Path(features_file).parent/\"projector\"\n",
    "try:\n",
    "    os.mkdir(log_dir)\n",
    "except FileExistsError:\n",
    "    pass\n",
    "writer = SummaryWriter(log_dir=str(log_dir))"
   ]
  },
  {
   "cell_type": "code",
   "execution_count": 26,
   "metadata": {},
   "outputs": [
    {
     "name": "stdout",
     "output_type": "stream",
     "text": [
      "torch.Size([5267, 1373])\n",
      "torch.Size([5267, 3, 100, 100])\n",
      "warning: Embedding dir exists, did you set global_step for add_embedding()?\n"
     ]
    }
   ],
   "source": [
    "X_t = torch.from_numpy(X_new)\n",
    "thumbnails_t = torch.from_numpy(thumbnails).permute(0,3,1,2).type(torch.float32)  # turn to NCHW for tensorboardX embedding\n",
    "print(X_t.shape)\n",
    "print(thumbnails_t.shape)\n",
    "writer.add_embedding(X_t, label_img=thumbnails_t)"
   ]
  },
  {
   "cell_type": "code",
   "execution_count": null,
   "metadata": {},
   "outputs": [],
   "source": [
    "print(thumbnails.shape)\n",
    "print(np.unique(thumbnails))\n"
   ]
  },
  {
   "cell_type": "code",
   "execution_count": null,
   "metadata": {},
   "outputs": [],
   "source": [
    "\"\"\"\n",
    "import tensorflow as tf\n",
    "from tensorflow.contrib.tensorboard.plugins import projector\n",
    "\n",
    "\n",
    "tf_X = tf.Variable(X_new, trainable=False)\n",
    "saver = tf.train.Saver([tf_X])\n",
    "\n",
    "# based on https://www.easy-tensorflow.com/tf-tutorials/tensorboard/tb-embedding-visualization\n",
    "# http://www.pinchofintelligence.com/simple-introduction-to-tensorboard-embedding-visualisation/\n",
    "\n",
    "th_size = (100,) * 2\n",
    "with tf.Session() as sess:\n",
    "\n",
    "    sess.run(tf_X.initializer)\n",
    "\n",
    "    writer = tf.summary.FileWriter(str(log_dir /\"projector\"), sess.graph)\n",
    "\n",
    "    config = projector.ProjectorConfig()\n",
    "    embedding = config.embeddings.add()\n",
    "    embedding.tensor_name = 'embeddingding:0'\n",
    "    embedding.sprite.image_path = str(log_dir/\"projector\"/sprite_file)\n",
    "    projector.visualize_embeddings(summary_writer=writer, config=config)\n",
    "    \n",
    "    dir(embedding.sprite)\n",
    "import inspect\n",
    "inspect.getmembers(embedding.sprite)\n",
    "\n",
    "\"\"\""
   ]
  },
  {
   "cell_type": "markdown",
   "metadata": {},
   "source": [
    "# Clustering"
   ]
  },
  {
   "cell_type": "code",
   "execution_count": null,
   "metadata": {},
   "outputs": [],
   "source": [
    "### Clustering\n",
    "birch = Birch(threshold=0.5, branching_factor=50, n_clusters=3)\n",
    "birch.fit(X_new)\n",
    "labels = birch.predict(X_new)\n"
   ]
  },
  {
   "cell_type": "code",
   "execution_count": null,
   "metadata": {},
   "outputs": [],
   "source": [
    "import sys\n",
    "sys.executable"
   ]
  },
  {
   "cell_type": "code",
   "execution_count": null,
   "metadata": {},
   "outputs": [],
   "source": []
  }
 ],
 "metadata": {
  "kernelspec": {
   "display_name": "Python 3",
   "language": "python",
   "name": "python3"
  },
  "language_info": {
   "codemirror_mode": {
    "name": "ipython",
    "version": 3
   },
   "file_extension": ".py",
   "mimetype": "text/x-python",
   "name": "python",
   "nbconvert_exporter": "python",
   "pygments_lexer": "ipython3",
   "version": "3.6.6"
  }
 },
 "nbformat": 4,
 "nbformat_minor": 2
}
