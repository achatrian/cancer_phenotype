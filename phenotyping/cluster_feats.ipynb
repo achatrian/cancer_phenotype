{
 "cells": [
  {
   "cell_type": "code",
   "execution_count": 1,
   "metadata": {},
   "outputs": [],
   "source": [
    "import os, sys\n",
    "import argparse\n",
    "import numpy as np\n",
    "from pathlib import Path\n",
    "\n",
    "import matplotlib.pyplot as plt\n",
    "import seaborn as sns\n",
    "import time\n",
    "import torch\n",
    "from scipy.stats import mode\n",
    "\n",
    "from tensorboardX import SummaryWriter\n",
    "import imageio\n",
    "import cv2\n",
    "from sklearn.decomposition import PCA, FastICA\n",
    "from sklearn.preprocessing import StandardScaler\n",
    "from sklearn.cluster import Birch\n",
    "\n",
    "### Args:\n",
    "features_file = \"/Users/andreachatrian/Documents/Repositories/ProstateCancer/Results/feats_epoch_.411_loss_0.20396_acc_0.95000_dice_0.93000_lr_0.0000103566.csv\"\n",
    "thumbnails_file = \"/Users/andreachatrian/Documents/Repositories/ProstateCancer/Results/thumbnails_epoch_.411_loss_0.20396_acc_0.95000_dice_0.93000_lr_0.0000103566.npy\"\n",
    "sprite_file = \"/Users/andreachatrian/Documents/Repositories/ProstateCancer/Results/sprite_epoch_.411_loss_0.20396_acc_0.95000_dice_0.93000_lr_0.0000103566.png\"\n",
    "thumbnail_size = 64\n",
    "pca_reduce = 2/3\n",
    "###\n",
    "\n",
    "def create_sprite_image(images):\n",
    "    \"\"\"Returns a sprite image consisting of images passed as argument. Images should be count x width x height\"\"\"\n",
    "    if isinstance(images, list):\n",
    "        images = np.array(images)\n",
    "    img_h = images.shape[1]\n",
    "    img_w = images.shape[2]\n",
    "    n_plots = int(np.ceil(np.sqrt(images.shape[0])))\n",
    "\n",
    "    spriteimage = np.ones((img_h * n_plots, img_w * n_plots, 3))\n",
    "\n",
    "    for i in range(n_plots):\n",
    "        for j in range(n_plots):\n",
    "            this_filter = i * n_plots + j\n",
    "            if this_filter < images.shape[0]:\n",
    "                this_img = images[this_filter]\n",
    "                spriteimage[i * img_h:(i + 1) * img_h,\n",
    "                j * img_w:(j + 1) * img_w] = this_img\n",
    "\n",
    "    return spriteimage"
   ]
  },
  {
   "cell_type": "markdown",
   "metadata": {},
   "source": [
    "# Preprocess"
   ]
  },
  {
   "cell_type": "code",
   "execution_count": 2,
   "metadata": {},
   "outputs": [
    {
     "name": "stdout",
     "output_type": "stream",
     "text": [
      "X's shape is  (4618, 13828)\n",
      "Run in 74.30095887184143s\n"
     ]
    }
   ],
   "source": [
    "### Preprocessing and visualization ###\n",
    "run_time = time.time()\n",
    "with open(features_file, 'r') as feats_file:\n",
    "    X = np.loadtxt(feats_file, skiprows=1)  # need to skip header row (?)\n",
    "run_time = time.time() - run_time\n",
    "print(\"X's shape is \", X.shape)\n",
    "print(\"Run in {}s\".format(run_time))"
   ]
  },
  {
   "cell_type": "code",
   "execution_count": 3,
   "metadata": {},
   "outputs": [
    {
     "data": {
      "text/plain": [
       "array([13824, 13825, 13826])"
      ]
     },
     "execution_count": 3,
     "metadata": {},
     "output_type": "execute_result"
    }
   ],
   "source": [
    "np.where(np.isnan(X[0,:]))[0]"
   ]
  },
  {
   "cell_type": "markdown",
   "metadata": {},
   "source": [
    "# Embedding"
   ]
  },
  {
   "cell_type": "code",
   "execution_count": 7,
   "metadata": {},
   "outputs": [
    {
     "name": "stdout",
     "output_type": "stream",
     "text": [
      "True\n",
      "(4618, 100, 100, 3)\n"
     ]
    }
   ],
   "source": [
    "# Check X:\n",
    "good = np.all(np.isfinite(X))\n",
    "print(good)\n",
    "print(thumbnails.shape)\n",
    "\n",
    "if not good:\n",
    "    for i, tn in enumerate(thumbnails):\n",
    "        X[i,13824] = tn[...,0].mean()\n",
    "        X[i,13825] = tn[...,1].mean()\n",
    "        X[i,13826] = tn[...,2].mean()\n",
    "        \n",
    "X[np.isnan(X)] = 0.0"
   ]
  },
  {
   "cell_type": "code",
   "execution_count": 8,
   "metadata": {},
   "outputs": [],
   "source": [
    "# Preprocessing\n",
    "X = StandardScaler().fit_transform(X)"
   ]
  },
  {
   "cell_type": "code",
   "execution_count": 10,
   "metadata": {},
   "outputs": [
    {
     "name": "stdout",
     "output_type": "stream",
     "text": [
      "X_new's shape is  (4618, 4618)\n",
      "Run in 80.0633909702301s\n"
     ]
    }
   ],
   "source": [
    "# For t-SNE, PCA is recommended as a first step to reduce dimensionality\n",
    "run_time = time.time()\n",
    "pca = PCA(n_components=int(X.shape[1]*pca_reduce), whiten=True)  # reduce number of features\n",
    "#dec = FastICA(n_components=int(X.shape[1]*pca_reduce), whiten=True, max_iter=200)\n",
    "# !!! it is possible to generative negative eigenvalue and make the algorithm fail with large matrix that has determinant close to zero\n",
    "# for ICA, should reduce the number of comoponents to number (rule of thumb, as many as 99% variance explanation in PCA)\n",
    "pca = pca.fit(X)\n",
    "X_new = pca.transform(X)\n",
    "run_time = time.time() - run_time\n",
    "print(\"X_new's shape is \", X_new.shape)\n",
    "print(\"Run in {}s\".format(run_time))"
   ]
  },
  {
   "cell_type": "code",
   "execution_count": 11,
   "metadata": {},
   "outputs": [
    {
     "name": "stdout",
     "output_type": "stream",
     "text": [
      "[5.30572529e-01 1.78258381e-01 4.24263556e-02 ... 4.68786714e-08\n",
      " 4.57180960e-08 5.33629203e-33]\n",
      "621\n"
     ]
    },
    {
     "data": {
      "image/png": "[encoded data removed]",
      "text/plain": [
       "<Figure size 432x288 with 1 Axes>"
      ]
     },
     "metadata": {},
     "output_type": "display_data"
    }
   ],
   "source": [
    "sns.set(style=\"darkgrid\")\n",
    "plt.plot(pca.explained_variance_ratio_)\n",
    "print(pca.explained_variance_ratio_)\n",
    "\n",
    "cum_var = np.cumsum(pca.explained_variance_ratio_)\n",
    "plt.plot(cum_var)\n",
    "ninetynine = np.where(cum_var > 0.99)[0][0]\n",
    "print(ninetynine)"
   ]
  },
  {
   "cell_type": "code",
   "execution_count": 12,
   "metadata": {},
   "outputs": [
    {
     "name": "stderr",
     "output_type": "stream",
     "text": [
      "/Users/andreachatrian/miniconda3/lib/python3.6/site-packages/scipy/linalg/basic.py:1321: RuntimeWarning: internal gelsd driver lwork query error, required iwork dimension not returned. This is likely the result of LAPACK bug 0038, fixed in LAPACK 3.2.2 (released July 21, 2010). Falling back to 'gelss' driver.\n",
      "  x, resids, rank, s = lstsq(a, b, cond=cond, check_finite=False)\n"
     ]
    },
    {
     "name": "stdout",
     "output_type": "stream",
     "text": [
      "X_new's shape is  (4618, 621)\n",
      "Run in 127.89592003822327s\n"
     ]
    }
   ],
   "source": [
    "# For t-SNE, PCA is recommended as a first step to reduce dimensionality\n",
    "run_time = time.time()\n",
    "dec = FastICA(n_components=ninetynine, whiten=True, max_iter=400)\n",
    "# !!! it is possible to generative negative eigenvalue and make the algorithm fail with large matrix that has determinant close to zero\n",
    "# for ICA, should reduce the number of comoponents to number (rule of thumb, as many as 99% variance explanation in PCA)\n",
    "dec = dec.fit(X)\n",
    "X_new = dec.transform(X)\n",
    "run_time = time.time() - run_time\n",
    "print(\"X_new's shape is \", X_new.shape)\n",
    "print(\"Run in {}s\".format(run_time))"
   ]
  },
  {
   "cell_type": "code",
   "execution_count": 13,
   "metadata": {},
   "outputs": [],
   "source": [
    "# Open thumbnails file\n",
    "with open(thumbnails_file, 'rb') as tnbs_file:\n",
    "    thumbnails = np.load(tnbs_file)\n",
    "    \n",
    "#sprite = create_sprite_image(thumbnails.astype(np.uint8).clip(0,255))"
   ]
  },
  {
   "cell_type": "code",
   "execution_count": 14,
   "metadata": {},
   "outputs": [],
   "source": [
    "# t-SNE with tensorboard\n",
    "log_dir = Path(features_file).parent/\"projector\"\n",
    "try:\n",
    "    os.mkdir(log_dir)\n",
    "except FileExistsError:\n",
    "    pass\n",
    "writer = SummaryWriter(log_dir=str(log_dir))"
   ]
  },
  {
   "cell_type": "code",
   "execution_count": 15,
   "metadata": {},
   "outputs": [
    {
     "name": "stdout",
     "output_type": "stream",
     "text": [
      "torch.Size([4618, 621])\n",
      "torch.Size([4618, 3, 100, 100])\n",
      "warning: Embedding dir exists, did you set global_step for add_embedding()?\n"
     ]
    }
   ],
   "source": [
    "X_t = torch.from_numpy(X_new)\n",
    "thumbnails_t = torch.from_numpy(thumbnails).permute(0,3,1,2).type(torch.float32)  # turn to NCHW for tensorboardX embedding\n",
    "print(X_t.shape)\n",
    "print(thumbnails_t.shape)\n",
    "writer.add_embedding(X_t, label_img=thumbnails_t)"
   ]
  },
  {
   "cell_type": "code",
   "execution_count": null,
   "metadata": {},
   "outputs": [],
   "source": [
    "# Check thumbnails\n",
    "print(thumbnails.shape)\n",
    "print(np.unique(thumbnails))\n"
   ]
  },
  {
   "cell_type": "code",
   "execution_count": null,
   "metadata": {},
   "outputs": [],
   "source": [
    "\"\"\"\n",
    "import tensorflow as tf\n",
    "from tensorflow.contrib.tensorboard.plugins import projector\n",
    "\n",
    "\n",
    "tf_X = tf.Variable(X_new, trainable=False)\n",
    "saver = tf.train.Saver([tf_X])\n",
    "\n",
    "# based on https://www.easy-tensorflow.com/tf-tutorials/tensorboard/tb-embedding-visualization\n",
    "# http://www.pinchofintelligence.com/simple-introduction-to-tensorboard-embedding-visualisation/\n",
    "\n",
    "th_size = (100,) * 2\n",
    "with tf.Session() as sess:\n",
    "\n",
    "    sess.run(tf_X.initializer)\n",
    "\n",
    "    writer = tf.summary.FileWriter(str(log_dir /\"projector\"), sess.graph)\n",
    "\n",
    "    config = projector.ProjectorConfig()\n",
    "    embedding = config.embeddings.add()\n",
    "    embedding.tensor_name = 'embeddingding:0'\n",
    "    embedding.sprite.image_path = str(log_dir/\"projector\"/sprite_file)\n",
    "    projector.visualize_embeddings(summary_writer=writer, config=config)\n",
    "    \n",
    "    dir(embedding.sprite)\n",
    "import inspect\n",
    "inspect.getmembers(embedding.sprite)\n",
    "\n",
    "\"\"\""
   ]
  },
  {
   "cell_type": "markdown",
   "metadata": {},
   "source": [
    "# Clustering"
   ]
  },
  {
   "cell_type": "code",
   "execution_count": null,
   "metadata": {},
   "outputs": [],
   "source": [
    "### Clustering\n",
    "birch = Birch(threshold=0.5, branching_factor=50, n_clusters=3)\n",
    "birch.fit(X_new)\n",
    "labels = birch.predict(X_new)\n"
   ]
  },
  {
   "cell_type": "code",
   "execution_count": null,
   "metadata": {},
   "outputs": [],
   "source": [
    "import sys\n",
    "sys.executable"
   ]
  },
  {
   "cell_type": "code",
   "execution_count": null,
   "metadata": {},
   "outputs": [],
   "source": []
  }
 ],
 "metadata": {
  "kernelspec": {
   "display_name": "Python 3",
   "language": "python",
   "name": "python3"
  },
  "language_info": {
   "codemirror_mode": {
    "name": "ipython",
    "version": 3
   },
   "file_extension": ".py",
   "mimetype": "text/x-python",
   "name": "python",
   "nbconvert_exporter": "python",
   "pygments_lexer": "ipython3",
   "version": "3.6.6"
  }
 },
 "nbformat": 4,
 "nbformat_minor": 2
}
