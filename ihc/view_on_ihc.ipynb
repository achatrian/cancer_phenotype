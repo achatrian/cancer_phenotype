{
 "cells": [
  {
   "cell_type": "markdown",
   "metadata": {},
   "source": [
    "# Study the distribution of IHC cases"
   ]
  },
  {
   "cell_type": "code",
   "execution_count": 9,
   "metadata": {},
   "outputs": [],
   "source": [
    "from pathlib import Path\n",
    "import pandas as pd\n",
    "import numpy as np\n",
    "from matplotlib import pyplot as plt"
   ]
  },
  {
   "cell_type": "code",
   "execution_count": 16,
   "metadata": {},
   "outputs": [
    {
     "name": "stdout",
     "output_type": "stream",
     "text": [
      "10. Inflammation\n",
      "\n",
      "1. A small length of cancer (e.g. for CV would be <1mm) of any cancer that we are fairly confident of calling cancer morphologically and are confirming with IHC\n",
      "\n",
      "11. No time to review so IHC ordered pre emptively\n",
      "\n",
      "2. Foci that are suspicious of are cancer but only consist of a couple of glands such that we are unlikely to definitively call the focus cancer, but if lack basal cells will be ASAP\n",
      "\n",
      "3. Odd areas that we are not sure about morphologically what the diagnosis will ultimately be\n",
      "\n",
      "4. A longer length of cancer which has an unusual appearance e.g. well differentiated cancer or cancer with very few well differentiated glands widely spaced by benign/stroma. Or variant/unusual e.g. clear cell change/atrophic variant/PIN like adenocarcinoma\n",
      "\n",
      "5. Foci that are atypical but probably atrophic (benign)\n",
      "\n",
      "6. Small glands around PIN ? small foci of invasion or ASAP or just PIN\n",
      "\n",
      "9. Other and then explain in further details column\n",
      "\n"
     ]
    }
   ],
   "source": [
    "ihc_reasons_file = Path('/mnt/rescomp/projects/IHC_Request/data/documents/IHC_reasons.csv')\n",
    "ihc_reasons = pd.read_csv(ihc_reasons_file)\n",
    "for r in sorted(set(ihc_reasons['IHC reason']), key=lambda r: int(r[0])):\n",
    "    print(r + '\\n')"
   ]
  },
  {
   "cell_type": "code",
   "execution_count": 11,
   "metadata": {},
   "outputs": [],
   "source": [
    "ihc_reasons['IHC_reason_num'] = ihc_reasons['IHC reason'].map(lambda r: int(r[0]))"
   ]
  },
  {
   "cell_type": "code",
   "execution_count": 12,
   "metadata": {},
   "outputs": [
    {
     "data": {
      "text/plain": [
       "Text(0.5, 1.0, 'IHC order reasons')"
      ]
     },
     "execution_count": 12,
     "metadata": {},
     "output_type": "execute_result"
    },
    {
     "data": {
      "image/png": "[encoded data removed]",
      "text/plain": [
       "<Figure size 432x288 with 1 Axes>"
      ]
     },
     "metadata": {
      "needs_background": "light"
     },
     "output_type": "display_data"
    }
   ],
   "source": [
    "ihc_reasons['IHC_reason_num'].hist()\n",
    "plt.title('IHC order reasons')"
   ]
  },
  {
   "cell_type": "code",
   "execution_count": null,
   "metadata": {},
   "outputs": [],
   "source": []
  }
 ],
 "metadata": {
  "kernelspec": {
   "display_name": "Python 3",
   "language": "python",
   "name": "python3"
  },
  "language_info": {
   "codemirror_mode": {
    "name": "ipython",
    "version": 3
   },
   "file_extension": ".py",
   "mimetype": "text/x-python",
   "name": "python",
   "nbconvert_exporter": "python",
   "pygments_lexer": "ipython3",
   "version": "3.7.3"
  }
 },
 "nbformat": 4,
 "nbformat_minor": 4
}
